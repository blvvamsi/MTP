{
 "cells": [
  {
   "cell_type": "code",
   "execution_count": 54,
   "metadata": {},
   "outputs": [],
   "source": [
    "\n",
    "from pprint import pprint\n",
    "import pandas as pd\n",
    "import numpy as np\n",
    "import matplotlib.pyplot as plt\n",
    "%matplotlib inline\n",
    "import seaborn as sns\n",
    "import re\n",
    "sns.set()"
   ]
  },
  {
   "cell_type": "code",
   "execution_count": null,
   "metadata": {},
   "outputs": [],
   "source": []
  },
  {
   "cell_type": "code",
   "execution_count": null,
   "metadata": {},
   "outputs": [],
   "source": [
    "\n"
   ]
  },
  {
   "cell_type": "code",
   "execution_count": 56,
   "metadata": {},
   "outputs": [],
   "source": [
    "df['sentiment'] = ['pos' if (x>3) else 'neg' for x in df['stars']]"
   ]
  },
  {
   "cell_type": "code",
   "execution_count": 55,
   "metadata": {
    "scrolled": true
   },
   "outputs": [],
   "source": [
    "\n",
    "df = pd.read_csv(\"review.csv\", sep=\",\", low_memory=False, nrows=50000)"
   ]
  },
  {
   "cell_type": "code",
   "execution_count": 57,
   "metadata": {
    "scrolled": true
   },
   "outputs": [
    {
     "data": {
      "text/html": [
       "<div>\n",
       "<style scoped>\n",
       "    .dataframe tbody tr th:only-of-type {\n",
       "        vertical-align: middle;\n",
       "    }\n",
       "\n",
       "    .dataframe tbody tr th {\n",
       "        vertical-align: top;\n",
       "    }\n",
       "\n",
       "    .dataframe thead th {\n",
       "        text-align: right;\n",
       "    }\n",
       "</style>\n",
       "<table border=\"1\" class=\"dataframe\">\n",
       "  <thead>\n",
       "    <tr style=\"text-align: right;\">\n",
       "      <th></th>\n",
       "      <th>cool</th>\n",
       "      <th>business_id</th>\n",
       "      <th>funny</th>\n",
       "      <th>user_id</th>\n",
       "      <th>stars</th>\n",
       "      <th>text</th>\n",
       "      <th>review_id</th>\n",
       "      <th>date</th>\n",
       "      <th>useful</th>\n",
       "      <th>sentiment</th>\n",
       "    </tr>\n",
       "  </thead>\n",
       "  <tbody>\n",
       "    <tr>\n",
       "      <th>0</th>\n",
       "      <td>0</td>\n",
       "      <td>iCQpiavjjPzJ5_3gPD5Ebg</td>\n",
       "      <td>0</td>\n",
       "      <td>msQe1u7Z_XuqjGoqhB0J5g</td>\n",
       "      <td>2</td>\n",
       "      <td>The pizza was okay. Not the best I've had. I p...</td>\n",
       "      <td>x7mDIiDB3jEiPGPHOmDzyw</td>\n",
       "      <td>2011-02-25</td>\n",
       "      <td>0</td>\n",
       "      <td>neg</td>\n",
       "    </tr>\n",
       "    <tr>\n",
       "      <th>1</th>\n",
       "      <td>0</td>\n",
       "      <td>pomGBqfbxcqPv14c3XH-ZQ</td>\n",
       "      <td>0</td>\n",
       "      <td>msQe1u7Z_XuqjGoqhB0J5g</td>\n",
       "      <td>5</td>\n",
       "      <td>I love this place! My fiance And I go here atl...</td>\n",
       "      <td>dDl8zu1vWPdKGihJrwQbpw</td>\n",
       "      <td>2012-11-13</td>\n",
       "      <td>0</td>\n",
       "      <td>pos</td>\n",
       "    </tr>\n",
       "    <tr>\n",
       "      <th>2</th>\n",
       "      <td>1</td>\n",
       "      <td>jtQARsP6P-LbkyjbO1qNGg</td>\n",
       "      <td>1</td>\n",
       "      <td>msQe1u7Z_XuqjGoqhB0J5g</td>\n",
       "      <td>1</td>\n",
       "      <td>Terrible. Dry corn bread. Rib tips were all fa...</td>\n",
       "      <td>LZp4UX5zK3e-c5ZGSeo3kA</td>\n",
       "      <td>2014-10-23</td>\n",
       "      <td>3</td>\n",
       "      <td>neg</td>\n",
       "    </tr>\n",
       "    <tr>\n",
       "      <th>3</th>\n",
       "      <td>0</td>\n",
       "      <td>elqbBhBfElMNSrjFqW3now</td>\n",
       "      <td>0</td>\n",
       "      <td>msQe1u7Z_XuqjGoqhB0J5g</td>\n",
       "      <td>2</td>\n",
       "      <td>Back in 2005-2007 this place was my FAVORITE t...</td>\n",
       "      <td>Er4NBWCmCD4nM8_p1GRdow</td>\n",
       "      <td>2011-02-25</td>\n",
       "      <td>2</td>\n",
       "      <td>neg</td>\n",
       "    </tr>\n",
       "    <tr>\n",
       "      <th>4</th>\n",
       "      <td>0</td>\n",
       "      <td>Ums3gaP2qM3W1XcA5r6SsQ</td>\n",
       "      <td>0</td>\n",
       "      <td>msQe1u7Z_XuqjGoqhB0J5g</td>\n",
       "      <td>5</td>\n",
       "      <td>Delicious healthy food. The steak is amazing. ...</td>\n",
       "      <td>jsDu6QEJHbwP2Blom1PLCA</td>\n",
       "      <td>2014-09-05</td>\n",
       "      <td>0</td>\n",
       "      <td>pos</td>\n",
       "    </tr>\n",
       "  </tbody>\n",
       "</table>\n",
       "</div>"
      ],
      "text/plain": [
       "   cool             business_id  funny                 user_id  stars  \\\n",
       "0     0  iCQpiavjjPzJ5_3gPD5Ebg      0  msQe1u7Z_XuqjGoqhB0J5g      2   \n",
       "1     0  pomGBqfbxcqPv14c3XH-ZQ      0  msQe1u7Z_XuqjGoqhB0J5g      5   \n",
       "2     1  jtQARsP6P-LbkyjbO1qNGg      1  msQe1u7Z_XuqjGoqhB0J5g      1   \n",
       "3     0  elqbBhBfElMNSrjFqW3now      0  msQe1u7Z_XuqjGoqhB0J5g      2   \n",
       "4     0  Ums3gaP2qM3W1XcA5r6SsQ      0  msQe1u7Z_XuqjGoqhB0J5g      5   \n",
       "\n",
       "                                                text               review_id  \\\n",
       "0  The pizza was okay. Not the best I've had. I p...  x7mDIiDB3jEiPGPHOmDzyw   \n",
       "1  I love this place! My fiance And I go here atl...  dDl8zu1vWPdKGihJrwQbpw   \n",
       "2  Terrible. Dry corn bread. Rib tips were all fa...  LZp4UX5zK3e-c5ZGSeo3kA   \n",
       "3  Back in 2005-2007 this place was my FAVORITE t...  Er4NBWCmCD4nM8_p1GRdow   \n",
       "4  Delicious healthy food. The steak is amazing. ...  jsDu6QEJHbwP2Blom1PLCA   \n",
       "\n",
       "         date  useful sentiment  \n",
       "0  2011-02-25       0       neg  \n",
       "1  2012-11-13       0       pos  \n",
       "2  2014-10-23       3       neg  \n",
       "3  2011-02-25       2       neg  \n",
       "4  2014-09-05       0       pos  "
      ]
     },
     "execution_count": 57,
     "metadata": {},
     "output_type": "execute_result"
    }
   ],
   "source": [
    "df.head()"
   ]
  },
  {
   "cell_type": "code",
   "execution_count": 58,
   "metadata": {},
   "outputs": [],
   "source": [
    "df['review_length'] = df.text.map(len)"
   ]
  },
  {
   "cell_type": "code",
   "execution_count": 59,
   "metadata": {},
   "outputs": [
    {
     "data": {
      "image/png": "[encoded data removed]",
      "text/plain": [
       "<Figure size 1080x216 with 5 Axes>"
      ]
     },
     "metadata": {},
     "output_type": "display_data"
    }
   ],
   "source": [
    "ax = sns.FacetGrid(data=df, col='stars', xlim=(0, 2000)).map(plt.hist, 'review_length', bins=50)\n",
    "ax.axes[0][0].set(ylabel='number of reviews');"
   ]
  },
  {
   "cell_type": "code",
   "execution_count": 60,
   "metadata": {},
   "outputs": [],
   "source": [
    "df['text'] = df['text'].astype('str')"
   ]
  },
  {
   "cell_type": "code",
   "execution_count": 61,
   "metadata": {},
   "outputs": [
    {
     "name": "stdout",
     "output_type": "stream",
     "text": [
      "Postive Reviews:  32,384\n",
      "Negative Reviews:  13,345\n"
     ]
    }
   ],
   "source": [
    "pos_reviews = df.text[df.stars>3].values\n",
    "neg_reviews = df.text[df.stars<3].values\n",
    "print('Postive Reviews:  {:,}'.format(len(pos_reviews)))\n",
    "print('Negative Reviews:  {:,}'.format(len(neg_reviews)))"
   ]
  },
  {
   "cell_type": "code",
   "execution_count": 62,
   "metadata": {},
   "outputs": [],
   "source": [
    "from sklearn.feature_extraction import text \n",
    "extra_words = ['ve', 'like', 'got', 'Cleveland', 'just', \n",
    "               'don', 'really', 'said', 'told', 'ok',\n",
    "               'came', 'went', 'did', 'didn', 'good']\n",
    "stop_words = text.ENGLISH_STOP_WORDS.union(extra_words)"
   ]
  },
  {
   "cell_type": "code",
   "execution_count": 63,
   "metadata": {},
   "outputs": [
    {
     "name": "stderr",
     "output_type": "stream",
     "text": [
      "/Library/Frameworks/Python.framework/Versions/3.6/lib/python3.6/site-packages/sklearn/feature_extraction/text.py:286: UserWarning: Your stop_words may be inconsistent with your preprocessing. Tokenizing the stop words generated tokens ['cleveland'] not in stop_words.\n",
      "  sorted(inconsistent))\n"
     ]
    },
    {
     "name": "stdout",
     "output_type": "stream",
     "text": [
      "CPU times: user 3.62 s, sys: 164 ms, total: 3.78 s\n",
      "Wall time: 3.78 s\n"
     ]
    }
   ],
   "source": [
    "%%time\n",
    "from sklearn.feature_extraction.text import TfidfVectorizer\n",
    "\n",
    "# Create a vectorizer object to generate term document counts\n",
    "tfidf_pos = TfidfVectorizer(stop_words=stop_words, min_df=10, max_df=0.5, \n",
    "                        ngram_range=(1,1), token_pattern='[a-z][a-z]+')\n",
    "\n",
    "tfidf_neg = TfidfVectorizer(stop_words=stop_words, min_df=10, max_df=0.5, \n",
    "                        ngram_range=(1,1), token_pattern='[a-z][a-z]+')\n",
    "\n",
    "# Get random subset of reviews\n",
    "np.random.seed(38)\n",
    "num_reviews = 20000\n",
    "random_neg = np.random.choice(neg_reviews, size=num_reviews)\n",
    "random_pos = np.random.choice(pos_reviews, size=num_reviews)\n",
    "\n",
    "dicty = {'pizzas':'pizza', 'burgers':'burger', 'ordered':'order',\n",
    "         'prices':'price', 'topping':'toppings'}\n",
    "def replace_words(text, dicty):\n",
    "    '''Returns text with word substitutions made according\n",
    "       to the passed `dicty` dictionary'''\n",
    "    for i,j in dicty.items():\n",
    "        text = text.replace(i,j)\n",
    "    return text\n",
    "\n",
    "random_neg = [replace_words(w, dicty) for w in random_neg]\n",
    "random_pos = [replace_words(w, dicty) for w in random_pos]\n",
    "\n",
    "# Get the vectors\n",
    "neg_vectors = tfidf_neg.fit_transform(random_neg)\n",
    "pos_vectors = tfidf_pos.fit_transform(random_pos)"
   ]
  },
  {
   "cell_type": "code",
   "execution_count": 64,
   "metadata": {},
   "outputs": [],
   "source": [
    "# Store TFIDF vectors in a Pandas DataFrame to investigate further\n",
    "neg_df = pd.DataFrame(neg_vectors.todense(), columns=[tfidf_neg.get_feature_names()])\n",
    "pos_df = pd.DataFrame(pos_vectors.todense(), columns=[tfidf_pos.get_feature_names()])\n",
    "\n",
    "# get mean for each column (word): highest means are most important words\n",
    "col_means_neg = {}\n",
    "for col in neg_df:\n",
    "    col_means_neg[col] = neg_df[col].mean()\n",
    "\n",
    "col_means_pos = {}\n",
    "for col in pos_df:\n",
    "    col_means_pos[col] = pos_df[col].mean()"
   ]
  },
  {
   "cell_type": "code",
   "execution_count": 65,
   "metadata": {},
   "outputs": [
    {
     "name": "stdout",
     "output_type": "stream",
     "text": [
      "Top 8 words in POSITIVE reviews:[('great',), ('food',), ('place',), ('service',), ('best',), ('time',), ('friendly',), ('love',)]\n",
      "Top 8 words in NEGATIVE reviews:[('food',), ('service',), ('place',), ('order',), ('time',), ('minutes',), ('people',), ('bad',)]\n"
     ]
    }
   ],
   "source": [
    "no_top_words = 8\n",
    "\n",
    "print('Top %d words in POSITIVE reviews:' %no_top_words, end='')\n",
    "print(sorted(col_means_pos, key=col_means_pos.get, reverse=True)[:no_top_words])\n",
    "\n",
    "print('Top %d words in NEGATIVE reviews:' %no_top_words, end='')\n",
    "print(sorted(col_means_neg, key=col_means_neg.get, reverse=True)[:no_top_words])"
   ]
  },
  {
   "cell_type": "code",
   "execution_count": 66,
   "metadata": {},
   "outputs": [],
   "source": [
    "del neg_df\n",
    "del pos_df"
   ]
  },
  {
   "cell_type": "code",
   "execution_count": 67,
   "metadata": {},
   "outputs": [],
   "source": [
    "# LSA\n",
    "from gensim import corpora, models, similarities, matutils\n",
    "\n",
    "\n",
    "tfidf_pos_corpus = matutils.Sparse2Corpus(pos_vectors.transpose())\n",
    "tfidf_neg_corpus = matutils.Sparse2Corpus(neg_vectors.transpose())\n",
    "\n",
    "# Row indices\n",
    "id2word_pos = dict((v,k) for k,v in tfidf_pos.vocabulary_.items())\n",
    "id2word_neg = dict((v,k) for k,v in tfidf_neg.vocabulary_.items())\n",
    "\n",
    "\n",
    "id2word_pos = corpora.Dictionary.from_corpus(tfidf_pos_corpus, id2word=id2word_pos)\n",
    "id2word_neg = corpora.Dictionary.from_corpus(tfidf_neg_corpus, id2word=id2word_neg)"
   ]
  },
  {
   "cell_type": "code",
   "execution_count": 68,
   "metadata": {},
   "outputs": [],
   "source": [
    "num_topics = 20\n",
    "lsi_pos = models.LsiModel(tfidf_pos_corpus, id2word=id2word_pos, num_topics=num_topics)\n",
    "lsi_neg = models.LsiModel(tfidf_neg_corpus, id2word=id2word_neg, num_topics=num_topics)"
   ]
  },
  {
   "cell_type": "code",
   "execution_count": 69,
   "metadata": {},
   "outputs": [
    {
     "data": {
      "image/png": "[encoded data removed]",
      "text/plain": [
       "<Figure size 864x360 with 1 Axes>"
      ]
     },
     "metadata": {},
     "output_type": "display_data"
    }
   ],
   "source": [
    "singular_values_pos = lsi_pos.projection.s.tolist()\n",
    "singular_values_pos_rel = [sv/singular_values_pos[-1] for sv in singular_values_pos]\n",
    "singular_values_neg = lsi_neg.projection.s.tolist()\n",
    "singular_values_neg_rel = [sv/singular_values_neg[-1] for sv in singular_values_neg]\n",
    "\n",
    "plt.style.use('fivethirtyeight')\n",
    "plt.figure(figsize=(12,5))\n",
    "plt.plot(range(len(singular_values_pos)), singular_values_pos_rel, label='Positive Reviews', alpha=1.0)\n",
    "plt.plot(range(len(singular_values_neg)), singular_values_neg_rel, label='Negative Reviews', alpha=0.7)\n",
    "plt.xticks(range(len(singular_values_pos)), range(len(singular_values_pos)))\n",
    "plt.xlabel('Topic #')\n",
    "plt.ylabel('Relative Strength')\n",
    "plt.title('LSI Topic Strengths (Relative)')\n",
    "plt.legend(loc=0, fontsize='medium');\n"
   ]
  },
  {
   "cell_type": "code",
   "execution_count": 70,
   "metadata": {},
   "outputs": [
    {
     "name": "stdout",
     "output_type": "stream",
     "text": [
      "Top 5 topics for POSITIVE reviews\n",
      "---------------------------------\n",
      "[(0,\n",
      "  '0.308*\"great\" + 0.283*\"food\" + 0.254*\"place\" + 0.212*\"service\" + '\n",
      "  '0.147*\"friendly\" + 0.145*\"time\" + 0.138*\"love\" + 0.138*\"best\" + '\n",
      "  '0.136*\"staff\" + 0.126*\"amazing\"'),\n",
      " (1,\n",
      "  '-0.337*\"food\" + -0.179*\"chicken\" + -0.168*\"delicious\" + 0.167*\"hair\" + '\n",
      "  '0.167*\"job\" + 0.160*\"recommend\" + 0.155*\"work\" + -0.139*\"order\" + '\n",
      "  '0.138*\"time\" + 0.131*\"professional\"'),\n",
      " (2,\n",
      "  '-0.509*\"great\" + -0.354*\"food\" + -0.350*\"service\" + 0.242*\"pizza\" + '\n",
      "  '0.151*\"order\" + -0.106*\"excellent\" + -0.105*\"friendly\" + 0.103*\"best\" + '\n",
      "  '0.099*\"time\" + 0.093*\"chicken\"'),\n",
      " (3,\n",
      "  '0.769*\"pizza\" + 0.229*\"place\" + 0.228*\"great\" + 0.202*\"love\" + '\n",
      "  '-0.132*\"food\" + 0.107*\"staff\" + -0.101*\"chicken\" + -0.093*\"restaurant\" + '\n",
      "  '-0.086*\"xc\" + 0.083*\"friendly\"'),\n",
      " (4,\n",
      "  '-0.446*\"pizza\" + 0.438*\"place\" + 0.400*\"love\" + -0.315*\"service\" + '\n",
      "  '0.222*\"staff\" + -0.152*\"excellent\" + -0.148*\"xc\" + 0.142*\"friendly\" + '\n",
      "  '-0.127*\"customer\" + 0.118*\"nice\"')]\n"
     ]
    }
   ],
   "source": [
    "topics_to_print = 5\n",
    "print('Top %d topics for POSITIVE reviews' %(topics_to_print))\n",
    "print('-'*33)\n",
    "pprint(lsi_pos.show_topics()[0:topics_to_print])"
   ]
  },
  {
   "cell_type": "code",
   "execution_count": 71,
   "metadata": {},
   "outputs": [
    {
     "name": "stdout",
     "output_type": "stream",
     "text": [
      "Top 5 topics for NEGATIVE reviews\n",
      "---------------------------------\n",
      "[(0,\n",
      "  '0.277*\"food\" + 0.209*\"order\" + 0.204*\"service\" + 0.189*\"place\" + '\n",
      "  '0.170*\"time\" + 0.129*\"minutes\" + 0.104*\"restaurant\" + 0.098*\"asked\" + '\n",
      "  '0.096*\"bad\" + 0.094*\"people\"'),\n",
      " (1,\n",
      "  '-0.410*\"food\" + 0.257*\"car\" + -0.203*\"order\" + -0.163*\"chicken\" + '\n",
      "  '0.141*\"called\" + 0.132*\"customer\" + 0.116*\"company\" + 0.115*\"appointment\" + '\n",
      "  '-0.114*\"restaurant\" + 0.106*\"room\"'),\n",
      " (2,\n",
      "  '0.791*\"pizza\" + -0.326*\"food\" + 0.224*\"order\" + -0.204*\"service\" + '\n",
      "  '0.106*\"cheese\" + 0.100*\"sauce\" + 0.086*\"crust\" + 0.068*\"delivery\" + '\n",
      "  '0.067*\"wings\" + 0.064*\"called\"'),\n",
      " (3,\n",
      "  '0.367*\"minutes\" + 0.274*\"order\" + -0.204*\"place\" + 0.174*\"table\" + '\n",
      "  '0.172*\"waited\" + 0.161*\"service\" + -0.161*\"chicken\" + -0.147*\"price\" + '\n",
      "  '0.146*\"wait\" + -0.129*\"burger\"'),\n",
      " (4,\n",
      "  '-0.419*\"pizza\" + -0.403*\"service\" + -0.294*\"food\" + 0.206*\"order\" + '\n",
      "  '-0.205*\"customer\" + 0.176*\"burger\" + 0.156*\"chicken\" + 0.147*\"minutes\" + '\n",
      "  '-0.144*\"place\" + -0.140*\"worst\"')]\n"
     ]
    }
   ],
   "source": [
    "print('Top %d topics for NEGATIVE reviews' %(topics_to_print))\n",
    "print('-'*33)\n",
    "pprint(lsi_neg.show_topics()[0:topics_to_print])"
   ]
  },
  {
   "cell_type": "code",
   "execution_count": 72,
   "metadata": {},
   "outputs": [
    {
     "name": "stdout",
     "output_type": "stream",
     "text": [
      "CPU times: user 5.08 s, sys: 156 ms, total: 5.24 s\n",
      "Wall time: 4.68 s\n"
     ]
    }
   ],
   "source": [
    "%%time\n",
    "\n",
    "from sklearn.decomposition import NMF\n",
    "\n",
    "\n",
    "num_topics = 6\n",
    "\n",
    "nmf_pos = NMF(n_components=num_topics)\n",
    "W_pos = nmf_pos.fit_transform(pos_vectors)\n",
    "H_pos = nmf_pos.components_\n",
    "\n",
    "nmf_neg = NMF(n_components=num_topics)\n",
    "W_neg = nmf_neg.fit_transform(neg_vectors)\n",
    "H_neg = nmf_neg.components_"
   ]
  },
  {
   "cell_type": "code",
   "execution_count": 73,
   "metadata": {},
   "outputs": [
    {
     "name": "stdout",
     "output_type": "stream",
     "text": [
      "Top topics + words for POSITIVE reviews\n",
      "---------------------------------------\n",
      "Topic 0:   1.028*order, 0.978*chicken, 0.878*delicious, 0.846*food, 0.688*restaurant, 0.629*try\n",
      "Topic 1:   0.770*time, 0.615*recommend, 0.547*work, 0.509*job, 0.499*hair, 0.462*highly\n",
      "Topic 2:   2.257*place, 1.565*love, 1.078*staff, 0.915*friendly, 0.681*nice, 0.463*clean\n",
      "Topic 3:   2.917*pizza, 0.306*crust, 0.271*best, 0.195*cheese, 0.183*wings, 0.169*order\n",
      "Topic 4:   2.963*great, 2.151*food, 2.124*service, 0.708*excellent, 0.510*atmosphere, 0.409*price\n",
      "Topic 5:   2.199*xc, 1.695*xa, 0.309*et, 0.273*le, 0.231*est, 0.212*und\n",
      "\n",
      "Top topics + words for NEGATIVE reviews\n",
      "---------------------------------------\n",
      "Topic 0:   1.243*chicken, 0.920*burger, 0.671*order, 0.581*fries, 0.564*sauce, 0.561*rice\n",
      "Topic 1:   0.560*time, 0.541*customer, 0.505*room, 0.478*called, 0.443*service, 0.416*place\n",
      "Topic 2:   2.868*pizza, 0.344*order, 0.296*crust, 0.269*cheese, 0.249*sauce, 0.226*delivery\n",
      "Topic 3:   1.286*order, 1.224*minutes, 0.822*table, 0.563*wait, 0.563*server, 0.554*waited\n",
      "Topic 4:   2.798*food, 1.318*service, 0.780*place, 0.488*bad, 0.452*worst, 0.421*terrible\n",
      "Topic 5:   2.516*car, 0.354*oil, 0.351*wash, 0.264*vehicle, 0.254*dealership, 0.224*change\n"
     ]
    }
   ],
   "source": [
    "def display_topics(model, feature_names, num_topics, no_top_words):\n",
    "    for topic_idx, topic in enumerate(model.components_):\n",
    "        if topic_idx < num_topics:\n",
    "            print(\"{:11}\".format(\"Topic %d:\" %(topic_idx)), end='')\n",
    "            print(\", \".join(['{:04.3f}*'.format(topic[i])+feature_names[i] \\\n",
    "                             for i in topic.argsort()[:-no_top_words-1:-1]]))\n",
    "\n",
    "no_topics = num_topics\n",
    "no_top_words = 6\n",
    "\n",
    "print('Top topics + words for POSITIVE reviews')\n",
    "print('-'*39)\n",
    "display_topics(nmf_pos, tfidf_pos.get_feature_names(), no_topics, no_top_words)\n",
    "\n",
    "print('\\nTop topics + words for NEGATIVE reviews')\n",
    "print('-'*39)\n",
    "display_topics(nmf_neg, tfidf_neg.get_feature_names(), no_topics, no_top_words)"
   ]
  },
  {
   "cell_type": "code",
   "execution_count": 74,
   "metadata": {},
   "outputs": [
    {
     "name": "stdout",
     "output_type": "stream",
     "text": [
      "4065\n",
      "A Great Culinary Experience!\\n\\nI never write reviews.  I mean, ever.  But I feel that these guys deserve a review, no, they deserve praise!\\n\\nThe food was exquisite and the service was superb.  Imagine a small sandwich shop with four star food and service couple with a hip atmosphere. Truly an experience you have to see for yourself.\\n\\nI had a sandwich called \"miss piggy\".  An appropriate name for hardy meets healthy.  I never thought healthy can be both scrumptious and filling.  I can still taste it and can\\'t wait to try it again.\\n\\nI tell everyone I know about this truly under-rated cafe/restaurant I have ever encountered.  Somehow, I feel enriched by the experience.\\n\\nTHIS IS A MUST EXPERIENCE.  Take your friends, family and business associates for I guarantee all will enjoy!\n"
     ]
    }
   ],
   "source": [
    "review_num = np.random.randint(0, high=len(random_pos))\n",
    "print(review_num)\n",
    "print(random_pos[review_num])"
   ]
  },
  {
   "cell_type": "code",
   "execution_count": 75,
   "metadata": {},
   "outputs": [],
   "source": [
    "import sklearn.metrics.pairwise as smp\n",
    "\n",
    "cosines = {}\n",
    "for ind, review in enumerate(W_pos):\n",
    "    similarity = smp.cosine_similarity(W_pos[review_num].reshape(1,-1), review.reshape(1,-1))\n",
    "    cosines[ind] = similarity[0][0]"
   ]
  },
  {
   "cell_type": "code",
   "execution_count": 76,
   "metadata": {},
   "outputs": [
    {
     "name": "stdout",
     "output_type": "stream",
     "text": [
      "--------------------------------------------------\n",
      ">> Similarity 1.000\n",
      "A Great Culinary Experience!\\n\\nI never write reviews.  I mean, ever.  But I feel that these guys deserve a review, no, they deserve praise!\\n\\nThe food was exquisite and the service was superb.  Imagine a small sandwich shop with four star food and service couple with a hip atmosphere. Truly an experience you have to see for yourself.\\n\\nI had a sandwich called \"miss piggy\".  An appropriate name for hardy meets healthy.  I never thought healthy can be both scrumptious and filling.  I can still taste it and can\\'t wait to try it again.\\n\\nI tell everyone I know about this truly under-rated cafe/restaurant I have ever encountered.  Somehow, I feel enriched by the experience.\\n\\nTHIS IS A MUST EXPERIENCE.  Take your friends, family and business associates for I guarantee all will enjoy!\n",
      "--------------------------------------------------\n",
      ">> Similarity 1.000\n",
      "This use to be my stomping grounds when I lived in Calgary & I have to say it hasn't changed (which is a good thing). The food & service is still fantastic. We stayed a bit for the live band in the evening, but was disappointed at how long the band took a break. We were on a high & enjoyed the music in the lounge, but left after more than 30 minutes of waiting for the band to go on again.\n",
      "--------------------------------------------------\n",
      ">> Similarity 1.000\n",
      "This use to be my stomping grounds when I lived in Calgary & I have to say it hasn't changed (which is a good thing). The food & service is still fantastic. We stayed a bit for the live band in the evening, but was disappointed at how long the band took a break. We were on a high & enjoyed the music in the lounge, but left after more than 30 minutes of waiting for the band to go on again.\n",
      "--------------------------------------------------\n"
     ]
    }
   ],
   "source": [
    "for n in sorted(cosines, key=cosines.get, reverse=True)[1:4]:\n",
    "    print('-'*50)\n",
    "    print('>> Similarity {:.3f}'.format(cosines[n]))\n",
    "    print(random_pos[n])\n",
    "print('-'*50)"
   ]
  },
  {
   "cell_type": "code",
   "execution_count": 77,
   "metadata": {},
   "outputs": [
    {
     "name": "stderr",
     "output_type": "stream",
     "text": [
      "/Library/Frameworks/Python.framework/Versions/3.6/lib/python3.6/site-packages/sklearn/feature_extraction/text.py:286: UserWarning: Your stop_words may be inconsistent with your preprocessing. Tokenizing the stop words generated tokens ['cleveland'] not in stop_words.\n",
      "  sorted(inconsistent))\n"
     ]
    }
   ],
   "source": [
    "from sklearn.feature_extraction.text import CountVectorizer\n",
    "\n",
    "# Create a vectorizer object to generate term document counts\n",
    "cv_pos = CountVectorizer(stop_words=stop_words, min_df=10, max_df=0.5, \n",
    "                        ngram_range=(1,1), token_pattern='[a-z][a-z]+')\n",
    "\n",
    "cv_neg = CountVectorizer(stop_words=stop_words, min_df=10, max_df=0.5, \n",
    "                        ngram_range=(1,1), token_pattern='[a-z][a-z]+')\n",
    "\n",
    "# Get random subset of reviews\n",
    "np.random.seed(38)\n",
    "num_reviews = 15000\n",
    "cv_random_neg = np.random.choice(neg_reviews, size=num_reviews)\n",
    "cv_random_pos = np.random.choice(pos_reviews, size=num_reviews)\n",
    "\n",
    "# replace words from defined dictionary 'dicty'\n",
    "cv_random_neg = [replace_words(w, dicty) for w in cv_random_neg]\n",
    "cv_random_pos = [replace_words(w, dicty) for w in cv_random_pos]\n",
    "\n",
    "# Get the cv vectors\n",
    "cv_neg_vectors = cv_neg.fit_transform(cv_random_neg).transpose()\n",
    "cv_pos_vectors = cv_pos.fit_transform(cv_random_pos).transpose()"
   ]
  },
  {
   "cell_type": "code",
   "execution_count": 78,
   "metadata": {},
   "outputs": [],
   "source": [
    "corpus_neg = matutils.Sparse2Corpus(cv_neg_vectors)\n",
    "corpus_pos = matutils.Sparse2Corpus(cv_pos_vectors)\n",
    "\n",
    "# save a mapping (dict) of row id to word (token) for later use by gensim \n",
    "id2word_cv_pos = dict((v, k) for k, v in cv_pos.vocabulary_.items())\n",
    "id2word_cv_neg = dict((v, k) for k, v in cv_neg.vocabulary_.items())"
   ]
  },
  {
   "cell_type": "code",
   "execution_count": null,
   "metadata": {},
   "outputs": [],
   "source": []
  },
  {
   "cell_type": "code",
   "execution_count": null,
   "metadata": {},
   "outputs": [],
   "source": []
  },
  {
   "cell_type": "code",
   "execution_count": 79,
   "metadata": {},
   "outputs": [
    {
     "name": "stdout",
     "output_type": "stream",
     "text": [
      "Top topics + words for POSITIVE reviews\n",
      "---------------------------------------\n",
      "Topic 0:   1.028*order, 0.978*chicken, 0.878*delicious, 0.846*food, 0.688*restaurant, 0.629*try\n",
      "Topic 1:   0.770*time, 0.615*recommend, 0.547*work, 0.509*job, 0.499*hair, 0.462*highly\n",
      "Topic 2:   2.257*place, 1.565*love, 1.078*staff, 0.915*friendly, 0.681*nice, 0.463*clean\n",
      "Topic 3:   2.917*pizza, 0.306*crust, 0.271*best, 0.195*cheese, 0.183*wings, 0.169*order\n",
      "Topic 4:   2.963*great, 2.151*food, 2.124*service, 0.708*excellent, 0.510*atmosphere, 0.409*price\n",
      "Topic 5:   2.199*xc, 1.695*xa, 0.309*et, 0.273*le, 0.231*est, 0.212*und\n"
     ]
    }
   ],
   "source": [
    "print('Top topics + words for POSITIVE reviews')\n",
    "print('-'*39)\n",
    "display_topics(nmf_pos, tfidf_pos.get_feature_names(), no_topics, no_top_words)"
   ]
  },
  {
   "cell_type": "code",
   "execution_count": 80,
   "metadata": {},
   "outputs": [
    {
     "name": "stdout",
     "output_type": "stream",
     "text": [
      "Positive Review #8764\n",
      "-------------------------\n",
      "Great breakfast place, it's busy but the owner always makes sure to grab your name if there's a lineup\\n\\nMenu is great, I always take the Incredible, yum!!\n",
      "-------------------------\n",
      "Topic 4: 0.0305\n",
      "Topic 2: 0.0281\n",
      "Topic 0: 0.0025\n",
      "Topic 1: 0.0024\n",
      "Topic 3: 0.0003\n",
      "Topic 5: 0.0000\n"
     ]
    }
   ],
   "source": [
    "review_num = np.random.randint(0, high=len(random_pos))\n",
    "print('Positive Review #%d' %review_num)\n",
    "print('-'*25)\n",
    "print(random_pos[review_num])\n",
    "print('-'*25)\n",
    "topic_dict = {}\n",
    "for ind, w in enumerate(W_pos[review_num]):\n",
    "    topic_dict[ind] = w\n",
    "for k in sorted(topic_dict, key=topic_dict.get, reverse=True):\n",
    "     print('Topic {}: {:.4f}'.format(k, topic_dict[k]))"
   ]
  },
  {
   "cell_type": "code",
   "execution_count": 81,
   "metadata": {},
   "outputs": [
    {
     "name": "stdout",
     "output_type": "stream",
     "text": [
      "Top topics + words for NEGATIVE reviews\n",
      "---------------------------------------\n",
      "Topic 0:   1.243*chicken, 0.920*burger, 0.671*order, 0.581*fries, 0.564*sauce, 0.561*rice\n",
      "Topic 1:   0.560*time, 0.541*customer, 0.505*room, 0.478*called, 0.443*service, 0.416*place\n",
      "Topic 2:   2.868*pizza, 0.344*order, 0.296*crust, 0.269*cheese, 0.249*sauce, 0.226*delivery\n",
      "Topic 3:   1.286*order, 1.224*minutes, 0.822*table, 0.563*wait, 0.563*server, 0.554*waited\n",
      "Topic 4:   2.798*food, 1.318*service, 0.780*place, 0.488*bad, 0.452*worst, 0.421*terrible\n",
      "Topic 5:   2.516*car, 0.354*oil, 0.351*wash, 0.264*vehicle, 0.254*dealership, 0.224*change\n"
     ]
    }
   ],
   "source": [
    "print('Top topics + words for NEGATIVE reviews')\n",
    "print('-'*39)\n",
    "display_topics(nmf_neg, tfidf_neg.get_feature_names(), no_topics, no_top_words)"
   ]
  },
  {
   "cell_type": "code",
   "execution_count": 82,
   "metadata": {},
   "outputs": [
    {
     "name": "stdout",
     "output_type": "stream",
     "text": [
      "Negative Review #4602\n",
      "-------------------------\n",
      "Noticed the pub had a sign out for breakfast so we were excited to go try it. Thank goodness that we met some great friends otherwise the 75 minutes that we were there, would have been excruciating. I finally flagged down wait staff for a menu after sitting there for 15 minutes or more. Once drinks arrived, we were actually getting our own coffee refills. When the food arrived it was cold and the delivery disorganized. We wanted to leave long before the food arrived but felt trapped as the order had already been placed. Food arrived over an hour after we initially sat down when one of our party went and asked about the food. We watched 4 tables empty prior to getting food or drink due to lack of attention from the wait staff. The receipt was long and only noted meat and eggs so there was no way to determine that what we order VS what was delivered had been properly charged. At that point, we just paid the bill in order to gain freedom.\n",
      "-------------------------\n",
      "Topic 3: 0.0969\n",
      "Topic 4: 0.0524\n",
      "Topic 2: 0.0027\n",
      "Topic 0: 0.0000\n",
      "Topic 1: 0.0000\n",
      "Topic 5: 0.0000\n"
     ]
    }
   ],
   "source": [
    "review_num = np.random.randint(0, high=len(random_neg))\n",
    "print('Negative Review #%d' %review_num)\n",
    "print('-'*25)\n",
    "print(random_neg[review_num])\n",
    "print('-'*25)\n",
    "topic_dict = {}\n",
    "for ind, w in enumerate(W_neg[review_num]):\n",
    "    topic_dict[ind] = w\n",
    "for k in sorted(topic_dict, key=topic_dict.get, reverse=True):\n",
    "     print('Topic {}: {:.4f}'.format(k, topic_dict[k]))"
   ]
  },
  {
   "cell_type": "code",
   "execution_count": 83,
   "metadata": {},
   "outputs": [
    {
     "name": "stdout",
     "output_type": "stream",
     "text": [
      "Postive Reviews:  32,384\n",
      "Negative Reviews:  13,345\n"
     ]
    }
   ],
   "source": [
    "print('Postive Reviews:  {:,}'.format(len(pos_reviews)))\n",
    "print('Negative Reviews:  {:,}'.format(len(neg_reviews)))"
   ]
  },
  {
   "cell_type": "code",
   "execution_count": 84,
   "metadata": {},
   "outputs": [
    {
     "name": "stderr",
     "output_type": "stream",
     "text": [
      "/Library/Frameworks/Python.framework/Versions/3.6/lib/python3.6/site-packages/sklearn/feature_extraction/text.py:286: UserWarning: Your stop_words may be inconsistent with your preprocessing. Tokenizing the stop words generated tokens ['cleveland'] not in stop_words.\n",
      "  sorted(inconsistent))\n"
     ]
    },
    {
     "name": "stdout",
     "output_type": "stream",
     "text": [
      "CPU times: user 3.69 s, sys: 83.1 ms, total: 3.78 s\n",
      "Wall time: 3.78 s\n"
     ]
    }
   ],
   "source": [
    "%%time\n",
    "# Create a vectorizer object to generate term document counts\n",
    "tfidf_pos = TfidfVectorizer(stop_words=stop_words, min_df=10, max_df=0.5, \n",
    "                        ngram_range=(1,1), token_pattern='[a-z][a-z]+')\n",
    "\n",
    "tfidf_neg = TfidfVectorizer(stop_words=stop_words, min_df=10, max_df=0.5, \n",
    "                        ngram_range=(1,1), token_pattern='[a-z][a-z]+')\n",
    "\n",
    "# replace words with defined dictionary 'dicty'\n",
    "pos_reviews = [replace_words(w, dicty) for w in pos_reviews]\n",
    "neg_reviews = [replace_words(w, dicty) for w in neg_reviews]\n",
    "\n",
    "# Get the vectors\n",
    "neg_vectors = tfidf_neg.fit_transform(neg_reviews)\n",
    "pos_vectors = tfidf_pos.fit_transform(pos_reviews)"
   ]
  },
  {
   "cell_type": "code",
   "execution_count": 85,
   "metadata": {},
   "outputs": [
    {
     "name": "stdout",
     "output_type": "stream",
     "text": [
      "CPU times: user 4.23 s, sys: 146 ms, total: 4.37 s\n",
      "Wall time: 3.77 s\n"
     ]
    }
   ],
   "source": [
    "%%time\n",
    "# NMF for all reviews\n",
    "from sklearn.decomposition import NMF\n",
    "\n",
    "# change num_topics\n",
    "num_topics = 6\n",
    "\n",
    "nmf_pos = NMF(n_components=num_topics)\n",
    "W_pos = nmf_pos.fit_transform(pos_vectors)\n",
    "H_pos = nmf_pos.components_\n",
    "\n",
    "nmf_neg = NMF(n_components=num_topics)\n",
    "W_neg = nmf_neg.fit_transform(neg_vectors)\n",
    "H_neg = nmf_neg.components_"
   ]
  },
  {
   "cell_type": "code",
   "execution_count": 86,
   "metadata": {},
   "outputs": [
    {
     "name": "stdout",
     "output_type": "stream",
     "text": [
      "Topics for POSITIVE reviews\n",
      "---------------------------------------\n",
      "Topic 0:   1.076*order, 1.006*chicken, 0.947*delicious, 0.869*food, 0.744*restaurant, 0.683*burger\n",
      "Topic 1:   0.826*time, 0.690*recommend, 0.595*work, 0.550*job, 0.523*hair, 0.514*highly\n",
      "Topic 2:   2.446*great, 1.824*food, 1.640*service, 0.514*excellent, 0.418*price, 0.418*atmosphere\n",
      "Topic 3:   2.801*place, 1.941*love, 0.888*staff, 0.812*friendly, 0.591*nice, 0.461*coffee\n",
      "Topic 4:   3.533*pizza, 0.432*crust, 0.275*best, 0.229*wings, 0.214*toppingss, 0.188*fresh\n",
      "Topic 5:   2.421*xc, 1.847*xa, 0.366*et, 0.255*est, 0.250*la, 0.247*le\n",
      "\n",
      "Topics for NEGATIVE reviews\n",
      "---------------------------------------\n",
      "Topic 0:   1.148*chicken, 0.734*burger, 0.570*place, 0.567*order, 0.517*sauce, 0.500*fries\n",
      "Topic 1:   0.523*time, 0.490*customer, 0.476*room, 0.414*called, 0.393*service, 0.376*store\n",
      "Topic 2:   2.648*pizza, 0.268*order, 0.268*crust, 0.237*cheese, 0.207*sauce, 0.198*delivery\n",
      "Topic 3:   1.318*order, 1.204*minutes, 0.702*table, 0.543*wait, 0.518*waited, 0.469*time\n",
      "Topic 4:   2.569*food, 1.341*service, 0.641*place, 0.460*bad, 0.430*horrible, 0.401*terrible\n",
      "Topic 5:   2.207*car, 0.264*oil, 0.263*wash, 0.255*dealership, 0.222*rental, 0.209*vehicle\n"
     ]
    }
   ],
   "source": [
    "no_topics = num_topics\n",
    "no_top_words = 6\n",
    "\n",
    "print('Topics for POSITIVE reviews')\n",
    "print('-'*39)\n",
    "display_topics(nmf_pos, tfidf_pos.get_feature_names(), no_topics, no_top_words)\n",
    "\n",
    "print('\\nTopics for NEGATIVE reviews')\n",
    "print('-'*39)\n",
    "display_topics(nmf_neg, tfidf_neg.get_feature_names(), no_topics, no_top_words)"
   ]
  },
  {
   "cell_type": "code",
   "execution_count": 87,
   "metadata": {},
   "outputs": [],
   "source": [
    "pos_topics = {0:'beer/happy_hour', 1:'food/pizza', 2:'service/atmosphere', \n",
    "              3:'food/burger/fries', 4:'friendly_staff', 5:'food/chicken/salad'}\n",
    "\n",
    "neg_topics = {0:'beer/people', 1:'food/chicken/salad', 2:'food/pizza', \n",
    "              3:'wait/table', 4:'food/burger/fries', 5:'bad_service'}"
   ]
  },
  {
   "cell_type": "code",
   "execution_count": 88,
   "metadata": {},
   "outputs": [],
   "source": [
    "df_pos = df[['business_id', 'stars', 'text', 'review_length']][df.stars>3].reset_index()\n",
    "df_neg = df[['business_id', 'stars', 'text', 'review_length']][df.stars<3].reset_index()\n",
    "df_pos.drop(labels='index', axis=1, inplace=True)\n",
    "df_neg.drop(labels='index', axis=1, inplace=True)"
   ]
  },
  {
   "cell_type": "code",
   "execution_count": 89,
   "metadata": {},
   "outputs": [
    {
     "name": "stdout",
     "output_type": "stream",
     "text": [
      "Topic weights :  [0.02765484 0.         0.02345598 0.05580814 0.00089671 0.00042043]\n",
      "Sum of weights:  0.10823610500570774\n"
     ]
    }
   ],
   "source": [
    "print('Topic weights : ', W_pos[0])\n",
    "print('Sum of weights: ', W_pos[0].sum())"
   ]
  },
  {
   "cell_type": "code",
   "execution_count": 90,
   "metadata": {},
   "outputs": [
    {
     "name": "stdout",
     "output_type": "stream",
     "text": [
      "Normalized Topic weights :  [[0.25550479 0.         0.21671124 0.51561486 0.00828477 0.00388434]]\n",
      "Sum of normalized weights:  1.0\n"
     ]
    }
   ],
   "source": [
    "from sklearn.preprocessing import normalize\n",
    "print('Normalized Topic weights : ', normalize(W_pos[0].reshape(1,-1), norm='l1'))\n",
    "print('Sum of normalized weights: ', normalize(W_pos[0].reshape(1,-1), norm='l1').sum())"
   ]
  },
  {
   "cell_type": "code",
   "execution_count": 91,
   "metadata": {},
   "outputs": [],
   "source": [
    "df_pos = pd.concat([df_pos, pd.DataFrame(normalize(W_pos, norm='l1'))], axis=1)\n",
    "df_neg = pd.concat([df_neg, pd.DataFrame(normalize(W_neg, norm='l1'))], axis=1)"
   ]
  },
  {
   "cell_type": "code",
   "execution_count": 92,
   "metadata": {},
   "outputs": [
    {
     "data": {
      "text/html": [
       "<div>\n",
       "<style scoped>\n",
       "    .dataframe tbody tr th:only-of-type {\n",
       "        vertical-align: middle;\n",
       "    }\n",
       "\n",
       "    .dataframe tbody tr th {\n",
       "        vertical-align: top;\n",
       "    }\n",
       "\n",
       "    .dataframe thead th {\n",
       "        text-align: right;\n",
       "    }\n",
       "</style>\n",
       "<table border=\"1\" class=\"dataframe\">\n",
       "  <thead>\n",
       "    <tr style=\"text-align: right;\">\n",
       "      <th></th>\n",
       "      <th>business_id</th>\n",
       "      <th>stars</th>\n",
       "      <th>text</th>\n",
       "      <th>review_length</th>\n",
       "      <th>0</th>\n",
       "      <th>1</th>\n",
       "      <th>2</th>\n",
       "      <th>3</th>\n",
       "      <th>4</th>\n",
       "      <th>5</th>\n",
       "    </tr>\n",
       "  </thead>\n",
       "  <tbody>\n",
       "    <tr>\n",
       "      <th>0</th>\n",
       "      <td>iCQpiavjjPzJ5_3gPD5Ebg</td>\n",
       "      <td>2</td>\n",
       "      <td>The pizza was okay. Not the best I've had. I p...</td>\n",
       "      <td>449</td>\n",
       "      <td>0.014072</td>\n",
       "      <td>0.086813</td>\n",
       "      <td>0.645903</td>\n",
       "      <td>0.000000</td>\n",
       "      <td>0.253211</td>\n",
       "      <td>0.000000</td>\n",
       "    </tr>\n",
       "    <tr>\n",
       "      <th>1</th>\n",
       "      <td>jtQARsP6P-LbkyjbO1qNGg</td>\n",
       "      <td>1</td>\n",
       "      <td>Terrible. Dry corn bread. Rib tips were all fa...</td>\n",
       "      <td>156</td>\n",
       "      <td>0.967428</td>\n",
       "      <td>0.000000</td>\n",
       "      <td>0.000000</td>\n",
       "      <td>0.000000</td>\n",
       "      <td>0.032572</td>\n",
       "      <td>0.000000</td>\n",
       "    </tr>\n",
       "    <tr>\n",
       "      <th>2</th>\n",
       "      <td>elqbBhBfElMNSrjFqW3now</td>\n",
       "      <td>2</td>\n",
       "      <td>Back in 2005-2007 this place was my FAVORITE t...</td>\n",
       "      <td>902</td>\n",
       "      <td>0.310268</td>\n",
       "      <td>0.322600</td>\n",
       "      <td>0.000000</td>\n",
       "      <td>0.041339</td>\n",
       "      <td>0.294566</td>\n",
       "      <td>0.031227</td>\n",
       "    </tr>\n",
       "    <tr>\n",
       "      <th>3</th>\n",
       "      <td>vgfcTvK81oD4r50NMjU2Ag</td>\n",
       "      <td>1</td>\n",
       "      <td>This place sucks. The customer service is horr...</td>\n",
       "      <td>470</td>\n",
       "      <td>0.000000</td>\n",
       "      <td>0.091763</td>\n",
       "      <td>0.384779</td>\n",
       "      <td>0.197041</td>\n",
       "      <td>0.326417</td>\n",
       "      <td>0.000000</td>\n",
       "    </tr>\n",
       "    <tr>\n",
       "      <th>4</th>\n",
       "      <td>atVh8viqTj-sqDJ35tAYVg</td>\n",
       "      <td>2</td>\n",
       "      <td>Food is pretty good, not gonna lie. BUT you ha...</td>\n",
       "      <td>1003</td>\n",
       "      <td>0.163762</td>\n",
       "      <td>0.128699</td>\n",
       "      <td>0.093458</td>\n",
       "      <td>0.289856</td>\n",
       "      <td>0.320596</td>\n",
       "      <td>0.003629</td>\n",
       "    </tr>\n",
       "  </tbody>\n",
       "</table>\n",
       "</div>"
      ],
      "text/plain": [
       "              business_id  stars  \\\n",
       "0  iCQpiavjjPzJ5_3gPD5Ebg      2   \n",
       "1  jtQARsP6P-LbkyjbO1qNGg      1   \n",
       "2  elqbBhBfElMNSrjFqW3now      2   \n",
       "3  vgfcTvK81oD4r50NMjU2Ag      1   \n",
       "4  atVh8viqTj-sqDJ35tAYVg      2   \n",
       "\n",
       "                                                text  review_length         0  \\\n",
       "0  The pizza was okay. Not the best I've had. I p...            449  0.014072   \n",
       "1  Terrible. Dry corn bread. Rib tips were all fa...            156  0.967428   \n",
       "2  Back in 2005-2007 this place was my FAVORITE t...            902  0.310268   \n",
       "3  This place sucks. The customer service is horr...            470  0.000000   \n",
       "4  Food is pretty good, not gonna lie. BUT you ha...           1003  0.163762   \n",
       "\n",
       "          1         2         3         4         5  \n",
       "0  0.086813  0.645903  0.000000  0.253211  0.000000  \n",
       "1  0.000000  0.000000  0.000000  0.032572  0.000000  \n",
       "2  0.322600  0.000000  0.041339  0.294566  0.031227  \n",
       "3  0.091763  0.384779  0.197041  0.326417  0.000000  \n",
       "4  0.128699  0.093458  0.289856  0.320596  0.003629  "
      ]
     },
     "execution_count": 92,
     "metadata": {},
     "output_type": "execute_result"
    }
   ],
   "source": [
    "df_neg.head()"
   ]
  },
  {
   "cell_type": "code",
   "execution_count": 93,
   "metadata": {},
   "outputs": [],
   "source": [
    "df_pos_bsns = df_pos.groupby('business_id').agg({'stars':'mean', 'text':'count',\n",
    "                                                 'review_length':'mean',0:'mean', \n",
    "                                                 1:'mean', 2:'mean', 3:'mean',\n",
    "                                                 4:'mean', 5:'mean'}).reset_index()\n",
    "df_neg_bsns = df_neg.groupby('business_id').agg({'stars':'mean', 'text':'count',\n",
    "                                                 'review_length':'mean',0:'mean', \n",
    "                                                 1:'mean', 2:'mean', 3:'mean',\n",
    "                                                 4:'mean', 5:'mean'}).reset_index()"
   ]
  },
  {
   "cell_type": "code",
   "execution_count": 94,
   "metadata": {},
   "outputs": [
    {
     "data": {
      "text/html": [
       "<div>\n",
       "<style scoped>\n",
       "    .dataframe tbody tr th:only-of-type {\n",
       "        vertical-align: middle;\n",
       "    }\n",
       "\n",
       "    .dataframe tbody tr th {\n",
       "        vertical-align: top;\n",
       "    }\n",
       "\n",
       "    .dataframe thead th {\n",
       "        text-align: right;\n",
       "    }\n",
       "</style>\n",
       "<table border=\"1\" class=\"dataframe\">\n",
       "  <thead>\n",
       "    <tr style=\"text-align: right;\">\n",
       "      <th></th>\n",
       "      <th>business_id</th>\n",
       "      <th>stars</th>\n",
       "      <th>text</th>\n",
       "      <th>review_length</th>\n",
       "      <th>0</th>\n",
       "      <th>1</th>\n",
       "      <th>2</th>\n",
       "      <th>3</th>\n",
       "      <th>4</th>\n",
       "      <th>5</th>\n",
       "    </tr>\n",
       "  </thead>\n",
       "  <tbody>\n",
       "    <tr>\n",
       "      <th>0</th>\n",
       "      <td>--9e1ONYQuAa-CB_Rrw7Tw</td>\n",
       "      <td>4.833333</td>\n",
       "      <td>6</td>\n",
       "      <td>238.5</td>\n",
       "      <td>0.614363</td>\n",
       "      <td>0.144698</td>\n",
       "      <td>0.118758</td>\n",
       "      <td>0.085384</td>\n",
       "      <td>0.019220</td>\n",
       "      <td>0.017577</td>\n",
       "    </tr>\n",
       "    <tr>\n",
       "      <th>1</th>\n",
       "      <td>--Gc998IMjLn8yr-HTzGUg</td>\n",
       "      <td>5.000000</td>\n",
       "      <td>1</td>\n",
       "      <td>263.0</td>\n",
       "      <td>0.634037</td>\n",
       "      <td>0.000000</td>\n",
       "      <td>0.000000</td>\n",
       "      <td>0.326072</td>\n",
       "      <td>0.039891</td>\n",
       "      <td>0.000000</td>\n",
       "    </tr>\n",
       "    <tr>\n",
       "      <th>2</th>\n",
       "      <td>--Y7NhBKzLTbNliMUX_wfg</td>\n",
       "      <td>5.000000</td>\n",
       "      <td>1</td>\n",
       "      <td>1188.0</td>\n",
       "      <td>0.000000</td>\n",
       "      <td>0.934466</td>\n",
       "      <td>0.065534</td>\n",
       "      <td>0.000000</td>\n",
       "      <td>0.000000</td>\n",
       "      <td>0.000000</td>\n",
       "    </tr>\n",
       "    <tr>\n",
       "      <th>3</th>\n",
       "      <td>--cZ6Hhc9F7VkKXxHMVZSQ</td>\n",
       "      <td>5.000000</td>\n",
       "      <td>2</td>\n",
       "      <td>588.0</td>\n",
       "      <td>0.588463</td>\n",
       "      <td>0.057117</td>\n",
       "      <td>0.206809</td>\n",
       "      <td>0.147610</td>\n",
       "      <td>0.000000</td>\n",
       "      <td>0.000000</td>\n",
       "    </tr>\n",
       "    <tr>\n",
       "      <th>4</th>\n",
       "      <td>--g-a85VwrdZJNf0R95GcQ</td>\n",
       "      <td>5.000000</td>\n",
       "      <td>1</td>\n",
       "      <td>59.0</td>\n",
       "      <td>0.126264</td>\n",
       "      <td>0.000000</td>\n",
       "      <td>0.763861</td>\n",
       "      <td>0.062996</td>\n",
       "      <td>0.028951</td>\n",
       "      <td>0.017928</td>\n",
       "    </tr>\n",
       "  </tbody>\n",
       "</table>\n",
       "</div>"
      ],
      "text/plain": [
       "              business_id     stars  text  review_length         0         1  \\\n",
       "0  --9e1ONYQuAa-CB_Rrw7Tw  4.833333     6          238.5  0.614363  0.144698   \n",
       "1  --Gc998IMjLn8yr-HTzGUg  5.000000     1          263.0  0.634037  0.000000   \n",
       "2  --Y7NhBKzLTbNliMUX_wfg  5.000000     1         1188.0  0.000000  0.934466   \n",
       "3  --cZ6Hhc9F7VkKXxHMVZSQ  5.000000     2          588.0  0.588463  0.057117   \n",
       "4  --g-a85VwrdZJNf0R95GcQ  5.000000     1           59.0  0.126264  0.000000   \n",
       "\n",
       "          2         3         4         5  \n",
       "0  0.118758  0.085384  0.019220  0.017577  \n",
       "1  0.000000  0.326072  0.039891  0.000000  \n",
       "2  0.065534  0.000000  0.000000  0.000000  \n",
       "3  0.206809  0.147610  0.000000  0.000000  \n",
       "4  0.763861  0.062996  0.028951  0.017928  "
      ]
     },
     "execution_count": 94,
     "metadata": {},
     "output_type": "execute_result"
    }
   ],
   "source": [
    "df_pos_bsns.head(5)\n"
   ]
  },
  {
   "cell_type": "code",
   "execution_count": 95,
   "metadata": {},
   "outputs": [
    {
     "data": {
      "text/html": [
       "<div>\n",
       "<style scoped>\n",
       "    .dataframe tbody tr th:only-of-type {\n",
       "        vertical-align: middle;\n",
       "    }\n",
       "\n",
       "    .dataframe tbody tr th {\n",
       "        vertical-align: top;\n",
       "    }\n",
       "\n",
       "    .dataframe thead th {\n",
       "        text-align: right;\n",
       "    }\n",
       "</style>\n",
       "<table border=\"1\" class=\"dataframe\">\n",
       "  <thead>\n",
       "    <tr style=\"text-align: right;\">\n",
       "      <th></th>\n",
       "      <th>business_id</th>\n",
       "      <th>stars</th>\n",
       "      <th>text</th>\n",
       "      <th>review_length</th>\n",
       "      <th>0</th>\n",
       "      <th>1</th>\n",
       "      <th>2</th>\n",
       "      <th>3</th>\n",
       "      <th>4</th>\n",
       "      <th>5</th>\n",
       "    </tr>\n",
       "  </thead>\n",
       "  <tbody>\n",
       "    <tr>\n",
       "      <th>0</th>\n",
       "      <td>--6MefnULPED_I942VcFNA</td>\n",
       "      <td>1.0</td>\n",
       "      <td>1</td>\n",
       "      <td>331.0</td>\n",
       "      <td>0.203841</td>\n",
       "      <td>0.369877</td>\n",
       "      <td>0.013424</td>\n",
       "      <td>0.000000</td>\n",
       "      <td>0.412859</td>\n",
       "      <td>0.000000</td>\n",
       "    </tr>\n",
       "    <tr>\n",
       "      <th>1</th>\n",
       "      <td>--9e1ONYQuAa-CB_Rrw7Tw</td>\n",
       "      <td>2.0</td>\n",
       "      <td>1</td>\n",
       "      <td>998.0</td>\n",
       "      <td>0.355980</td>\n",
       "      <td>0.139976</td>\n",
       "      <td>0.016735</td>\n",
       "      <td>0.140092</td>\n",
       "      <td>0.277326</td>\n",
       "      <td>0.069891</td>\n",
       "    </tr>\n",
       "    <tr>\n",
       "      <th>2</th>\n",
       "      <td>--cjBEbXMI2obtaRHNSFrA</td>\n",
       "      <td>1.0</td>\n",
       "      <td>1</td>\n",
       "      <td>116.0</td>\n",
       "      <td>0.000000</td>\n",
       "      <td>0.517705</td>\n",
       "      <td>0.000000</td>\n",
       "      <td>0.022038</td>\n",
       "      <td>0.339497</td>\n",
       "      <td>0.120760</td>\n",
       "    </tr>\n",
       "    <tr>\n",
       "      <th>3</th>\n",
       "      <td>--orEUqwTzz5QKbmyYbAWw</td>\n",
       "      <td>1.0</td>\n",
       "      <td>1</td>\n",
       "      <td>201.0</td>\n",
       "      <td>0.000000</td>\n",
       "      <td>0.349686</td>\n",
       "      <td>0.023088</td>\n",
       "      <td>0.552096</td>\n",
       "      <td>0.000000</td>\n",
       "      <td>0.075129</td>\n",
       "    </tr>\n",
       "    <tr>\n",
       "      <th>4</th>\n",
       "      <td>-050d_XIor1NpCuWkbIVaQ</td>\n",
       "      <td>2.0</td>\n",
       "      <td>1</td>\n",
       "      <td>1727.0</td>\n",
       "      <td>0.509888</td>\n",
       "      <td>0.360285</td>\n",
       "      <td>0.015613</td>\n",
       "      <td>0.000000</td>\n",
       "      <td>0.090187</td>\n",
       "      <td>0.024028</td>\n",
       "    </tr>\n",
       "  </tbody>\n",
       "</table>\n",
       "</div>"
      ],
      "text/plain": [
       "              business_id  stars  text  review_length         0         1  \\\n",
       "0  --6MefnULPED_I942VcFNA    1.0     1          331.0  0.203841  0.369877   \n",
       "1  --9e1ONYQuAa-CB_Rrw7Tw    2.0     1          998.0  0.355980  0.139976   \n",
       "2  --cjBEbXMI2obtaRHNSFrA    1.0     1          116.0  0.000000  0.517705   \n",
       "3  --orEUqwTzz5QKbmyYbAWw    1.0     1          201.0  0.000000  0.349686   \n",
       "4  -050d_XIor1NpCuWkbIVaQ    2.0     1         1727.0  0.509888  0.360285   \n",
       "\n",
       "          2         3         4         5  \n",
       "0  0.013424  0.000000  0.412859  0.000000  \n",
       "1  0.016735  0.140092  0.277326  0.069891  \n",
       "2  0.000000  0.022038  0.339497  0.120760  \n",
       "3  0.023088  0.552096  0.000000  0.075129  \n",
       "4  0.015613  0.000000  0.090187  0.024028  "
      ]
     },
     "execution_count": 95,
     "metadata": {},
     "output_type": "execute_result"
    }
   ],
   "source": [
    "df_neg_bsns.head()\n"
   ]
  },
  {
   "cell_type": "code",
   "execution_count": null,
   "metadata": {},
   "outputs": [],
   "source": []
  },
  {
   "cell_type": "code",
   "execution_count": null,
   "metadata": {},
   "outputs": [],
   "source": []
  },
  {
   "cell_type": "code",
   "execution_count": null,
   "metadata": {},
   "outputs": [],
   "source": []
  }
 ],
 "metadata": {
  "kernelspec": {
   "display_name": "Python 3",
   "language": "python",
   "name": "python3"
  },
  "language_info": {
   "codemirror_mode": {
    "name": "ipython",
    "version": 3
   },
   "file_extension": ".py",
   "mimetype": "text/x-python",
   "name": "python",
   "nbconvert_exporter": "python",
   "pygments_lexer": "ipython3",
   "version": "3.6.2"
  }
 },
 "nbformat": 4,
 "nbformat_minor": 2
}
