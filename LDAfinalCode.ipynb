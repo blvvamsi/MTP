{
  "nbformat": 4,
  "nbformat_minor": 0,
  "metadata": {
    "colab": {
      "name": "LDAfinalCode.ipynb",
      "version": "0.3.2",
      "provenance": [],
      "collapsed_sections": []
    },
    "kernelspec": {
      "name": "python3",
      "display_name": "Python 3"
    }
  },
  "cells": [
    {
      "metadata": {
        "id": "WjJt7Jx9tY8k",
        "colab_type": "code",
        "colab": {
          "base_uri": "https://localhost:8080/",
          "height": 323
        },
        "outputId": "0c6dbaee-4c5b-4f0b-f491-e8a72860a567"
      },
      "cell_type": "code",
      "source": [
        "pip install PyDrive"
      ],
      "execution_count": 1,
      "outputs": [
        {
          "output_type": "stream",
          "text": [
            "Collecting PyDrive\n",
            "\u001b[?25l  Downloading https://files.pythonhosted.org/packages/52/e0/0e64788e5dd58ce2d6934549676243dc69d982f198524be9b99e9c2a4fd5/PyDrive-1.3.1.tar.gz (987kB)\n",
            "\u001b[K    100% |████████████████████████████████| 993kB 7.6MB/s \n",
            "\u001b[?25hRequirement already satisfied: google-api-python-client>=1.2 in /usr/local/lib/python3.6/dist-packages (from PyDrive) (1.6.7)\n",
            "Requirement already satisfied: oauth2client>=4.0.0 in /usr/local/lib/python3.6/dist-packages (from PyDrive) (4.1.3)\n",
            "Requirement already satisfied: PyYAML>=3.0 in /usr/local/lib/python3.6/dist-packages (from PyDrive) (3.13)\n",
            "Requirement already satisfied: uritemplate<4dev,>=3.0.0 in /usr/local/lib/python3.6/dist-packages (from google-api-python-client>=1.2->PyDrive) (3.0.0)\n",
            "Requirement already satisfied: httplib2<1dev,>=0.9.2 in /usr/local/lib/python3.6/dist-packages (from google-api-python-client>=1.2->PyDrive) (0.11.3)\n",
            "Requirement already satisfied: six<2dev,>=1.6.1 in /usr/local/lib/python3.6/dist-packages (from google-api-python-client>=1.2->PyDrive) (1.11.0)\n",
            "Requirement already satisfied: pyasn1-modules>=0.0.5 in /usr/local/lib/python3.6/dist-packages (from oauth2client>=4.0.0->PyDrive) (0.2.4)\n",
            "Requirement already satisfied: pyasn1>=0.1.7 in /usr/local/lib/python3.6/dist-packages (from oauth2client>=4.0.0->PyDrive) (0.4.5)\n",
            "Requirement already satisfied: rsa>=3.1.4 in /usr/local/lib/python3.6/dist-packages (from oauth2client>=4.0.0->PyDrive) (4.0)\n",
            "Building wheels for collected packages: PyDrive\n",
            "  Building wheel for PyDrive (setup.py) ... \u001b[?25ldone\n",
            "\u001b[?25h  Stored in directory: /root/.cache/pip/wheels/fa/d2/9a/d3b6b506c2da98289e5d417215ce34b696db856643bad779f4\n",
            "Successfully built PyDrive\n",
            "Installing collected packages: PyDrive\n",
            "Successfully installed PyDrive-1.3.1\n"
          ],
          "name": "stdout"
        }
      ]
    },
    {
      "metadata": {
        "id": "VOs_aDQVtbzu",
        "colab_type": "code",
        "colab": {
          "base_uri": "https://localhost:8080/",
          "height": 323
        },
        "outputId": "925ed453-dc15-4bf8-fdb9-257a167e8b7f"
      },
      "cell_type": "code",
      "source": [
        "pip install gensim"
      ],
      "execution_count": 2,
      "outputs": [
        {
          "output_type": "stream",
          "text": [
            "Requirement already satisfied: gensim in /usr/local/lib/python3.6/dist-packages (3.6.0)\n",
            "Requirement already satisfied: smart-open>=1.2.1 in /usr/local/lib/python3.6/dist-packages (from gensim) (1.8.0)\n",
            "Requirement already satisfied: scipy>=0.18.1 in /usr/local/lib/python3.6/dist-packages (from gensim) (1.1.0)\n",
            "Requirement already satisfied: six>=1.5.0 in /usr/local/lib/python3.6/dist-packages (from gensim) (1.11.0)\n",
            "Requirement already satisfied: numpy>=1.11.3 in /usr/local/lib/python3.6/dist-packages (from gensim) (1.14.6)\n",
            "Requirement already satisfied: boto>=2.32 in /usr/local/lib/python3.6/dist-packages (from smart-open>=1.2.1->gensim) (2.49.0)\n",
            "Requirement already satisfied: bz2file in /usr/local/lib/python3.6/dist-packages (from smart-open>=1.2.1->gensim) (0.98)\n",
            "Requirement already satisfied: requests in /usr/local/lib/python3.6/dist-packages (from smart-open>=1.2.1->gensim) (2.18.4)\n",
            "Requirement already satisfied: boto3 in /usr/local/lib/python3.6/dist-packages (from smart-open>=1.2.1->gensim) (1.9.123)\n",
            "Requirement already satisfied: urllib3<1.23,>=1.21.1 in /usr/local/lib/python3.6/dist-packages (from requests->smart-open>=1.2.1->gensim) (1.22)\n",
            "Requirement already satisfied: chardet<3.1.0,>=3.0.2 in /usr/local/lib/python3.6/dist-packages (from requests->smart-open>=1.2.1->gensim) (3.0.4)\n",
            "Requirement already satisfied: idna<2.7,>=2.5 in /usr/local/lib/python3.6/dist-packages (from requests->smart-open>=1.2.1->gensim) (2.6)\n",
            "Requirement already satisfied: certifi>=2017.4.17 in /usr/local/lib/python3.6/dist-packages (from requests->smart-open>=1.2.1->gensim) (2019.3.9)\n",
            "Requirement already satisfied: jmespath<1.0.0,>=0.7.1 in /usr/local/lib/python3.6/dist-packages (from boto3->smart-open>=1.2.1->gensim) (0.9.4)\n",
            "Requirement already satisfied: s3transfer<0.3.0,>=0.2.0 in /usr/local/lib/python3.6/dist-packages (from boto3->smart-open>=1.2.1->gensim) (0.2.0)\n",
            "Requirement already satisfied: botocore<1.13.0,>=1.12.123 in /usr/local/lib/python3.6/dist-packages (from boto3->smart-open>=1.2.1->gensim) (1.12.123)\n",
            "Requirement already satisfied: docutils>=0.10 in /usr/local/lib/python3.6/dist-packages (from botocore<1.13.0,>=1.12.123->boto3->smart-open>=1.2.1->gensim) (0.14)\n",
            "Requirement already satisfied: python-dateutil<3.0.0,>=2.1; python_version >= \"2.7\" in /usr/local/lib/python3.6/dist-packages (from botocore<1.13.0,>=1.12.123->boto3->smart-open>=1.2.1->gensim) (2.5.3)\n"
          ],
          "name": "stdout"
        }
      ]
    },
    {
      "metadata": {
        "id": "jRzypPKItiCO",
        "colab_type": "code",
        "colab": {
          "base_uri": "https://localhost:8080/",
          "height": 527
        },
        "outputId": "d59f9783-21bc-489e-a209-dea0efcf33fd"
      },
      "cell_type": "code",
      "source": [
        "pip install pyldavis"
      ],
      "execution_count": 3,
      "outputs": [
        {
          "output_type": "stream",
          "text": [
            "Collecting pyldavis\n",
            "\u001b[?25l  Downloading https://files.pythonhosted.org/packages/a5/3a/af82e070a8a96e13217c8f362f9a73e82d61ac8fff3a2561946a97f96266/pyLDAvis-2.1.2.tar.gz (1.6MB)\n",
            "\u001b[K    100% |████████████████████████████████| 1.6MB 8.5MB/s \n",
            "\u001b[?25hRequirement already satisfied: wheel>=0.23.0 in /usr/local/lib/python3.6/dist-packages (from pyldavis) (0.33.1)\n",
            "Requirement already satisfied: numpy>=1.9.2 in /usr/local/lib/python3.6/dist-packages (from pyldavis) (1.14.6)\n",
            "Requirement already satisfied: scipy>=0.18.0 in /usr/local/lib/python3.6/dist-packages (from pyldavis) (1.1.0)\n",
            "Requirement already satisfied: pandas>=0.17.0 in /usr/local/lib/python3.6/dist-packages (from pyldavis) (0.22.0)\n",
            "Requirement already satisfied: joblib>=0.8.4 in /usr/local/lib/python3.6/dist-packages (from pyldavis) (0.12.5)\n",
            "Requirement already satisfied: jinja2>=2.7.2 in /usr/local/lib/python3.6/dist-packages (from pyldavis) (2.10)\n",
            "Requirement already satisfied: numexpr in /usr/local/lib/python3.6/dist-packages (from pyldavis) (2.6.9)\n",
            "Requirement already satisfied: pytest in /usr/local/lib/python3.6/dist-packages (from pyldavis) (3.6.4)\n",
            "Requirement already satisfied: future in /usr/local/lib/python3.6/dist-packages (from pyldavis) (0.16.0)\n",
            "Collecting funcy (from pyldavis)\n",
            "  Downloading https://files.pythonhosted.org/packages/47/a4/204fa23012e913839c2da4514b92f17da82bf5fc8c2c3d902fa3fa3c6eec/funcy-1.11-py2.py3-none-any.whl\n",
            "Requirement already satisfied: pytz>=2011k in /usr/local/lib/python3.6/dist-packages (from pandas>=0.17.0->pyldavis) (2018.9)\n",
            "Requirement already satisfied: python-dateutil>=2 in /usr/local/lib/python3.6/dist-packages (from pandas>=0.17.0->pyldavis) (2.5.3)\n",
            "Requirement already satisfied: MarkupSafe>=0.23 in /usr/local/lib/python3.6/dist-packages (from jinja2>=2.7.2->pyldavis) (1.1.1)\n",
            "Requirement already satisfied: six>=1.10.0 in /usr/local/lib/python3.6/dist-packages (from pytest->pyldavis) (1.11.0)\n",
            "Requirement already satisfied: setuptools in /usr/local/lib/python3.6/dist-packages (from pytest->pyldavis) (40.8.0)\n",
            "Requirement already satisfied: attrs>=17.4.0 in /usr/local/lib/python3.6/dist-packages (from pytest->pyldavis) (19.1.0)\n",
            "Requirement already satisfied: atomicwrites>=1.0 in /usr/local/lib/python3.6/dist-packages (from pytest->pyldavis) (1.3.0)\n",
            "Requirement already satisfied: py>=1.5.0 in /usr/local/lib/python3.6/dist-packages (from pytest->pyldavis) (1.8.0)\n",
            "Requirement already satisfied: pluggy<0.8,>=0.5 in /usr/local/lib/python3.6/dist-packages (from pytest->pyldavis) (0.7.1)\n",
            "Requirement already satisfied: more-itertools>=4.0.0 in /usr/local/lib/python3.6/dist-packages (from pytest->pyldavis) (6.0.0)\n",
            "Building wheels for collected packages: pyldavis\n",
            "  Building wheel for pyldavis (setup.py) ... \u001b[?25ldone\n",
            "\u001b[?25h  Stored in directory: /root/.cache/pip/wheels/98/71/24/513a99e58bb6b8465bae4d2d5e9dba8f0bef8179e3051ac414\n",
            "Successfully built pyldavis\n",
            "Installing collected packages: funcy, pyldavis\n",
            "Successfully installed funcy-1.11 pyldavis-2.1.2\n"
          ],
          "name": "stdout"
        }
      ]
    },
    {
      "metadata": {
        "id": "kbRuGJUBtkMw",
        "colab_type": "code",
        "colab": {
          "base_uri": "https://localhost:8080/",
          "height": 173
        },
        "outputId": "b179b359-bab5-4a49-e4ff-d1ba62d6b39b"
      },
      "cell_type": "code",
      "source": [
        "!python -m spacy download en"
      ],
      "execution_count": 5,
      "outputs": [
        {
          "output_type": "stream",
          "text": [
            "Requirement already satisfied: en_core_web_sm==2.0.0 from https://github.com/explosion/spacy-models/releases/download/en_core_web_sm-2.0.0/en_core_web_sm-2.0.0.tar.gz#egg=en_core_web_sm==2.0.0 in /usr/local/lib/python3.6/dist-packages (2.0.0)\n",
            "\n",
            "\u001b[93m    Linking successful\u001b[0m\n",
            "    /usr/local/lib/python3.6/dist-packages/en_core_web_sm -->\n",
            "    /usr/local/lib/python3.6/dist-packages/spacy/data/en\n",
            "\n",
            "    You can now load the model via spacy.load('en')\n",
            "\n"
          ],
          "name": "stdout"
        }
      ]
    },
    {
      "metadata": {
        "id": "HRGC2Sa8tnVQ",
        "colab_type": "code",
        "colab": {
          "base_uri": "https://localhost:8080/",
          "height": 68
        },
        "outputId": "4af27bfb-dba2-4725-e836-08a1a443bc4f"
      },
      "cell_type": "code",
      "source": [
        "import os\n",
        "from pydrive.auth import GoogleAuth\n",
        "from pydrive.drive import GoogleDrive\n",
        "from google.colab import auth\n",
        "from oauth2client.client import GoogleCredentials\n",
        "import nltk\n",
        "from nltk import FreqDist\n",
        "nltk.download('stopwords')"
      ],
      "execution_count": 19,
      "outputs": [
        {
          "output_type": "stream",
          "text": [
            "[nltk_data] Downloading package stopwords to /root/nltk_data...\n",
            "[nltk_data]   Package stopwords is already up-to-date!\n"
          ],
          "name": "stdout"
        },
        {
          "output_type": "execute_result",
          "data": {
            "text/plain": [
              "True"
            ]
          },
          "metadata": {
            "tags": []
          },
          "execution_count": 19
        }
      ]
    },
    {
      "metadata": {
        "id": "slrHb47Stzas",
        "colab_type": "code",
        "colab": {}
      },
      "cell_type": "code",
      "source": [
        "auth.authenticate_user()\n",
        "gauth = GoogleAuth()\n",
        "gauth.credentials = GoogleCredentials.get_application_default()\n",
        "drive = GoogleDrive(gauth)"
      ],
      "execution_count": 0,
      "outputs": []
    },
    {
      "metadata": {
        "id": "wkPrZSDvt23W",
        "colab_type": "code",
        "colab": {}
      },
      "cell_type": "code",
      "source": [
        "download = drive.CreateFile({'id': '15CgnRSlPwbRb9pBXxXdzlUPBXHKv7dl4'})"
      ],
      "execution_count": 0,
      "outputs": []
    },
    {
      "metadata": {
        "id": "Pep5M0gxuDf3",
        "colab_type": "code",
        "colab": {
          "base_uri": "https://localhost:8080/",
          "height": 34
        },
        "outputId": "b035dcfa-e382-458c-9f28-f7ef12a705ed"
      },
      "cell_type": "code",
      "source": [
        "ls"
      ],
      "execution_count": 25,
      "outputs": [
        {
          "output_type": "stream",
          "text": [
            "adc.json  \u001b[0m\u001b[01;34msample_data\u001b[0m/\n"
          ],
          "name": "stdout"
        }
      ]
    },
    {
      "metadata": {
        "id": "tR5I90_NuFTx",
        "colab_type": "code",
        "colab": {}
      },
      "cell_type": "code",
      "source": [
        "import pandas as pd\n",
        "pd.set_option(\"display.max_colwidth\", 200)\n",
        "import numpy as np\n",
        "import json\n",
        "import re\n",
        "import gzip\n",
        "import spacy\n",
        "\n",
        "import gensim\n",
        "from gensim import corpora\n",
        "\n",
        "import pyLDAvis\n",
        "import pyLDAvis.gensim\n",
        "import matplotlib.pyplot as plt\n",
        "import seaborn as sns\n",
        "%matplotlib inline"
      ],
      "execution_count": 0,
      "outputs": []
    },
    {
      "metadata": {
        "id": "7ogK4K2euNkz",
        "colab_type": "code",
        "colab": {}
      },
      "cell_type": "code",
      "source": [
        "download.GetContentFile('reviews_Automotive_5.json.gz')"
      ],
      "execution_count": 0,
      "outputs": []
    },
    {
      "metadata": {
        "id": "m7Pv_I4SwcG4",
        "colab_type": "code",
        "colab": {}
      },
      "cell_type": "code",
      "source": [
        "def parse(path):\n",
        "  g = gzip.open(path, 'rb')\n",
        "  for l in g:\n",
        "    yield eval(l)\n",
        "    \n",
        "def getDF(path):\n",
        "  i = 0\n",
        "  df = {}\n",
        "  for d in parse(path):\n",
        "    df[i] = d\n",
        "    i += 1\n",
        "  return pd.DataFrame.from_dict(df, orient='index')"
      ],
      "execution_count": 0,
      "outputs": []
    },
    {
      "metadata": {
        "id": "Dgxn-ZvTwhtx",
        "colab_type": "code",
        "colab": {
          "base_uri": "https://localhost:8080/",
          "height": 34
        },
        "outputId": "966d1943-664a-4ffd-984d-8829b0015fd1"
      },
      "cell_type": "code",
      "source": [
        "df = getDF('reviews_Automotive_5.json.gz')\n",
        "df.shape"
      ],
      "execution_count": 29,
      "outputs": [
        {
          "output_type": "execute_result",
          "data": {
            "text/plain": [
              "(20473, 9)"
            ]
          },
          "metadata": {
            "tags": []
          },
          "execution_count": 29
        }
      ]
    },
    {
      "metadata": {
        "id": "iUGrLNO7xc5E",
        "colab_type": "code",
        "colab": {
          "base_uri": "https://localhost:8080/",
          "height": 289
        },
        "outputId": "1476037c-a7e7-4068-d9be-68d60515990a"
      },
      "cell_type": "code",
      "source": [
        "df.head()"
      ],
      "execution_count": 30,
      "outputs": [
        {
          "output_type": "execute_result",
          "data": {
            "text/html": [
              "<div>\n",
              "<style scoped>\n",
              "    .dataframe tbody tr th:only-of-type {\n",
              "        vertical-align: middle;\n",
              "    }\n",
              "\n",
              "    .dataframe tbody tr th {\n",
              "        vertical-align: top;\n",
              "    }\n",
              "\n",
              "    .dataframe thead th {\n",
              "        text-align: right;\n",
              "    }\n",
              "</style>\n",
              "<table border=\"1\" class=\"dataframe\">\n",
              "  <thead>\n",
              "    <tr style=\"text-align: right;\">\n",
              "      <th></th>\n",
              "      <th>reviewerID</th>\n",
              "      <th>asin</th>\n",
              "      <th>reviewerName</th>\n",
              "      <th>helpful</th>\n",
              "      <th>reviewText</th>\n",
              "      <th>overall</th>\n",
              "      <th>summary</th>\n",
              "      <th>unixReviewTime</th>\n",
              "      <th>reviewTime</th>\n",
              "    </tr>\n",
              "  </thead>\n",
              "  <tbody>\n",
              "    <tr>\n",
              "      <th>0</th>\n",
              "      <td>A3F73SC1LY51OO</td>\n",
              "      <td>B00002243X</td>\n",
              "      <td>Alan Montgomery</td>\n",
              "      <td>[4, 4]</td>\n",
              "      <td>I needed a set of jumper cables for my new car and these had good reviews and were at a good price.  They have been used a few times already and do what they are supposed to - no complaints there....</td>\n",
              "      <td>5.0</td>\n",
              "      <td>Work Well - Should Have Bought Longer Ones</td>\n",
              "      <td>1313539200</td>\n",
              "      <td>08 17, 2011</td>\n",
              "    </tr>\n",
              "    <tr>\n",
              "      <th>1</th>\n",
              "      <td>A20S66SKYXULG2</td>\n",
              "      <td>B00002243X</td>\n",
              "      <td>alphonse</td>\n",
              "      <td>[1, 1]</td>\n",
              "      <td>These long cables work fine for my truck, but the quality seems a little on the shabby side. For the money I was not expecting 200 dollar snap-on jumper cables but these seem more like what you wo...</td>\n",
              "      <td>4.0</td>\n",
              "      <td>Okay long cables</td>\n",
              "      <td>1315094400</td>\n",
              "      <td>09 4, 2011</td>\n",
              "    </tr>\n",
              "    <tr>\n",
              "      <th>2</th>\n",
              "      <td>A2I8LFSN2IS5EO</td>\n",
              "      <td>B00002243X</td>\n",
              "      <td>Chris</td>\n",
              "      <td>[0, 0]</td>\n",
              "      <td>Can't comment much on these since they have not yet been used (I will come back and update my review is I find any issues after first use) ... but they are built solid, nice tough big hard clamps ...</td>\n",
              "      <td>5.0</td>\n",
              "      <td>Looks and feels heavy Duty</td>\n",
              "      <td>1374710400</td>\n",
              "      <td>07 25, 2013</td>\n",
              "    </tr>\n",
              "    <tr>\n",
              "      <th>3</th>\n",
              "      <td>A3GT2EWQSO45ZG</td>\n",
              "      <td>B00002243X</td>\n",
              "      <td>DeusEx</td>\n",
              "      <td>[19, 19]</td>\n",
              "      <td>I absolutley love Amazon!!!  For the price of a set of cheap Booster/Jumper Cables in a brick and morter store, you can buy extra long and heavy duty jumpers!  First off, don't be the person that ...</td>\n",
              "      <td>5.0</td>\n",
              "      <td>Excellent choice for Jumper Cables!!!</td>\n",
              "      <td>1292889600</td>\n",
              "      <td>12 21, 2010</td>\n",
              "    </tr>\n",
              "    <tr>\n",
              "      <th>4</th>\n",
              "      <td>A3ESWJPAVRPWB4</td>\n",
              "      <td>B00002243X</td>\n",
              "      <td>E. Hernandez</td>\n",
              "      <td>[0, 0]</td>\n",
              "      <td>I purchased the 12' feet long cable set and they arrived in a retail cardboard box with handle, which could be used as a storage and carrying case for these cables, although I will not need to sto...</td>\n",
              "      <td>5.0</td>\n",
              "      <td>Excellent, High Quality Starter Cables</td>\n",
              "      <td>1341360000</td>\n",
              "      <td>07 4, 2012</td>\n",
              "    </tr>\n",
              "  </tbody>\n",
              "</table>\n",
              "</div>"
            ],
            "text/plain": [
              "       reviewerID        asin     reviewerName   helpful  \\\n",
              "0  A3F73SC1LY51OO  B00002243X  Alan Montgomery    [4, 4]   \n",
              "1  A20S66SKYXULG2  B00002243X         alphonse    [1, 1]   \n",
              "2  A2I8LFSN2IS5EO  B00002243X            Chris    [0, 0]   \n",
              "3  A3GT2EWQSO45ZG  B00002243X           DeusEx  [19, 19]   \n",
              "4  A3ESWJPAVRPWB4  B00002243X     E. Hernandez    [0, 0]   \n",
              "\n",
              "                                                                                                                                                                                                reviewText  \\\n",
              "0  I needed a set of jumper cables for my new car and these had good reviews and were at a good price.  They have been used a few times already and do what they are supposed to - no complaints there....   \n",
              "1  These long cables work fine for my truck, but the quality seems a little on the shabby side. For the money I was not expecting 200 dollar snap-on jumper cables but these seem more like what you wo...   \n",
              "2  Can't comment much on these since they have not yet been used (I will come back and update my review is I find any issues after first use) ... but they are built solid, nice tough big hard clamps ...   \n",
              "3  I absolutley love Amazon!!!  For the price of a set of cheap Booster/Jumper Cables in a brick and morter store, you can buy extra long and heavy duty jumpers!  First off, don't be the person that ...   \n",
              "4  I purchased the 12' feet long cable set and they arrived in a retail cardboard box with handle, which could be used as a storage and carrying case for these cables, although I will not need to sto...   \n",
              "\n",
              "   overall                                     summary  unixReviewTime  \\\n",
              "0      5.0  Work Well - Should Have Bought Longer Ones      1313539200   \n",
              "1      4.0                            Okay long cables      1315094400   \n",
              "2      5.0                  Looks and feels heavy Duty      1374710400   \n",
              "3      5.0       Excellent choice for Jumper Cables!!!      1292889600   \n",
              "4      5.0      Excellent, High Quality Starter Cables      1341360000   \n",
              "\n",
              "    reviewTime  \n",
              "0  08 17, 2011  \n",
              "1   09 4, 2011  \n",
              "2  07 25, 2013  \n",
              "3  12 21, 2010  \n",
              "4   07 4, 2012  "
            ]
          },
          "metadata": {
            "tags": []
          },
          "execution_count": 30
        }
      ]
    },
    {
      "metadata": {
        "id": "lnlQcu2Gxgfi",
        "colab_type": "code",
        "colab": {}
      },
      "cell_type": "code",
      "source": [
        "def freq_words(x, terms = 30):\n",
        "  all_words = ' '.join([text for text in x])\n",
        "  all_words = all_words.split()\n",
        "  \n",
        "  fdist = FreqDist(all_words)\n",
        "  words_df = pd.DataFrame({'word':list(fdist.keys()), 'count':list(fdist.values())})\n",
        "  \n",
        "  # selecting top 20 most frequent words\n",
        "  d = words_df.nlargest(columns=\"count\", n = terms) \n",
        "  plt.figure(figsize=(20,5))\n",
        "  ax = sns.barplot(data=d, x= \"word\", y = \"count\")\n",
        "  ax.set(ylabel = 'Count')\n",
        "  plt.show()"
      ],
      "execution_count": 0,
      "outputs": []
    },
    {
      "metadata": {
        "id": "sCfUdrRqxklY",
        "colab_type": "code",
        "colab": {
          "base_uri": "https://localhost:8080/",
          "height": 422
        },
        "outputId": "1ca67801-f3bc-4bf8-f93d-1352936f7d87"
      },
      "cell_type": "code",
      "source": [
        "\n",
        "freq_words(df['reviewText'])"
      ],
      "execution_count": 32,
      "outputs": [
        {
          "output_type": "stream",
          "text": [
            "/usr/local/lib/python3.6/dist-packages/seaborn/categorical.py:342: DeprecationWarning: pandas.core.common.is_categorical_dtype is deprecated. import from the public API: pandas.api.types.is_categorical_dtype instead\n",
            "  elif is_categorical(y):\n",
            "/usr/local/lib/python3.6/dist-packages/seaborn/categorical.py:1428: FutureWarning: remove_na is deprecated and is a private function. Do not use.\n",
            "  stat_data = remove_na(group_data)\n"
          ],
          "name": "stderr"
        },
        {
          "output_type": "display_data",
          "data": {
            "image/png": "[encoded data removed]",
            "text/plain": [
              "<Figure size 1440x360 with 1 Axes>"
            ]
          },
          "metadata": {
            "tags": []
          }
        }
      ]
    },
    {
      "metadata": {
        "id": "9oyqUlkyxntP",
        "colab_type": "code",
        "colab": {}
      },
      "cell_type": "code",
      "source": [
        "# replace \"n't\" with \" not\"\n",
        "df['reviewText'] = df['reviewText'].str.replace(\"n\\'t\", \" not\")\n",
        "\n",
        "# remove unwanted characters, numbers and symbols\n",
        "df['reviewText'] = df['reviewText'].str.replace(\"[^a-zA-Z#]\", \" \")"
      ],
      "execution_count": 0,
      "outputs": []
    },
    {
      "metadata": {
        "id": "DdVLRN8axq2j",
        "colab_type": "code",
        "colab": {
          "base_uri": "https://localhost:8080/",
          "height": 422
        },
        "outputId": "ae025e32-c24a-4034-c47c-0acc80f2ec64"
      },
      "cell_type": "code",
      "source": [
        "freq_words(df['reviewText'])\n"
      ],
      "execution_count": 34,
      "outputs": [
        {
          "output_type": "stream",
          "text": [
            "/usr/local/lib/python3.6/dist-packages/seaborn/categorical.py:342: DeprecationWarning: pandas.core.common.is_categorical_dtype is deprecated. import from the public API: pandas.api.types.is_categorical_dtype instead\n",
            "  elif is_categorical(y):\n",
            "/usr/local/lib/python3.6/dist-packages/seaborn/categorical.py:1428: FutureWarning: remove_na is deprecated and is a private function. Do not use.\n",
            "  stat_data = remove_na(group_data)\n"
          ],
          "name": "stderr"
        },
        {
          "output_type": "display_data",
          "data": {
            "image/png": "[encoded data removed]",
            "text/plain": [
              "<Figure size 1440x360 with 1 Axes>"
            ]
          },
          "metadata": {
            "tags": []
          }
        }
      ]
    },
    {
      "metadata": {
        "id": "4EL10RS6xuTA",
        "colab_type": "code",
        "colab": {}
      },
      "cell_type": "code",
      "source": [
        "from nltk.corpus import stopwords\n",
        "stop_words = stopwords.words('english')"
      ],
      "execution_count": 0,
      "outputs": []
    },
    {
      "metadata": {
        "id": "RkWR9f-3xx7d",
        "colab_type": "code",
        "colab": {}
      },
      "cell_type": "code",
      "source": [
        "# function to remove stopwords\n",
        "def remove_stopwords(rev):\n",
        "  rev_new = \" \".join([i for i in rev if i not in stop_words])\n",
        "  return rev_new"
      ],
      "execution_count": 0,
      "outputs": []
    },
    {
      "metadata": {
        "id": "32LdD88ax1a7",
        "colab_type": "code",
        "colab": {}
      },
      "cell_type": "code",
      "source": [
        "# remove short words (length < 3)\n",
        "df['reviewText'] = df['reviewText'].apply(lambda x: ' '.join([w for w in x.split() if len(w)>2]))\n",
        "\n",
        "# remove stopwords from the text\n",
        "reviews = [remove_stopwords(r.split()) for r in df['reviewText']]\n",
        "\n",
        "# make entire text lowercase\n",
        "reviews = [r.lower() for r in reviews]"
      ],
      "execution_count": 0,
      "outputs": []
    },
    {
      "metadata": {
        "id": "4acUm7dNx5Fb",
        "colab_type": "code",
        "colab": {
          "base_uri": "https://localhost:8080/",
          "height": 422
        },
        "outputId": "fbc45db2-ac2b-4116-93f8-cf59a82c70b8"
      },
      "cell_type": "code",
      "source": [
        "freq_words(reviews, 35)"
      ],
      "execution_count": 38,
      "outputs": [
        {
          "output_type": "stream",
          "text": [
            "/usr/local/lib/python3.6/dist-packages/seaborn/categorical.py:342: DeprecationWarning: pandas.core.common.is_categorical_dtype is deprecated. import from the public API: pandas.api.types.is_categorical_dtype instead\n",
            "  elif is_categorical(y):\n",
            "/usr/local/lib/python3.6/dist-packages/seaborn/categorical.py:1428: FutureWarning: remove_na is deprecated and is a private function. Do not use.\n",
            "  stat_data = remove_na(group_data)\n"
          ],
          "name": "stderr"
        },
        {
          "output_type": "display_data",
          "data": {
            "image/png": "[encoded data removed]",
            "text/plain": [
              "<Figure size 1440x360 with 1 Axes>"
            ]
          },
          "metadata": {
            "tags": []
          }
        }
      ]
    },
    {
      "metadata": {
        "id": "okCKZJY4x8Jz",
        "colab_type": "code",
        "colab": {}
      },
      "cell_type": "code",
      "source": [
        "nlp = spacy.load('en', disable=['parser', 'ner'])"
      ],
      "execution_count": 0,
      "outputs": []
    },
    {
      "metadata": {
        "id": "ThZBR55Dx-9D",
        "colab_type": "code",
        "colab": {}
      },
      "cell_type": "code",
      "source": [
        "def lemmatization(texts, tags=['NOUN', 'ADJ']):\n",
        "    output = []\n",
        "    for sent in texts:\n",
        "        doc = nlp(\" \".join(sent)) \n",
        "        output.append([token.lemma_ for token in doc if token.pos_ in tags])\n",
        "    return output"
      ],
      "execution_count": 0,
      "outputs": []
    },
    {
      "metadata": {
        "id": "jYfPR6PlyB32",
        "colab_type": "code",
        "colab": {
          "base_uri": "https://localhost:8080/",
          "height": 54
        },
        "outputId": "3e16eefe-ddd3-407c-d183-4c24b5f3dbac"
      },
      "cell_type": "code",
      "source": [
        "tokenized_reviews = pd.Series(reviews).apply(lambda x: x.split())\n",
        "print(tokenized_reviews[1])"
      ],
      "execution_count": 41,
      "outputs": [
        {
          "output_type": "stream",
          "text": [
            "['these', 'long', 'cables', 'work', 'fine', 'truck', 'quality', 'seems', 'little', 'shabby', 'side', 'for', 'money', 'expecting', 'dollar', 'snap', 'jumper', 'cables', 'seem', 'like', 'would', 'see', 'chinese', 'knock', 'shop', 'like', 'harbor', 'freight', 'bucks']\n"
          ],
          "name": "stdout"
        }
      ]
    },
    {
      "metadata": {
        "id": "3uEVNhj0yER5",
        "colab_type": "code",
        "colab": {
          "base_uri": "https://localhost:8080/",
          "height": 71
        },
        "outputId": "e0b6a7a0-63f4-47b1-d046-5b4147da8ec6"
      },
      "cell_type": "code",
      "source": [
        "print(tokenized_reviews[1])\n",
        "len(tokenized_reviews[1])"
      ],
      "execution_count": 42,
      "outputs": [
        {
          "output_type": "stream",
          "text": [
            "['these', 'long', 'cables', 'work', 'fine', 'truck', 'quality', 'seems', 'little', 'shabby', 'side', 'for', 'money', 'expecting', 'dollar', 'snap', 'jumper', 'cables', 'seem', 'like', 'would', 'see', 'chinese', 'knock', 'shop', 'like', 'harbor', 'freight', 'bucks']\n"
          ],
          "name": "stdout"
        },
        {
          "output_type": "execute_result",
          "data": {
            "text/plain": [
              "29"
            ]
          },
          "metadata": {
            "tags": []
          },
          "execution_count": 42
        }
      ]
    },
    {
      "metadata": {
        "id": "HQbxs5EjyHNJ",
        "colab_type": "code",
        "colab": {
          "base_uri": "https://localhost:8080/",
          "height": 34
        },
        "outputId": "06af41e1-335b-4c90-c8aa-0d9269620f5a"
      },
      "cell_type": "code",
      "source": [
        "reviews_2 = lemmatization(tokenized_reviews)\n",
        "print(reviews_2[1])"
      ],
      "execution_count": 43,
      "outputs": [
        {
          "output_type": "stream",
          "text": [
            "['long', 'cable', 'fine', 'truck', 'quality', 'little', 'shabby', 'side', 'money', 'dollar', 'jumper', 'cable', 'chinese', 'shop', 'harbor', 'freight', 'buck']\n"
          ],
          "name": "stdout"
        }
      ]
    },
    {
      "metadata": {
        "id": "-2UG8l_UyJ8l",
        "colab_type": "code",
        "colab": {
          "base_uri": "https://localhost:8080/",
          "height": 51
        },
        "outputId": "3dfd3078-576c-49a4-d2ac-cf92bda9fda0"
      },
      "cell_type": "code",
      "source": [
        "print(reviews_2[1])\n",
        "len(reviews_2[1])"
      ],
      "execution_count": 45,
      "outputs": [
        {
          "output_type": "stream",
          "text": [
            "['long', 'cable', 'fine', 'truck', 'quality', 'little', 'shabby', 'side', 'money', 'dollar', 'jumper', 'cable', 'chinese', 'shop', 'harbor', 'freight', 'buck']\n"
          ],
          "name": "stdout"
        },
        {
          "output_type": "execute_result",
          "data": {
            "text/plain": [
              "17"
            ]
          },
          "metadata": {
            "tags": []
          },
          "execution_count": 45
        }
      ]
    },
    {
      "metadata": {
        "id": "0AXZJgNbzLTI",
        "colab_type": "code",
        "colab": {
          "base_uri": "https://localhost:8080/",
          "height": 238
        },
        "outputId": "e065a538-3980-411a-81a4-6913adad0da3"
      },
      "cell_type": "code",
      "source": [
        "set(tokenized_reviews[1]) - set(reviews_2[1])"
      ],
      "execution_count": 46,
      "outputs": [
        {
          "output_type": "execute_result",
          "data": {
            "text/plain": [
              "{'bucks',\n",
              " 'cables',\n",
              " 'expecting',\n",
              " 'for',\n",
              " 'knock',\n",
              " 'like',\n",
              " 'see',\n",
              " 'seem',\n",
              " 'seems',\n",
              " 'snap',\n",
              " 'these',\n",
              " 'work',\n",
              " 'would'}"
            ]
          },
          "metadata": {
            "tags": []
          },
          "execution_count": 46
        }
      ]
    },
    {
      "metadata": {
        "id": "SwAk0qEhzPMc",
        "colab_type": "code",
        "colab": {}
      },
      "cell_type": "code",
      "source": [
        "reviews_3 = []\n",
        "for i in range(len(reviews_2)):\n",
        "    reviews_3.append(' '.join(reviews_2[i]))\n",
        "    \n",
        "df['reviews'] = reviews_3"
      ],
      "execution_count": 0,
      "outputs": []
    },
    {
      "metadata": {
        "id": "aCTNPKFqzRpL",
        "colab_type": "code",
        "colab": {
          "base_uri": "https://localhost:8080/",
          "height": 422
        },
        "outputId": "5d9afcea-1f39-4aea-b530-877d716fcba4"
      },
      "cell_type": "code",
      "source": [
        "freq_words(df['reviews'], 35)"
      ],
      "execution_count": 48,
      "outputs": [
        {
          "output_type": "stream",
          "text": [
            "/usr/local/lib/python3.6/dist-packages/seaborn/categorical.py:342: DeprecationWarning: pandas.core.common.is_categorical_dtype is deprecated. import from the public API: pandas.api.types.is_categorical_dtype instead\n",
            "  elif is_categorical(y):\n",
            "/usr/local/lib/python3.6/dist-packages/seaborn/categorical.py:1428: FutureWarning: remove_na is deprecated and is a private function. Do not use.\n",
            "  stat_data = remove_na(group_data)\n"
          ],
          "name": "stderr"
        },
        {
          "output_type": "display_data",
          "data": {
            "image/png": "[encoded data removed]",
            "text/plain": [
              "<Figure size 1440x360 with 1 Axes>"
            ]
          },
          "metadata": {
            "tags": []
          }
        }
      ]
    },
    {
      "metadata": {
        "id": "jvqViVCxzUMw",
        "colab_type": "code",
        "colab": {}
      },
      "cell_type": "code",
      "source": [
        "dictionary = corpora.Dictionary(reviews_2)"
      ],
      "execution_count": 0,
      "outputs": []
    },
    {
      "metadata": {
        "id": "4m8uA42CzXMc",
        "colab_type": "code",
        "colab": {}
      },
      "cell_type": "code",
      "source": [
        "doc_term_matrix = [dictionary.doc2bow(rev) for rev in reviews_2]"
      ],
      "execution_count": 0,
      "outputs": []
    },
    {
      "metadata": {
        "id": "e_hr6FWezaEZ",
        "colab_type": "code",
        "colab": {}
      },
      "cell_type": "code",
      "source": [
        "LDA = gensim.models.ldamodel.LdaModel"
      ],
      "execution_count": 0,
      "outputs": []
    },
    {
      "metadata": {
        "id": "3DKOKzhXzcqx",
        "colab_type": "code",
        "colab": {}
      },
      "cell_type": "code",
      "source": [
        "lda_model = LDA(corpus=doc_term_matrix,\n",
        "                id2word=dictionary,\n",
        "                num_topics=7, \n",
        "                random_state=100,\n",
        "                chunksize=1000,\n",
        "                passes=50)\n"
      ],
      "execution_count": 0,
      "outputs": []
    },
    {
      "metadata": {
        "id": "9WwpUlPNzfjQ",
        "colab_type": "code",
        "colab": {
          "base_uri": "https://localhost:8080/",
          "height": 861
        },
        "outputId": "be6ad991-ddd5-4402-f956-a870a3a1d81f"
      },
      "cell_type": "code",
      "source": [
        "pyLDAvis.enable_notebook()\n",
        "vis = pyLDAvis.gensim.prepare(lda_model, doc_term_matrix, dictionary)\n",
        "vis"
      ],
      "execution_count": 53,
      "outputs": [
        {
          "output_type": "execute_result",
          "data": {
            "text/html": [
              "\n",
              "<link rel=\"stylesheet\" type=\"text/css\" href=\"https://cdn.rawgit.com/bmabey/pyLDAvis/files/ldavis.v1.0.0.css\">\n",
              "\n",
              "\n",
              "<div id=\"ldavis_el139140641859102664474347477\"></div>\n",
              "<script type=\"text/javascript\">\n",
              "\n",
              "var ldavis_el139140641859102664474347477_data = {\"mdsDat\": {\"Freq\": [21.143177032470703, 18.369775772094727, 15.248682022094727, 14.6740140914917, 11.91758918762207, 9.814881324768066, 8.831884384155273], \"cluster\": [1, 1, 1, 1, 1, 1, 1], \"topics\": [1, 2, 3, 4, 5, 6, 7], \"x\": [-0.023090811065731142, 0.09664864146162916, -0.1075284070115497, -0.1129824613634981, -0.1540575809178716, 0.28519097172855634, 0.01581964716846522], \"y\": [0.14102347901250212, 0.04849841979664786, 0.20242822461671314, -0.1630649494893248, -0.13133640910912464, -0.06228516403808495, -0.03526360078932915]}, \"tinfo\": {\"Category\": [\"Default\", \"Default\", \"Default\", \"Default\", \"Default\", \"Default\", \"Default\", \"Default\", \"Default\", \"Default\", \"Default\", \"Default\", \"Default\", \"Default\", \"Default\", \"Default\", \"Default\", \"Default\", \"Default\", \"Default\", \"Default\", \"Default\", \"Default\", \"Default\", \"Default\", \"Default\", \"Default\", \"Default\", \"Default\", \"Default\", \"Topic1\", \"Topic1\", \"Topic1\", \"Topic1\", \"Topic1\", \"Topic1\", \"Topic1\", \"Topic1\", \"Topic1\", \"Topic1\", \"Topic1\", \"Topic1\", \"Topic1\", \"Topic1\", \"Topic1\", \"Topic1\", \"Topic1\", \"Topic1\", \"Topic1\", \"Topic1\", \"Topic1\", \"Topic1\", \"Topic1\", \"Topic1\", \"Topic1\", \"Topic1\", \"Topic1\", \"Topic1\", \"Topic1\", \"Topic1\", \"Topic1\", \"Topic1\", \"Topic1\", \"Topic1\", \"Topic1\", \"Topic1\", \"Topic1\", \"Topic1\", \"Topic1\", \"Topic1\", \"Topic1\", \"Topic1\", \"Topic1\", \"Topic1\", \"Topic1\", \"Topic1\", \"Topic1\", \"Topic1\", \"Topic1\", \"Topic1\", \"Topic1\", \"Topic1\", \"Topic1\", \"Topic1\", \"Topic2\", \"Topic2\", \"Topic2\", \"Topic2\", \"Topic2\", \"Topic2\", \"Topic2\", \"Topic2\", \"Topic2\", \"Topic2\", \"Topic2\", \"Topic2\", \"Topic2\", \"Topic2\", \"Topic2\", \"Topic2\", \"Topic2\", \"Topic2\", \"Topic2\", \"Topic2\", \"Topic2\", \"Topic2\", \"Topic2\", \"Topic2\", \"Topic2\", \"Topic2\", \"Topic2\", \"Topic2\", \"Topic2\", \"Topic2\", \"Topic2\", \"Topic2\", \"Topic2\", \"Topic2\", \"Topic2\", \"Topic2\", \"Topic2\", \"Topic2\", \"Topic2\", \"Topic2\", \"Topic2\", \"Topic2\", \"Topic2\", \"Topic2\", \"Topic2\", \"Topic2\", \"Topic2\", \"Topic2\", \"Topic2\", \"Topic2\", \"Topic2\", \"Topic2\", \"Topic2\", \"Topic2\", \"Topic2\", \"Topic2\", \"Topic2\", \"Topic2\", \"Topic2\", \"Topic2\", \"Topic2\", \"Topic2\", \"Topic2\", \"Topic2\", \"Topic3\", \"Topic3\", \"Topic3\", \"Topic3\", \"Topic3\", \"Topic3\", \"Topic3\", \"Topic3\", \"Topic3\", \"Topic3\", \"Topic3\", \"Topic3\", \"Topic3\", \"Topic3\", \"Topic3\", \"Topic3\", \"Topic3\", \"Topic3\", \"Topic3\", \"Topic3\", \"Topic3\", \"Topic3\", \"Topic3\", \"Topic3\", \"Topic3\", \"Topic3\", \"Topic3\", \"Topic3\", \"Topic3\", \"Topic3\", \"Topic3\", \"Topic3\", \"Topic3\", \"Topic3\", \"Topic3\", \"Topic3\", \"Topic3\", \"Topic3\", \"Topic3\", \"Topic3\", \"Topic3\", \"Topic3\", \"Topic3\", \"Topic3\", \"Topic3\", \"Topic3\", \"Topic3\", \"Topic3\", \"Topic3\", \"Topic3\", \"Topic3\", \"Topic3\", \"Topic3\", \"Topic3\", \"Topic3\", \"Topic3\", \"Topic3\", \"Topic3\", \"Topic3\", \"Topic3\", \"Topic3\", \"Topic3\", \"Topic3\", \"Topic3\", \"Topic3\", \"Topic3\", \"Topic4\", \"Topic4\", \"Topic4\", \"Topic4\", \"Topic4\", \"Topic4\", \"Topic4\", \"Topic4\", \"Topic4\", \"Topic4\", \"Topic4\", \"Topic4\", \"Topic4\", \"Topic4\", \"Topic4\", \"Topic4\", \"Topic4\", \"Topic4\", \"Topic4\", \"Topic4\", \"Topic4\", \"Topic4\", \"Topic4\", \"Topic4\", \"Topic4\", \"Topic4\", \"Topic4\", \"Topic4\", \"Topic4\", \"Topic4\", \"Topic4\", \"Topic4\", \"Topic4\", \"Topic4\", \"Topic4\", \"Topic4\", \"Topic4\", \"Topic4\", \"Topic4\", \"Topic4\", \"Topic4\", \"Topic4\", \"Topic4\", \"Topic4\", \"Topic4\", \"Topic4\", \"Topic4\", \"Topic4\", \"Topic4\", \"Topic4\", \"Topic4\", \"Topic5\", \"Topic5\", \"Topic5\", \"Topic5\", \"Topic5\", \"Topic5\", \"Topic5\", \"Topic5\", \"Topic5\", \"Topic5\", \"Topic5\", \"Topic5\", \"Topic5\", \"Topic5\", \"Topic5\", \"Topic5\", \"Topic5\", \"Topic5\", \"Topic5\", \"Topic5\", \"Topic5\", \"Topic5\", \"Topic5\", \"Topic5\", \"Topic5\", \"Topic5\", \"Topic5\", \"Topic5\", \"Topic5\", \"Topic5\", \"Topic5\", \"Topic5\", \"Topic5\", \"Topic5\", \"Topic5\", \"Topic5\", \"Topic5\", \"Topic5\", \"Topic5\", \"Topic5\", \"Topic5\", \"Topic5\", \"Topic5\", \"Topic5\", \"Topic5\", \"Topic5\", \"Topic5\", \"Topic5\", \"Topic5\", \"Topic6\", \"Topic6\", \"Topic6\", \"Topic6\", \"Topic6\", \"Topic6\", \"Topic6\", \"Topic6\", \"Topic6\", \"Topic6\", \"Topic6\", \"Topic6\", \"Topic6\", \"Topic6\", \"Topic6\", \"Topic6\", \"Topic6\", \"Topic6\", \"Topic6\", \"Topic6\", \"Topic6\", \"Topic6\", \"Topic6\", \"Topic6\", \"Topic6\", \"Topic6\", \"Topic6\", \"Topic6\", \"Topic6\", \"Topic6\", \"Topic6\", \"Topic6\", \"Topic6\", \"Topic6\", \"Topic6\", \"Topic6\", \"Topic6\", \"Topic6\", \"Topic6\", \"Topic6\", \"Topic6\", \"Topic6\", \"Topic6\", \"Topic6\", \"Topic6\", \"Topic6\", \"Topic6\", \"Topic6\", \"Topic6\", \"Topic6\", \"Topic6\", \"Topic6\", \"Topic6\", \"Topic6\", \"Topic6\", \"Topic6\", \"Topic6\", \"Topic6\", \"Topic6\", \"Topic6\", \"Topic7\", \"Topic7\", \"Topic7\", \"Topic7\", \"Topic7\", \"Topic7\", \"Topic7\", \"Topic7\", \"Topic7\", \"Topic7\", \"Topic7\", \"Topic7\", \"Topic7\", \"Topic7\", \"Topic7\", \"Topic7\", \"Topic7\", \"Topic7\", \"Topic7\", \"Topic7\", \"Topic7\", \"Topic7\", \"Topic7\", \"Topic7\", \"Topic7\", \"Topic7\", \"Topic7\", \"Topic7\", \"Topic7\", \"Topic7\", \"Topic7\", \"Topic7\", \"Topic7\", \"Topic7\", \"Topic7\", \"Topic7\", \"Topic7\", \"Topic7\", \"Topic7\", \"Topic7\", \"Topic7\", \"Topic7\", \"Topic7\", \"Topic7\", \"Topic7\", \"Topic7\", \"Topic7\", \"Topic7\", \"Topic7\", \"Topic7\", \"Topic7\", \"Topic7\", \"Topic7\", \"Topic7\", \"Topic7\", \"Topic7\", \"Topic7\", \"Topic7\", \"Topic7\", \"Topic7\", \"Topic7\", \"Topic7\", \"Topic7\"], \"Freq\": [6340.0, 4672.0, 2615.0, 3131.0, 2179.0, 9494.0, 2742.0, 2242.0, 2251.0, 1721.0, 1670.0, 1703.0, 1810.0, 1980.0, 1610.0, 1270.0, 2326.0, 1147.0, 1511.0, 938.0, 1133.0, 2705.0, 1380.0, 1238.0, 1228.0, 1153.0, 907.0, 814.0, 955.0, 730.0, 2741.4697265625, 1809.4716796875, 1237.7471923828125, 1152.459716796875, 1053.2117919921875, 1044.84423828125, 996.639892578125, 784.2369384765625, 667.4274291992188, 666.891357421875, 553.26171875, 535.7166137695312, 516.6283569335938, 502.8546447753906, 465.1667785644531, 449.7943420410156, 345.77191162109375, 313.13983154296875, 291.5710754394531, 289.0023193359375, 284.5791931152344, 282.7452697753906, 265.0306701660156, 259.6250305175781, 254.63922119140625, 230.55987548828125, 226.00392150878906, 224.23155212402344, 228.81692504882812, 219.903076171875, 2107.35693359375, 417.1498107910156, 763.8829956054688, 668.8602905273438, 938.5155639648438, 711.5806274414062, 5125.80224609375, 619.9989013671875, 1668.3292236328125, 401.3361511230469, 445.1902770996094, 2309.6796875, 948.9578247070312, 543.3150634765625, 1493.3104248046875, 1982.4803466796875, 1309.978515625, 636.781005859375, 1150.621337890625, 639.18359375, 638.1286010742188, 716.17724609375, 666.2822265625, 616.54150390625, 2251.18896484375, 884.5747680664062, 791.4583129882812, 390.9085998535156, 392.49224853515625, 354.3585510253906, 344.6416320800781, 340.1615905761719, 332.6520080566406, 306.1290588378906, 304.58575439453125, 295.67694091796875, 288.8739318847656, 270.6021728515625, 233.5051727294922, 221.58712768554688, 202.82699584960938, 195.1902618408203, 182.9693603515625, 180.8297576904297, 180.18482971191406, 184.40728759765625, 168.6904754638672, 162.39163208007812, 150.5177001953125, 149.1155242919922, 145.8327178955078, 135.3188018798828, 135.70587158203125, 134.2821044921875, 649.9064331054688, 141.41844177246094, 1466.86181640625, 975.005615234375, 280.44061279296875, 607.7666015625, 441.4112243652344, 485.5549621582031, 375.7105712890625, 380.4616394042969, 714.1419067382812, 735.6838989257812, 344.02978515625, 512.4531860351562, 728.4484252929688, 717.5794677734375, 517.0418701171875, 907.1375732421875, 753.00048828125, 1325.1387939453125, 613.9886474609375, 629.57373046875, 1002.189697265625, 832.3955688476562, 824.6001586914062, 580.4780883789062, 516.5751953125, 1155.219482421875, 738.1327514648438, 545.4715576171875, 778.53173828125, 664.4609375, 759.6307983398438, 609.9335327148438, 2241.686279296875, 1702.4326171875, 576.9344482421875, 412.9560852050781, 322.5109558105469, 249.82708740234375, 226.39202880859375, 221.83839416503906, 207.0796661376953, 188.96461486816406, 184.80372619628906, 180.7098388671875, 174.1269989013672, 156.4347381591797, 154.897705078125, 139.69667053222656, 128.122314453125, 132.45103454589844, 126.6875, 122.60160827636719, 121.7070541381836, 118.71139526367188, 111.25675964355469, 104.40558624267578, 99.47759246826172, 93.34197235107422, 92.82283020019531, 91.7942886352539, 91.13465881347656, 90.86016845703125, 1594.871337890625, 726.3505859375, 191.2749481201172, 180.5279998779297, 4030.204833984375, 290.3238525390625, 709.648193359375, 302.1520080566406, 530.1395263671875, 399.6636047363281, 277.09442138671875, 503.09796142578125, 3162.3671875, 823.7496337890625, 688.8216552734375, 1704.6517333984375, 490.6244812011719, 251.55642700195312, 579.3088989257812, 301.9328918457031, 506.6250305175781, 306.50732421875, 569.6559448242188, 867.7138671875, 527.3019409179688, 409.7389221191406, 511.83526611328125, 683.7156372070312, 673.6485595703125, 420.86004638671875, 517.5603637695312, 496.3395080566406, 409.0694274902344, 478.8879699707031, 435.32568359375, 428.3789978027344, 3131.2333984375, 1670.105712890625, 1132.3116455078125, 906.6100463867188, 790.4658203125, 763.0433349609375, 688.8208618164062, 668.4595336914062, 604.15869140625, 379.9565734863281, 346.8699035644531, 330.3983154296875, 313.3704528808594, 306.2403259277344, 288.91998291015625, 278.5141296386719, 275.0909729003906, 257.7170715332031, 257.047607421875, 245.9652862548828, 227.48638916015625, 223.68687438964844, 211.7165985107422, 190.2104034423828, 181.72549438476562, 178.0623779296875, 158.68150329589844, 155.19183349609375, 151.0209503173828, 146.5345001220703, 1524.515380859375, 4096.32421875, 1024.63427734375, 458.3328552246094, 409.638427734375, 349.1188049316406, 352.6123046875, 584.60009765625, 581.3019409179688, 418.8168029785156, 358.1185302734375, 1472.9686279296875, 728.0436401367188, 400.8212585449219, 608.5204467773438, 464.5047912597656, 504.33380126953125, 338.9296875, 391.67376708984375, 380.1913146972656, 379.0306701660156, 1721.2808837890625, 1270.13818359375, 1146.571044921875, 813.9552612304688, 714.3867797851562, 540.0035400390625, 507.3508605957031, 488.81939697265625, 434.5574035644531, 421.1827087402344, 407.2251281738281, 405.71044921875, 335.70782470703125, 277.75244140625, 260.2535705566406, 257.7909851074219, 234.95664978027344, 231.1648406982422, 231.66598510742188, 224.1940155029297, 209.30848693847656, 197.54766845703125, 184.29214477539062, 169.94911193847656, 160.0460662841797, 153.72494506835938, 152.50657653808594, 145.01364135742188, 137.78431701660156, 133.4224090576172, 712.310302734375, 295.6656799316406, 381.6024475097656, 1056.8701171875, 340.3686218261719, 301.9303894042969, 391.8402404785156, 1946.85595703125, 766.1721801757812, 421.93096923828125, 356.8960266113281, 424.0926513671875, 396.89495849609375, 373.9938049316406, 522.3016357421875, 466.6358642578125, 331.8929443359375, 332.0663757324219, 303.0268859863281, 729.4840087890625, 695.9466552734375, 683.344970703125, 569.35498046875, 347.7381286621094, 328.2148742675781, 281.68353271484375, 241.42086791992188, 227.12014770507812, 199.04989624023438, 195.6593780517578, 168.03050231933594, 168.49453735351562, 156.73947143554688, 155.2780303955078, 153.5001983642578, 154.06845092773438, 146.04051208496094, 139.78225708007812, 126.8057861328125, 109.5069808959961, 105.72666931152344, 103.96039581298828, 101.94795227050781, 98.92035675048828, 95.4391098022461, 92.45127868652344, 91.19056701660156, 87.44147491455078, 86.16857147216797, 184.46249389648438, 509.1040954589844, 734.1458740234375, 579.2911376953125, 169.4344940185547, 268.94970703125, 286.0932312011719, 226.84918212890625, 237.64117431640625, 410.6005554199219, 288.3211364746094, 898.5034790039062, 540.8547973632812, 295.8092346191406, 454.9716796875, 271.7275390625, 283.467041015625, 315.5677185058594, 325.0483703613281, 391.1327819824219, 326.11273193359375, 425.4954833984375, 290.0171813964844, 398.2135925292969, 358.67059326171875, 337.34893798828125, 290.334228515625, 288.4227294921875, 297.2923889160156, 283.7943115234375, 2614.6455078125, 2179.04541015625, 937.9371948242188, 574.0090942382812, 330.33587646484375, 176.9833984375, 169.60462951660156, 144.4921875, 131.54965209960938, 122.2121353149414, 111.60164642333984, 111.82508087158203, 107.920654296875, 103.53070831298828, 93.14210510253906, 92.61332702636719, 83.51216125488281, 84.32862091064453, 82.98497772216797, 78.71112060546875, 75.56008911132812, 74.27619171142578, 74.1552963256836, 65.70808410644531, 60.1978645324707, 59.237369537353516, 56.71358108520508, 56.39035415649414, 56.172218322753906, 56.47712707519531, 341.1668395996094, 682.2048950195312, 57.144126892089844, 424.6708068847656, 127.78069305419922, 259.1611328125, 260.3548583984375, 222.45758056640625, 152.98573303222656, 340.22979736328125, 533.7774047851562, 311.73077392578125, 239.63893127441406, 328.16864013671875, 438.15557861328125, 338.85955810546875, 545.7898559570312, 380.857421875, 435.13018798828125, 310.27288818359375, 169.30210876464844, 168.1883544921875, 557.6925048828125, 441.0527648925781, 200.9977264404297, 520.2106323242188, 207.02047729492188, 319.13970947265625, 287.59063720703125, 234.09152221679688, 220.5780029296875, 230.25747680664062, 233.34603881835938], \"Term\": [\"product\", \"light\", \"blade\", \"battery\", \"wiper\", \"car\", \"towel\", \"price\", \"tire\", \"oil\", \"bulb\", \"leather\", \"wax\", \"quality\", \"power\", \"filter\", \"clean\", \"engine\", \"hose\", \"windshield\", \"bright\", \"water\", \"device\", \"wash\", \"unit\", \"paint\", \"charger\", \"code\", \"install\", \"door\", \"towel\", \"wax\", \"wash\", \"paint\", \"microfiber\", \"spray\", \"dry\", \"shine\", \"cloth\", \"dirt\", \"clay\", \"polish\", \"griot\", \"dust\", \"meguiar\", \"coat\", \"washing\", \"liquid\", \"soap\", \"detailer\", \"carpet\", \"bucket\", \"chamois\", \"cleaning\", \"scent\", \"sponge\", \"mitt\", \"cleaner\", \"torque\", \"shiny\", \"clean\", \"scratch\", \"pad\", \"finish\", \"surface\", \"bottle\", \"car\", \"soft\", \"water\", \"wet\", \"wipe\", \"product\", \"job\", \"result\", \"use\", \"good\", \"time\", \"stuff\", \"great\", \"black\", \"hand\", \"new\", \"lot\", \"nice\", \"tire\", \"trailer\", \"gauge\", \"weight\", \"usb\", \"duty\", \"strap\", \"hitch\", \"storage\", \"sewer\", \"compressor\", \"screen\", \"button\", \"block\", \"travel\", \"family\", \"thread\", \"fitting\", \"wrap\", \"ramp\", \"vent\", \"bluetooth\", \"psi\", \"gun\", \"camco\", \"pipe\", \"scan\", \"bristle\", \"bamboo\", \"pan\", \"bag\", \"crash\", \"hose\", \"pressure\", \"grip\", \"cover\", \"board\", \"valve\", \"handle\", \"solid\", \"heavy\", \"air\", \"tight\", \"tank\", \"tool\", \"large\", \"rubber\", \"small\", \"plastic\", \"use\", \"wheel\", \"size\", \"easy\", \"nice\", \"water\", \"enough\", \"place\", \"good\", \"work\", \"fit\", \"time\", \"little\", \"great\", \"thing\", \"price\", \"leather\", \"inverter\", \"chemical\", \"conditioner\", \"iphone\", \"odor\", \"wrench\", \"shipping\", \"sample\", \"reading\", \"grit\", \"mother\", \"pay\", \"shoe\", \"boot\", \"lexol\", \"habit\", \"nova\", \"signal\", \"live\", \"tablet\", \"bank\", \"pleasant\", \"pricey\", \"alot\", \"prep\", \"prime\", \"gift\", \"jacket\", \"quality\", \"amazon\", \"customer\", \"thank\", \"product\", \"value\", \"worth\", \"deal\", \"store\", \"auto\", \"buy\", \"money\", \"good\", \"review\", \"cheap\", \"great\", \"seat\", \"local\", \"item\", \"guy\", \"star\", \"purchase\", \"part\", \"work\", \"high\", \"brand\", \"kit\", \"use\", \"time\", \"many\", \"year\", \"little\", \"day\", \"easy\", \"new\", \"car\", \"battery\", \"bulb\", \"bright\", \"charger\", \"phone\", \"charge\", \"cable\", \"wire\", \"jack\", \"solar\", \"fuse\", \"switch\", \"watt\", \"cigarette\", \"cell\", \"laptop\", \"tender\", \"output\", \"beam\", \"amp\", \"led\", \"wiring\", \"voltage\", \"electrical\", \"dead\", \"pin\", \"terminal\", \"harness\", \"lamp\", \"receiver\", \"power\", \"light\", \"unit\", \"connector\", \"port\", \"socket\", \"cord\", \"white\", \"plug\", \"adapter\", \"blue\", \"car\", \"use\", \"low\", \"time\", \"vehicle\", \"good\", \"panel\", \"small\", \"long\", \"great\", \"oil\", \"filter\", \"engine\", \"code\", \"app\", \"bosch\", \"gas\", \"mile\", \"fuel\", \"datum\", \"information\", \"fluid\", \"sensor\", \"scanner\", \"zubie\", \"mpg\", \"mileage\", \"link\", \"lint\", \"mechanic\", \"display\", \"vacuum\", \"software\", \"transmission\", \"electronic\", \"coolant\", \"gear\", \"diagnostic\", \"reader\", \"privacy\", \"change\", \"drain\", \"automatic\", \"device\", \"honda\", \"check\", \"trip\", \"car\", \"vehicle\", \"plug\", \"system\", \"problem\", \"tool\", \"air\", \"time\", \"good\", \"new\", \"use\", \"year\", \"door\", \"tape\", \"jeep\", \"mat\", \"bolt\", \"strip\", \"plate\", \"volt\", \"drill\", \"wind\", \"adhesive\", \"remote\", \"elbow\", \"nut\", \"lighting\", \"visor\", \"view\", \"compact\", \"rim\", \"console\", \"van\", \"dome\", \"portion\", \"flimsy\", \"backing\", \"monitor\", \"class\", \"grill\", \"speaker\", \"wrangler\", \"center\", \"headlight\", \"install\", \"front\", \"mount\", \"factory\", \"screw\", \"mirror\", \"hood\", \"instruction\", \"hole\", \"easy\", \"side\", \"installation\", \"fit\", \"bar\", \"driver\", \"seat\", \"place\", \"plastic\", \"area\", \"little\", \"minute\", \"great\", \"light\", \"work\", \"thing\", \"small\", \"good\", \"way\", \"blade\", \"wiper\", \"windshield\", \"snow\", \"arm\", \"scraper\", \"icon\", \"season\", \"gasket\", \"report\", \"anco\", \"pink\", \"leg\", \"acdelco\", \"horn\", \"grey\", \"fixture\", \"ignition\", \"visibility\", \"chain\", \"sharp\", \"city\", \"tap\", \"convenience\", \"steam\", \"snug\", \"late\", \"frameless\", \"neck\", \"news\", \"ice\", \"rain\", \"audible\", \"winter\", \"vision\", \"weather\", \"original\", \"cold\", \"summer\", \"window\", \"old\", \"glass\", \"replacement\", \"month\", \"side\", \"clear\", \"year\", \"last\", \"new\", \"one\", \"style\", \"streak\", \"good\", \"time\", \"design\", \"car\", \"driver\", \"easy\", \"work\", \"part\", \"install\", \"day\", \"long\"], \"Total\": [6340.0, 4672.0, 2615.0, 3131.0, 2179.0, 9494.0, 2742.0, 2242.0, 2251.0, 1721.0, 1670.0, 1703.0, 1810.0, 1980.0, 1610.0, 1270.0, 2326.0, 1147.0, 1511.0, 938.0, 1133.0, 2705.0, 1380.0, 1238.0, 1228.0, 1153.0, 907.0, 814.0, 955.0, 730.0, 2742.19287109375, 1810.1943359375, 1238.47021484375, 1153.18310546875, 1053.934814453125, 1045.5677490234375, 997.3646240234375, 784.9600830078125, 668.1508178710938, 667.6160888671875, 553.9843139648438, 536.439453125, 517.3516235351562, 503.578857421875, 465.8893737792969, 450.5182189941406, 346.49560546875, 313.8642578125, 292.2940368652344, 289.724853515625, 285.3051452636719, 283.4682922363281, 265.7541809082031, 260.3487548828125, 255.3631134033203, 231.28289794921875, 226.7267303466797, 224.9558563232422, 229.5572052001953, 220.62680053710938, 2326.93212890625, 433.3619689941406, 842.904296875, 764.7451782226562, 1150.91064453125, 839.6189575195312, 9494.4609375, 751.769287109375, 2705.163818359375, 451.5523681640625, 528.7500610351562, 6340.48828125, 1853.315185546875, 754.383544921875, 4562.5087890625, 8126.021484375, 4586.7666015625, 1078.1177978515625, 4752.17041015625, 1094.159423828125, 1187.47265625, 2132.450439453125, 1799.9967041015625, 2443.976318359375, 2251.893798828125, 885.2794189453125, 792.1626586914062, 391.6147155761719, 393.2142639160156, 355.0643310546875, 345.34625244140625, 340.8664855957031, 333.3581848144531, 306.833251953125, 305.2902526855469, 296.3857727050781, 289.582763671875, 271.3081359863281, 234.21063232421875, 222.30189514160156, 203.53343200683594, 195.89517211914062, 183.67831420898438, 181.5350341796875, 180.88990783691406, 185.14306640625, 169.3946075439453, 163.0972900390625, 151.22181701660156, 149.8214569091797, 146.5487823486328, 136.02467346191406, 136.4149169921875, 134.98828125, 660.9263916015625, 142.2067108154297, 1511.8751220703125, 1002.1265869140625, 291.2113342285156, 665.42626953125, 485.83721923828125, 546.6964721679688, 421.78546142578125, 428.924560546875, 935.7076416015625, 1110.2542724609375, 414.5997314453125, 725.0480346679688, 1244.49755859375, 1278.7899169921875, 796.5637817382812, 2147.71435546875, 1584.508056640625, 4562.5087890625, 1172.6650390625, 1260.7099609375, 3532.182373046875, 2443.976318359375, 2705.163818359375, 1220.244384765625, 949.926025390625, 8126.021484375, 3309.058837890625, 1309.1497802734375, 4586.7666015625, 2604.954345703125, 4752.17041015625, 2322.95751953125, 2242.401123046875, 1703.14599609375, 577.6541748046875, 413.6717834472656, 323.2242126464844, 250.55404663085938, 227.10816955566406, 222.55409240722656, 207.7935028076172, 189.69082641601562, 185.52096557617188, 181.4279327392578, 174.8414764404297, 157.1494903564453, 155.6121063232422, 140.41163635253906, 128.835205078125, 133.19667053222656, 127.40357971191406, 123.3231201171875, 122.42575073242188, 119.43177795410156, 111.97633361816406, 105.12247467041016, 100.1930160522461, 94.05964660644531, 93.54225158691406, 92.50926208496094, 91.85092163085938, 91.57440185546875, 1980.332275390625, 867.294189453125, 204.8115234375, 194.1149444580078, 6340.48828125, 335.7091979980469, 934.9334716796875, 371.0318603515625, 742.5319213867188, 536.5746459960938, 341.1553649902344, 738.8583984375, 8126.021484375, 1453.2659912109375, 1155.09521484375, 4752.17041015625, 806.7928466796875, 310.9755554199219, 1094.1688232421875, 416.9975280761719, 1018.18994140625, 455.4145812988281, 1395.9002685546875, 3309.058837890625, 1377.288818359375, 828.4036254882812, 1355.4234619140625, 4562.5087890625, 4586.7666015625, 1196.00830078125, 2317.31005859375, 2604.954345703125, 1421.29345703125, 3532.182373046875, 2132.450439453125, 9494.4609375, 3131.9560546875, 1670.8284912109375, 1133.03515625, 907.3323364257812, 791.1929321289062, 763.7661743164062, 689.5445556640625, 669.18310546875, 604.8822631835938, 380.67974853515625, 347.59295654296875, 331.12237548828125, 314.0932312011719, 306.9629821777344, 289.64501953125, 279.23876953125, 275.8130798339844, 258.44000244140625, 257.7748718261719, 246.68789672851562, 228.20950317382812, 224.4099884033203, 212.43910217285156, 190.93478393554688, 182.44985961914062, 178.78726196289062, 159.4040985107422, 155.9149169921875, 151.7439727783203, 147.25942993164062, 1610.654541015625, 4672.78173828125, 1228.0457763671875, 525.68505859375, 484.3909912109375, 414.2265319824219, 422.9078369140625, 914.561767578125, 1003.8272094726562, 611.88232421875, 508.2828674316406, 9494.4609375, 4562.5087890625, 886.4468994140625, 4586.7666015625, 2293.188232421875, 8126.021484375, 589.7030029296875, 2147.71435546875, 1771.797119140625, 4752.17041015625, 1721.9859619140625, 1270.842529296875, 1147.2764892578125, 814.6600341796875, 715.0928344726562, 540.72021484375, 508.05731201171875, 489.5251159667969, 435.26202392578125, 421.88824462890625, 407.931884765625, 406.4158935546875, 336.4134826660156, 278.4571533203125, 260.9629821777344, 258.4953918457031, 235.66136169433594, 231.87294006347656, 232.38494873046875, 224.89955139160156, 210.0158233642578, 198.25759887695312, 184.9970703125, 170.65347290039062, 160.75881958007812, 154.42958068847656, 153.2136688232422, 145.71823120117188, 138.489013671875, 134.13043212890625, 788.8580322265625, 316.7197570800781, 425.1395263671875, 1380.125244140625, 426.5397033691406, 445.6142272949219, 682.981201171875, 9494.4609375, 2293.188232421875, 1003.8272094726562, 752.8389892578125, 1436.43115234375, 1244.49755859375, 1110.2542724609375, 4586.7666015625, 8126.021484375, 2132.450439453125, 4562.5087890625, 2317.31005859375, 730.2055053710938, 696.6683349609375, 684.065673828125, 570.0765380859375, 348.4590759277344, 328.93707275390625, 282.4042663574219, 242.14540100097656, 227.84136962890625, 199.77418518066406, 196.38246154785156, 168.75265502929688, 169.2187957763672, 157.46017456054688, 156.0011444091797, 154.2217254638672, 154.79415893554688, 146.7642059326172, 140.5043182373047, 127.52729034423828, 110.23015594482422, 106.45063018798828, 104.68448638916016, 102.67041778564453, 99.6417007446289, 96.16680908203125, 93.1742935180664, 91.91202545166016, 88.16383361816406, 86.88862609863281, 188.29063415527344, 616.8135986328125, 955.3258056640625, 757.5994262695312, 197.31471252441406, 378.0417175292969, 414.8287658691406, 307.75311279296875, 344.4324645996094, 875.3237915039062, 505.4687194824219, 3532.182373046875, 1477.705810546875, 545.7512817382812, 1309.1497802734375, 504.70166015625, 627.3951416015625, 806.7928466796875, 949.926025390625, 1584.508056640625, 1084.6123046875, 2604.954345703125, 929.4519653320312, 4752.17041015625, 4672.78173828125, 3309.058837890625, 2322.95751953125, 2147.71435546875, 8126.021484375, 1979.7166748046875, 2615.35986328125, 2179.759765625, 938.6522216796875, 574.7239990234375, 331.05169677734375, 177.69830322265625, 170.32003784179688, 145.20822143554688, 132.2661590576172, 122.93775177001953, 112.31576538085938, 112.54086303710938, 108.64176940917969, 104.24574279785156, 93.85658264160156, 93.3342514038086, 84.23229217529297, 85.05618286132812, 83.70369720458984, 79.4285888671875, 76.27790832519531, 74.99707794189453, 74.87593841552734, 66.43281555175781, 60.918617248535156, 59.95438003540039, 57.43147659301758, 57.104549407958984, 56.88915252685547, 57.19884490966797, 357.1302490234375, 746.0734252929688, 57.90953063964844, 505.46173095703125, 150.21612548828125, 392.84674072265625, 446.545654296875, 362.7304992675781, 225.4067840576172, 780.1104736328125, 1689.711669921875, 722.9815673828125, 477.0286865234375, 885.2926635742188, 1477.705810546875, 967.8223266601562, 2317.31005859375, 1383.74365234375, 2132.450439453125, 1103.637939453125, 302.44195556640625, 300.2420654296875, 8126.021484375, 4586.7666015625, 500.037353515625, 9494.4609375, 627.3951416015625, 3532.182373046875, 3309.058837890625, 1395.9002685546875, 955.3258056640625, 1421.29345703125, 1771.797119140625], \"loglift\": [30.0, 29.0, 28.0, 27.0, 26.0, 25.0, 24.0, 23.0, 22.0, 21.0, 20.0, 19.0, 18.0, 17.0, 16.0, 15.0, 14.0, 13.0, 12.0, 11.0, 10.0, 9.0, 8.0, 7.0, 6.0, 5.0, 4.0, 3.0, 2.0, 1.0, 1.5535999536514282, 1.5535000562667847, 1.5533000230789185, 1.5532000064849854, 1.5532000064849854, 1.5532000064849854, 1.5530999898910522, 1.552899956703186, 1.5528000593185425, 1.5528000593185425, 1.5525000095367432, 1.5525000095367432, 1.5525000095367432, 1.55239999294281, 1.552299976348877, 1.5521999597549438, 1.551800012588501, 1.5514999628067017, 1.5513999462127686, 1.5513999462127686, 1.551300048828125, 1.551300048828125, 1.5511000156402588, 1.5511000156402588, 1.5509999990463257, 1.5506999492645264, 1.5506999492645264, 1.5506000518798828, 1.5506000518798828, 1.5506000518798828, 1.454699993133545, 1.5156999826431274, 1.455399990081787, 1.4198999404907227, 1.3497999906539917, 1.3883999586105347, 0.9373999834060669, 1.3610999584197998, 1.0705000162124634, 1.4359999895095825, 1.3818000555038452, 0.5440000295639038, 0.8845000267028809, 1.225600004196167, 0.43700000643730164, 0.14309999346733093, 0.30070000886917114, 1.0273000001907349, 0.1356000006198883, 1.0162999629974365, 0.9327999949455261, 0.462799996137619, 0.5600000023841858, 0.17659999430179596, 1.694200038909912, 1.6936999559402466, 1.693600058555603, 1.6927000284194946, 1.6926000118255615, 1.6924999952316284, 1.6923999786376953, 1.6923999786376953, 1.6922999620437622, 1.692199945449829, 1.692199945449829, 1.6921000480651855, 1.6920000314712524, 1.6919000148773193, 1.6914000511169434, 1.6912000179290771, 1.690999984741211, 1.6908999681472778, 1.690600037574768, 1.690600037574768, 1.690600037574768, 1.690500020980835, 1.6902999877929688, 1.6900999546051025, 1.6898000240325928, 1.6897000074386597, 1.6895999908447266, 1.6892999410629272, 1.6892999410629272, 1.6892000436782837, 1.6776000261306763, 1.6888999938964844, 1.664199948310852, 1.6670000553131104, 1.6568000316619873, 1.6038000583648682, 1.5986000299453735, 1.5758999586105347, 1.5787999629974365, 1.5745999813079834, 1.4242000579833984, 1.2828999757766724, 1.5078999996185303, 1.3473999500274658, 1.1589000225067139, 1.1167000532150269, 1.2623000144958496, 0.8325999975204468, 0.9505000114440918, 0.45809999108314514, 1.0473999977111816, 1.000100016593933, 0.43470001220703125, 0.6173999905586243, 0.5063999891281128, 0.9514999985694885, 1.0852999687194824, -0.2563000023365021, 0.19419999420642853, 0.8190000057220459, -0.07909999787807465, 0.32829999923706055, -0.13910000026226044, 0.3571999967098236, 1.8803999423980713, 1.8803000450134277, 1.8794000148773193, 1.8789000511169434, 1.878499984741211, 1.8777999877929688, 1.877500057220459, 1.877500057220459, 1.8772000074386597, 1.8767999410629272, 1.8767999410629272, 1.8767000436782837, 1.8766000270843506, 1.876099944114685, 1.876099944114685, 1.875599980354309, 1.875100016593933, 1.875100016593933, 1.875, 1.8747999668121338, 1.8747999668121338, 1.8746000528335571, 1.8741999864578247, 1.8738000392913818, 1.8734999895095825, 1.8730000257492065, 1.8730000257492065, 1.8729000091552734, 1.8727999925613403, 1.8727999925613403, 1.664199948310852, 1.7032999992370605, 1.8122999668121338, 1.8080999851226807, 1.4275000095367432, 1.7353999614715576, 1.6050000190734863, 1.6753000020980835, 1.5437999963760376, 1.5860999822616577, 1.672700047492981, 1.496399998664856, 0.9369000196456909, 1.312999963760376, 1.363700032234192, 0.855400025844574, 1.3832999467849731, 1.6685999631881714, 1.2447999715805054, 1.557800054550171, 1.1827000379562378, 1.4846999645233154, 0.9843999743461609, 0.5421000123023987, 0.9205999970436096, 1.1766999959945679, 0.9067999720573425, -0.017400000244379044, -0.03750000149011612, 0.8361999988555908, 0.3815999925136566, 0.22280000150203705, 0.635200023651123, -0.11749999970197678, 0.29170000553131104, -1.2178000211715698, 1.9189000129699707, 1.9186999797821045, 1.9184999465942383, 1.9183000326156616, 1.9182000160217285, 1.9180999994277954, 1.9179999828338623, 1.9179999828338623, 1.9178999662399292, 1.917199969291687, 1.9170000553131104, 1.9169000387191772, 1.9168000221252441, 1.916700005531311, 1.916599988937378, 1.9164999723434448, 1.9164999723434448, 1.9163000583648682, 1.9163000583648682, 1.916200041770935, 1.9158999919891357, 1.9158999919891357, 1.9156999588012695, 1.9153000116348267, 1.9150999784469604, 1.9149999618530273, 1.9144999980926514, 1.9143999814987183, 1.9142999649047852, 1.914199948310852, 1.8640999794006348, 1.7874000072479248, 1.7380000352859497, 1.781999945640564, 1.7515000104904175, 1.7481000423431396, 1.7373000383377075, 1.47160005569458, 1.3727999925613403, 1.5399999618530273, 1.5688999891281128, 0.05570000037550926, 0.08380000293254852, 1.1253999471664429, -0.10080000013113022, 0.3224000036716461, -0.8604999780654907, 1.3653000593185425, 0.21739999949932098, 0.3799999952316284, -0.6096000075340271, 2.126699924468994, 2.1266000270843506, 2.126499891281128, 2.126300096511841, 2.126199960708618, 2.1257998943328857, 2.1257998943328857, 2.125699996948242, 2.125499963760376, 2.125499963760376, 2.1254000663757324, 2.1254000663757324, 2.1250998973846436, 2.1245999336242676, 2.1243999004364014, 2.1243999004364014, 2.1242001056671143, 2.1240999698638916, 2.1240999698638916, 2.124000072479248, 2.123800039291382, 2.1236000061035156, 2.123300075531006, 2.122999906539917, 2.1226999759674072, 2.1226000785827637, 2.122499942779541, 2.122299909591675, 2.1221001148223877, 2.1219000816345215, 2.025099992752075, 2.0583999156951904, 2.0190999507904053, 1.8602999448776245, 1.9014999866485596, 1.7379000186920166, 1.5714999437332153, 0.5426999926567078, 1.030900001525879, 1.2604000568389893, 1.3806999921798706, 0.9071999788284302, 0.9843000173568726, 1.0390000343322754, -0.045499999076128006, -0.7300999760627747, 0.2669000029563904, -0.49309998750686646, 0.09279999881982803, 2.3203001022338867, 2.320199966430664, 2.320199966430664, 2.319999933242798, 2.319200038909912, 2.3190999031066895, 2.318700075149536, 2.3183000087738037, 2.3180999755859375, 2.3176000118255615, 2.3176000118255615, 2.316999912261963, 2.316999912261963, 2.316699981689453, 2.3166000843048096, 2.3166000843048096, 2.3166000843048096, 2.3162999153137207, 2.3160998821258545, 2.3155999183654785, 2.31469988822937, 2.3143999576568604, 2.314300060272217, 2.314199924468994, 2.313999891281128, 2.313699960708618, 2.313499927520752, 2.3134000301361084, 2.312999963760376, 2.3129000663757324, 2.3006999492645264, 2.1294000148773193, 2.0578999519348145, 2.0529000759124756, 2.1689000129699707, 1.9808000326156616, 1.9496999979019165, 2.0162999629974365, 1.9500999450683594, 1.5642999410629272, 1.7598999738693237, 0.9523000121116638, 1.3162000179290771, 1.708799958229065, 1.2644000053405762, 1.7021000385284424, 1.5268000364303589, 1.382599949836731, 1.248900055885315, 0.9222999811172485, 1.1195000410079956, 0.5094000101089478, 1.156599998474121, -0.15809999406337738, -0.24580000340938568, 0.03799999877810478, 0.24169999361038208, 0.31349998712539673, -0.9868000149726868, 0.37880000472068787, 2.426500082015991, 2.426500082015991, 2.4260001182556152, 2.425600051879883, 2.4245998859405518, 2.422800064086914, 2.422600030899048, 2.4219000339508057, 2.4214000701904297, 2.4209001064300537, 2.4203999042510986, 2.4203999042510986, 2.420099973678589, 2.4198999404907227, 2.4191999435424805, 2.4189999103546143, 2.4182000160217285, 2.4182000160217285, 2.4182000160217285, 2.4177000522613525, 2.41729998588562, 2.417099952697754, 2.417099952697754, 2.415800094604492, 2.414900064468384, 2.414799928665161, 2.4142000675201416, 2.4142000675201416, 2.414099931716919, 2.414099931716919, 2.3810999393463135, 2.3373000621795654, 2.4135000705718994, 2.2525999546051025, 2.265000104904175, 2.0107998847961426, 1.8873000144958496, 1.9378999471664429, 2.0392000675201416, 1.597000002861023, 1.2745000123977661, 1.5856000185012817, 1.7383999824523926, 1.434399962425232, 1.2110999822616577, 1.3773000240325928, 0.98089998960495, 1.1367000341415405, 0.8374000191688538, 1.1578999757766724, 1.84660005569458, 1.8473000526428223, -0.25220000743865967, 0.08500000089406967, 1.5154000520706177, -0.477400004863739, 1.3179999589920044, 0.02280000038444996, -0.016100000590085983, 0.6412000060081482, 0.9610000252723694, 0.6067000031471252, 0.39959999918937683], \"logprob\": [30.0, 29.0, 28.0, 27.0, 26.0, 25.0, 24.0, 23.0, 22.0, 21.0, 20.0, 19.0, 18.0, 17.0, 16.0, 15.0, 14.0, 13.0, 12.0, 11.0, 10.0, 9.0, 8.0, 7.0, 6.0, 5.0, 4.0, 3.0, 2.0, 1.0, -3.7393999099731445, -4.154900074005127, -4.534599781036377, -4.605999946594238, -4.696100234985352, -4.704100131988525, -4.751299858093262, -4.991000175476074, -5.152200222015381, -5.15310001373291, -5.339799880981445, -5.372099876403809, -5.408400058746338, -5.435400009155273, -5.513299942016602, -5.546899795532227, -5.809899806976318, -5.908999919891357, -5.980400085449219, -5.989200115203857, -6.004700183868408, -6.011099815368652, -6.075799942016602, -6.096399784088135, -6.115799903869629, -6.215199947357178, -6.235099792480469, -6.243000030517578, -6.222799777984619, -6.262499809265137, -4.002500057220459, -5.622200012207031, -5.017300128936768, -5.150100231170654, -4.811399936676025, -5.088200092315674, -3.113600015640259, -5.22599983215332, -4.236100196838379, -5.660900115966797, -5.557199954986572, -3.910799980163574, -4.800300121307373, -5.357999801635742, -4.34689998626709, -4.063600063323975, -4.47790002822876, -5.1992998123168945, -4.607600212097168, -5.195499897003174, -5.1971001625061035, -5.0817999839782715, -5.1539998054504395, -5.231599807739258, -3.7959001064300537, -4.730000019073486, -4.84119987487793, -5.546599864959717, -5.542600154876709, -5.644800186157227, -5.672599792480469, -5.6855998039245605, -5.708000183105469, -5.791100025177002, -5.79610013961792, -5.825799942016602, -5.849100112915039, -5.914400100708008, -6.0619001388549805, -6.114299774169922, -6.202700138092041, -6.241099834442139, -6.305799961090088, -6.317500114440918, -6.321100234985352, -6.297900199890137, -6.38700008392334, -6.425099849700928, -6.500999927520752, -6.510300159454346, -6.532599925994873, -6.607399940490723, -6.604599952697754, -6.615099906921387, -5.0381999015808105, -6.563300132751465, -4.2241997718811035, -4.632599830627441, -5.878699779510498, -5.105299949645996, -5.425099849700928, -5.329800128936768, -5.58620023727417, -5.573699951171875, -4.943999767303467, -4.914299964904785, -5.674300193786621, -5.275899887084961, -4.924200057983398, -4.939199924468994, -5.266900062561035, -4.704800128936768, -4.890999794006348, -4.325799942016602, -5.095099925994873, -5.070000171661377, -4.605100154876709, -4.790800094604492, -4.80019998550415, -5.151199817657471, -5.2677998542785645, -4.4629998207092285, -4.910900115966797, -5.213399887084961, -4.857699871063232, -5.01609992980957, -4.882199764251709, -5.1016998291015625, -3.6138999462127686, -3.8889999389648438, -4.971099853515625, -5.305500030517578, -5.552700042724609, -5.80810022354126, -5.906599998474121, -5.9268999099731445, -5.995800018310547, -6.087299823760986, -6.109600067138672, -6.131999969482422, -6.169099807739258, -6.276199817657471, -6.286099910736084, -6.389400005340576, -6.475900173187256, -6.442599773406982, -6.487100124359131, -6.519899845123291, -6.527200222015381, -6.552199840545654, -6.617000102996826, -6.680600166320801, -6.728899955749512, -6.792600154876709, -6.7982001304626465, -6.809299945831299, -6.816500186920166, -6.819499969482422, -3.9542999267578125, -4.740799903869629, -6.075099945068359, -6.132999897003174, -3.0272998809814453, -5.657899856567383, -4.764100074768066, -5.6178998947143555, -5.055699825286865, -5.338200092315674, -5.704500198364258, -5.108099937438965, -3.2697999477386475, -4.614999771118164, -4.793900012969971, -3.887700080871582, -5.133200168609619, -5.801199913024902, -4.9670000076293945, -5.618599891662598, -5.101099967956543, -5.603600025177002, -4.983799934387207, -4.563000202178955, -5.061100006103516, -5.313300132751465, -5.09089994430542, -4.801300048828125, -4.816100120544434, -5.286600112915039, -5.079699993133545, -5.121600151062012, -5.315000057220459, -5.157400131225586, -5.252799987792969, -5.268799781799316, -3.241300106048584, -3.869800090789795, -4.258399963378906, -4.4807000160217285, -4.617800235748291, -4.65310001373291, -4.755499839782715, -4.7855000495910645, -4.886600017547607, -5.350399971008301, -5.441500186920166, -5.490099906921387, -5.543099880218506, -5.566100120544434, -5.624300003051758, -5.660999774932861, -5.673299789428711, -5.73859977722168, -5.741199970245361, -5.785200119018555, -5.86329984664917, -5.880199909210205, -5.935200214385986, -6.042300224304199, -6.087900161743164, -6.10830020904541, -6.223499774932861, -6.245800018310547, -6.2729997634887695, -6.303199768066406, -3.9609999656677246, -2.972599983215332, -4.35830020904541, -5.162799835205078, -5.275199890136719, -5.434999942779541, -5.425099849700928, -4.91949987411499, -4.92519998550415, -5.252999782562256, -5.409599781036377, -3.9953999519348145, -4.700099945068359, -5.296899795532227, -4.87939977645874, -5.149499893188477, -5.067200183868408, -5.464600086212158, -5.320000171661377, -5.349800109863281, -5.352799892425537, -3.6315999031066895, -3.935499906539917, -4.037799835205078, -4.380499839782715, -4.511000156402588, -4.790800094604492, -4.8531999588012695, -4.890399932861328, -5.007999897003174, -5.039299964904785, -5.072999954223633, -5.076700210571289, -5.26609992980957, -5.455599784851074, -5.520699977874756, -5.530200004577637, -5.623000144958496, -5.639200210571289, -5.6371002197265625, -5.669899940490723, -5.73859977722168, -5.79640007019043, -5.865900039672852, -5.946899890899658, -6.006899833679199, -6.0472002029418945, -6.055200099945068, -6.105500221252441, -6.156700134277344, -6.188899993896484, -4.513899803161621, -5.393099784851074, -5.138000011444092, -4.11929988861084, -5.252299785614014, -5.372200012207031, -5.111499786376953, -3.5083999633789062, -4.440999984741211, -5.037499904632568, -5.204899787902832, -5.032400131225586, -5.098700046539307, -5.158100128173828, -4.824100017547607, -4.936800003051758, -5.277599811553955, -5.2769999504089355, -5.368599891662598, -4.295899868011475, -4.3429999351501465, -4.361299991607666, -4.543799877166748, -5.036799907684326, -5.094600200653076, -5.247499942779541, -5.401700019836426, -5.462800025939941, -5.594699859619141, -5.6118998527526855, -5.764100074768066, -5.76140022277832, -5.833700180053711, -5.8429999351501465, -5.854599952697754, -5.850900173187256, -5.904399871826172, -5.948200225830078, -6.045599937438965, -6.192299842834473, -6.227399826049805, -6.24429988861084, -6.263800144195557, -6.293900012969971, -6.329800128936768, -6.361599922180176, -6.37529993057251, -6.417300224304199, -6.432000160217285, -5.67080020904541, -4.655600070953369, -4.289599895477295, -4.526500225067139, -5.755799770355225, -5.293700218200684, -5.231900215148926, -5.464000225067139, -5.417500019073486, -4.87060022354126, -5.2241997718811035, -4.087500095367432, -4.595099925994873, -5.198500156402588, -4.76800012588501, -5.2835001945495605, -5.241199970245361, -5.133900165557861, -5.104300022125244, -4.9191999435424805, -5.10099983215332, -4.835000038146973, -5.218299865722656, -4.901299953460693, -5.005899906158447, -5.0671000480651855, -5.217199802398682, -5.223800182342529, -5.19350004196167, -5.239999771118164, -2.913800001144409, -3.096100091934204, -3.938999891281128, -4.430099964141846, -4.982600212097168, -5.6066999435424805, -5.6493000984191895, -5.809500217437744, -5.903299808502197, -5.9770002365112305, -6.067800045013428, -6.065800189971924, -6.10129976272583, -6.142899990081787, -6.248600006103516, -6.254300117492676, -6.357699871063232, -6.3480000495910645, -6.364099979400635, -6.416900157928467, -6.457799911499023, -6.474899768829346, -6.476600170135498, -6.597499847412109, -6.685100078582764, -6.701200008392334, -6.744699954986572, -6.750400066375732, -6.754300117492676, -6.748899936676025, -4.950399875640869, -4.257400035858154, -6.737199783325195, -4.731400012969971, -5.932400226593018, -5.225299835205078, -5.220699787139893, -5.377999782562256, -5.752399921417236, -4.953100204467773, -4.502799987792969, -5.040599822998047, -5.303599834442139, -4.989200115203857, -4.700200080871582, -4.957099914550781, -4.480500221252441, -4.8403000831604, -4.707099914550781, -5.045300006866455, -5.651000022888184, -5.657599925994873, -4.458899974822998, -4.693600177764893, -5.479400157928467, -4.528500080108643, -5.449900150299072, -5.017099857330322, -5.121200084686279, -5.327000141143799, -5.386499881744385, -5.343500137329102, -5.3302001953125]}, \"token.table\": {\"Topic\": [7, 4, 7, 6, 2, 5, 3, 3, 4, 5, 7, 4, 7, 5, 1, 2, 3, 6, 7, 7, 7, 1, 3, 4, 5, 4, 5, 6, 2, 4, 2, 3, 1, 6, 4, 4, 1, 2, 6, 7, 7, 2, 1, 4, 6, 2, 2, 4, 5, 6, 3, 5, 1, 5, 1, 3, 4, 5, 7, 4, 2, 1, 4, 2, 2, 3, 4, 5, 4, 2, 1, 3, 4, 5, 7, 1, 4, 6, 7, 7, 1, 5, 7, 4, 4, 2, 3, 4, 5, 7, 2, 4, 5, 3, 4, 7, 6, 1, 1, 5, 7, 1, 1, 1, 5, 6, 7, 1, 1, 5, 2, 4, 5, 7, 6, 2, 3, 4, 7, 6, 7, 5, 2, 4, 2, 7, 2, 3, 4, 5, 1, 2, 3, 4, 5, 6, 7, 4, 2, 3, 2, 4, 7, 1, 2, 5, 6, 5, 1, 5, 6, 6, 4, 5, 6, 3, 5, 6, 7, 1, 1, 2, 1, 2, 3, 4, 5, 6, 7, 6, 4, 5, 5, 1, 2, 4, 5, 6, 7, 5, 6, 7, 2, 5, 1, 3, 6, 2, 5, 6, 7, 2, 7, 6, 5, 7, 2, 6, 7, 5, 4, 5, 7, 2, 5, 3, 1, 7, 1, 2, 3, 4, 5, 6, 7, 1, 2, 3, 4, 5, 6, 7, 7, 6, 1, 2, 7, 3, 2, 1, 3, 3, 1, 2, 3, 5, 6, 2, 6, 4, 4, 6, 1, 2, 4, 7, 1, 2, 3, 4, 5, 7, 2, 2, 6, 4, 5, 7, 1, 4, 6, 7, 1, 2, 1, 7, 7, 7, 5, 6, 7, 4, 6, 7, 1, 3, 4, 5, 6, 7, 3, 3, 2, 3, 4, 4, 3, 6, 1, 2, 3, 4, 5, 7, 1, 2, 3, 4, 6, 4, 4, 1, 2, 4, 7, 1, 2, 3, 4, 5, 7, 7, 3, 4, 7, 3, 1, 4, 6, 6, 5, 5, 1, 1, 2, 3, 4, 5, 6, 7, 3, 3, 5, 1, 2, 3, 4, 5, 7, 1, 2, 3, 4, 5, 6, 7, 1, 2, 3, 4, 5, 6, 7, 1, 2, 3, 4, 5, 6, 7, 6, 5, 1, 1, 5, 5, 1, 2, 4, 5, 6, 7, 1, 6, 1, 2, 3, 5, 6, 1, 3, 4, 5, 7, 3, 4, 6, 5, 7, 1, 2, 3, 4, 5, 6, 7, 7, 1, 2, 3, 4, 6, 7, 3, 6, 3, 5, 1, 2, 3, 4, 5, 6, 7, 1, 2, 3, 4, 5, 6, 7, 1, 3, 4, 5, 6, 7, 4, 1, 2, 1, 2, 1, 4, 6, 1, 2, 3, 5, 6, 7, 3, 4, 4, 7, 2, 1, 2, 3, 5, 6, 7, 1, 2, 6, 7, 6, 3, 4, 5, 1, 4, 5, 6, 4, 5, 3, 1, 2, 3, 3, 3, 5, 1, 2, 3, 4, 5, 6, 7, 1, 3, 2, 2, 3, 4, 2, 3, 1, 7, 2, 5, 3, 4, 6, 4, 5, 7, 7, 1, 3, 5, 7, 1, 2, 3, 4, 5, 6, 7, 6, 1, 2, 7, 3, 2, 5, 1, 7, 1, 6, 2, 2, 6, 7, 3, 6, 5, 2, 7, 1, 1, 3, 3, 1, 2, 4, 6, 7, 3, 1, 2, 4, 7, 1, 2, 4, 5, 6, 7, 7, 1, 4, 5, 1, 2, 5, 4, 2, 4, 7, 6, 1, 1, 1, 2, 3, 4, 5, 6, 7, 7, 2, 2, 3, 2, 1, 7, 6, 1, 2, 3, 5, 2, 7, 1, 3, 7, 1, 2, 6, 4, 1, 2, 4, 5, 6, 3, 2, 5, 7, 6, 4, 4, 3, 5, 1, 2, 3, 4, 5, 6, 7, 2, 2, 6, 1, 2, 3, 4, 5, 6, 7, 2, 2, 3, 5, 1, 1, 2, 5, 2, 2, 5, 6, 2, 4, 2, 1, 2, 3, 4, 5, 5, 1, 3, 4, 2, 5, 6, 1, 2, 3, 4, 5, 6, 7, 2, 6, 7, 6, 7, 6, 6, 4, 1, 1, 1, 2, 7, 4, 1, 1, 2, 3, 4, 5, 6, 7, 1, 2, 4, 7, 2, 1, 7, 1, 2, 1, 4, 6, 6, 1, 6, 7, 7, 4, 7, 1, 7, 7, 4, 4, 1, 2, 3, 4, 5, 6, 7, 1, 2, 3, 4, 5, 6, 2, 3, 1, 2, 3, 4, 5, 7, 5], \"Freq\": [0.9976426362991333, 0.6847721934318542, 0.3137858211994171, 0.9980524778366089, 0.6629112362861633, 0.3368597626686096, 0.9887343049049377, 0.8370862007141113, 0.05765056610107422, 0.0714867040514946, 0.032284315675497055, 0.9972114562988281, 0.9971885681152344, 0.998471736907959, 0.4665261507034302, 0.10510668158531189, 0.040567491203546524, 0.30056822299957275, 0.08666691184043884, 0.9968231916427612, 0.9842939376831055, 0.08945633471012115, 0.7454694509506226, 0.042864494025707245, 0.12113878130912781, 0.1011432632803917, 0.898528516292572, 0.9935598969459534, 0.9834680557250977, 0.01513027772307396, 0.9969584345817566, 0.9912809133529663, 0.459677517414093, 0.5389322638511658, 0.9996947646141052, 0.9969940185546875, 0.5840099453926086, 0.1901002675294876, 0.20289547741413116, 0.022848589345812798, 0.9998624324798584, 0.9988642334938049, 0.26560014486312866, 0.7043322324752808, 0.027543717995285988, 0.9938260316848755, 0.9077114462852478, 0.03910774737596512, 0.051457565277814865, 0.9986825585365295, 0.9970683455467224, 0.9986680746078491, 0.8480037450790405, 0.15125909447669983, 0.2221139520406723, 0.4949278235435486, 0.02172853797674179, 0.06035705283284187, 0.2015925496816635, 0.9990863800048828, 0.9924669861793518, 0.9983479976654053, 0.9995041489601135, 0.9979875683784485, 0.1231110617518425, 0.8119468092918396, 0.011724863201379776, 0.05276188626885414, 0.9992102384567261, 0.9985331892967224, 0.5398937463760376, 0.04507891461253166, 0.15514308214187622, 0.20506693422794342, 0.054768774658441544, 0.9989304542541504, 0.9977730512619019, 0.9772127270698547, 0.01593281514942646, 0.9946041107177734, 0.9971621036529541, 0.9025704860687256, 0.09634179621934891, 0.9989968538284302, 0.9996337294578552, 0.19998350739479065, 0.5964876413345337, 0.02597188577055931, 0.09436451643705368, 0.0831100344657898, 0.20870070159435272, 0.11444877088069916, 0.6777162551879883, 0.9983760714530945, 0.9968628883361816, 0.9867051243782043, 0.9873968362808228, 0.9982231855392456, 0.9054840803146362, 0.05500805005431175, 0.03910728543996811, 0.995750904083252, 0.9986604452133179, 0.33063921332359314, 0.09092578291893005, 0.22834770381450653, 0.3502708971500397, 0.9982776045799255, 0.9988497495651245, 0.9991897940635681, 0.10751783847808838, 0.07719229906797409, 0.2012513428926468, 0.6120246052742004, 0.9947929382324219, 0.9990492463111877, 0.999306321144104, 0.8712440729141235, 0.12745273113250732, 0.9958652853965759, 0.9934849143028259, 0.9972182512283325, 0.16552069783210754, 0.8346972465515137, 0.9137000441551208, 0.08565937727689743, 0.9915143847465515, 0.9325647354125977, 0.06347299367189407, 0.9978945851325989, 0.18715347349643707, 0.026032624766230583, 0.2877660393714905, 0.23218287527561188, 0.0900588110089302, 0.014775273390114307, 0.16182442009449005, 0.9975343346595764, 0.18327267467975616, 0.8139462471008301, 0.5119617581367493, 0.08599357306957245, 0.4019699692726135, 0.9974981546401978, 0.10216464102268219, 0.7658725380897522, 0.13187208771705627, 0.9950711131095886, 0.9990772008895874, 0.995163083076477, 0.9957667589187622, 0.9983490705490112, 0.06314730644226074, 0.9345801472663879, 0.9963071942329407, 0.025502270087599754, 0.19126702845096588, 0.4510713815689087, 0.32993561029434204, 0.9996343851089478, 0.9988505244255066, 0.9970024228096008, 0.16250576078891754, 0.2836773097515106, 0.1356102079153061, 0.04444844275712967, 0.02887733094394207, 0.2545168697834015, 0.09031243622303009, 0.9927974939346313, 0.995104193687439, 0.9952797889709473, 0.9997590184211731, 0.1909453570842743, 0.4753146171569824, 0.22536468505859375, 0.034419335424900055, 0.05490703508257866, 0.018848683685064316, 0.07935632020235062, 0.7115616798400879, 0.20897164940834045, 0.9986419677734375, 0.9993370175361633, 0.8748012185096741, 0.04053637757897377, 0.08368800580501556, 0.4163007140159607, 0.09166254103183746, 0.3475538194179535, 0.14360465109348297, 0.9954303503036499, 0.997242271900177, 0.9934701919555664, 0.9989767074584961, 0.9806573987007141, 0.21119339764118195, 0.7642561197280884, 0.023759257048368454, 0.9993979930877686, 0.9982941150665283, 0.9979189038276672, 0.997987687587738, 0.9985322952270508, 0.9986054301261902, 0.9907358288764954, 0.5684792399406433, 0.43154627084732056, 0.24390779435634613, 0.14213597774505615, 0.38912031054496765, 0.06202297285199165, 0.057469699531793594, 0.03654925152659416, 0.06866829097270966, 0.24220511317253113, 0.15992692112922668, 0.35878342390060425, 0.07975303381681442, 0.034510545432567596, 0.08375120908021927, 0.04124431312084198, 0.9964187741279602, 0.9900771975517273, 0.9993203282356262, 0.9615010619163513, 0.03433932363986969, 0.9976413249969482, 0.9932721853256226, 0.27338290214538574, 0.7242249250411987, 0.9910157918930054, 0.5372755527496338, 0.3267443776130676, 0.016842493787407875, 0.02694798819720745, 0.09263370931148529, 0.891448438167572, 0.10668931156396866, 0.9941319227218628, 0.17347218096256256, 0.8252087831497192, 0.10259614884853363, 0.7630588412284851, 0.03740484640002251, 0.09511517733335495, 0.07478460669517517, 0.15247346460819244, 0.38263580203056335, 0.19240699708461761, 0.10963568091392517, 0.08785375952720642, 0.9974579811096191, 0.4293045103549957, 0.5697681903839111, 0.0515778474509716, 0.797112226486206, 0.15004464983940125, 0.20032954216003418, 0.1074230894446373, 0.6909917593002319, 0.9908735156059265, 0.029102932661771774, 0.9703182578086853, 0.04200148209929466, 0.9548336863517761, 0.9981209635734558, 0.9875825047492981, 0.9977155923843384, 0.7683242559432983, 0.23133468627929688, 0.09528149664402008, 0.5423716306686401, 0.3628026247024536, 0.09253718703985214, 0.19992601871490479, 0.07083093374967575, 0.03655790165066719, 0.469540536403656, 0.13023751974105835, 0.9988675117492676, 0.9977887272834778, 0.3646603524684906, 0.5291687846183777, 0.10510261356830597, 0.9985414147377014, 0.9937275052070618, 0.9984421730041504, 0.5120553970336914, 0.21852731704711914, 0.16618867218494415, 0.015647634863853455, 0.017266355454921722, 0.07014457136392593, 0.3519195318222046, 0.08705766499042511, 0.3777417242527008, 0.13279981911182404, 0.05016882345080376, 0.9950971603393555, 0.9991449117660522, 0.30966776609420776, 0.5614683032035828, 0.09540269523859024, 0.03284354880452156, 0.2594411075115204, 0.10262016206979752, 0.17561055719852448, 0.13080456852912903, 0.05636882409453392, 0.2753400206565857, 0.9924871325492859, 0.9993271231651306, 0.994700014591217, 0.9940928220748901, 0.993517279624939, 0.04643914848566055, 0.8765656352043152, 0.07682789862155914, 0.9935824275016785, 0.9962352514266968, 0.9983434677124023, 0.9972463846206665, 0.1907902956008911, 0.25489890575408936, 0.1904064118862152, 0.10979079455137253, 0.04337887838482857, 0.16315065324306488, 0.0472177192568779, 0.9965223670005798, 0.8103531002998352, 0.18972551822662354, 0.21503590047359467, 0.20036153495311737, 0.15351644158363342, 0.2144715040922165, 0.08465980738401413, 0.13150489330291748, 0.3700006902217865, 0.14055581390857697, 0.1911114603281021, 0.08666682243347168, 0.09722240269184113, 0.07722236216068268, 0.03722228854894638, 0.034971073269844055, 0.1455247849225998, 0.17034296691417694, 0.45236775279045105, 0.08686363697052002, 0.04286776855587959, 0.06655784696340561, 0.21906203031539917, 0.09949763864278793, 0.3520042598247528, 0.122072733938694, 0.12708942592144012, 0.02842789702117443, 0.05267522111535072, 0.9981116056442261, 0.9960002303123474, 0.9980910420417786, 0.9991130232810974, 0.9989272952079773, 0.9971935749053955, 0.25606486201286316, 0.06885778158903122, 0.051643334329128265, 0.167840838432312, 0.31201180815696716, 0.14417098462581635, 0.25994864106178284, 0.7376042604446411, 0.9967947006225586, 0.11910265684127808, 0.6807799935340881, 0.19895558059215546, 0.9878668189048767, 0.2405983954668045, 0.09375430643558502, 0.20558173954486847, 0.08923602849245071, 0.3704989552497864, 0.9951872229576111, 0.13683724403381348, 0.8564997315406799, 0.9980835318565369, 0.9843704104423523, 0.33576396107673645, 0.027198756113648415, 0.20399066805839539, 0.035639747977256775, 0.15568943321704865, 0.03751552477478981, 0.20399066805839539, 0.9790407419204712, 0.2524574398994446, 0.34042882919311523, 0.1616218537092209, 0.11252155154943466, 0.09901896119117737, 0.03396105021238327, 0.9968322515487671, 0.9970775246620178, 0.9951205253601074, 0.9994274377822876, 0.24382857978343964, 0.059773512184619904, 0.1307915449142456, 0.09291525930166245, 0.12132247537374496, 0.03550901636481285, 0.31603026390075684, 0.07339363545179367, 0.19571636617183685, 0.2736404538154602, 0.09151551872491837, 0.012685319408774376, 0.07248754054307938, 0.28088921308517456, 0.06718237698078156, 0.1634771227836609, 0.05598531663417816, 0.02911236509680748, 0.10077357292175293, 0.5822473168373108, 0.9982974529266357, 0.9063899517059326, 0.09253719449043274, 0.9989740252494812, 0.9926787614822388, 0.1899261176586151, 0.5748656392097473, 0.23401610553264618, 0.06948920339345932, 0.10602476447820663, 0.40833863615989685, 0.1504405438899994, 0.0981445461511612, 0.1676337569952011, 0.9926853775978088, 0.9984922409057617, 0.9955966472625732, 0.9951940774917603, 0.9945170879364014, 0.026317838579416275, 0.5442529320716858, 0.028423266485333443, 0.025265125557780266, 0.34213191270828247, 0.03368683531880379, 0.21205319464206696, 0.47522637248039246, 0.24676428735256195, 0.06563551723957062, 0.9985684752464294, 0.9893222451210022, 0.5787848830223083, 0.4203910827636719, 0.999180793762207, 0.8464236855506897, 0.15276914834976196, 0.9934614300727844, 0.9468200206756592, 0.053394440561532974, 0.9942031502723694, 0.026942703872919083, 0.9729309678077698, 0.999821126461029, 0.988092839717865, 0.9944950342178345, 0.9915721416473389, 0.04316252842545509, 0.20119307935237885, 0.057085923850536346, 0.17265011370182037, 0.2951759994029999, 0.13018375635147095, 0.1009446233510971, 0.36432525515556335, 0.6355977654457092, 0.9976704716682434, 0.17785991728305817, 0.6741110682487488, 0.1493144929409027, 0.19441181421279907, 0.8054203987121582, 0.08444209396839142, 0.9141191244125366, 0.9970527291297913, 0.9964689612388611, 0.9971919059753418, 0.9982382655143738, 0.9955399036407471, 0.32492804527282715, 0.17189742624759674, 0.5031144022941589, 0.9923721551895142, 0.7197930216789246, 0.20944252610206604, 0.05567459762096405, 0.013255856931209564, 0.0756915807723999, 0.05436031520366669, 0.5669987201690674, 0.06949863582849503, 0.07018674165010452, 0.03234094753861427, 0.1307400017976761, 0.9964106678962708, 0.11549608409404755, 0.649037778377533, 0.23475834727287292, 0.9963581562042236, 0.9962552785873413, 0.9983582496643066, 0.9985780715942383, 0.9960702657699585, 0.9622440934181213, 0.036920636892318726, 0.9986984133720398, 0.3085610568523407, 0.6894410848617554, 0.9916793704032898, 0.6085824966430664, 0.391674280166626, 0.9987708926200867, 0.9972843527793884, 0.9963566064834595, 0.998776912689209, 0.9971590042114258, 0.996181309223175, 0.9960664510726929, 0.07511644065380096, 0.21384499967098236, 0.04872417822480202, 0.3661080598831177, 0.2964054048061371, 0.9973798990249634, 0.2450999915599823, 0.49971842765808105, 0.11104854196310043, 0.14436310529708862, 0.23978979885578156, 0.42230942845344543, 0.18251961469650269, 0.021418118849396706, 0.13409604132175446, 0.9987402558326721, 0.9840815663337708, 0.9989940524101257, 0.8425341248512268, 0.1569189727306366, 0.824721097946167, 0.1742555946111679, 0.9946103692054749, 0.9982143640518188, 0.8859366774559021, 0.0676109567284584, 0.044296834617853165, 0.9867991805076599, 0.9987768530845642, 0.9994570016860962, 0.05991023778915405, 0.19348059594631195, 0.4979424476623535, 0.12473114579916, 0.012767755426466465, 0.04223180562257767, 0.06874945014715195, 0.9849205613136292, 0.998925507068634, 0.2855096161365509, 0.7137740254402161, 0.9989973902702332, 0.4363146126270294, 0.5595484972000122, 0.9971511960029602, 0.5908445119857788, 0.06400042772293091, 0.23281314969062805, 0.11223263293504715, 0.43975380063056946, 0.5587849020957947, 0.09760132431983948, 0.22182118892669678, 0.6787728071212769, 0.8158756494522095, 0.11556066572666168, 0.06777241826057434, 0.9966104030609131, 0.08633984625339508, 0.09696628153324127, 0.25237801671028137, 0.47420498728752136, 0.0903247594833374, 0.9963847398757935, 0.7061601281166077, 0.2923944294452667, 0.9883014559745789, 0.9990406632423401, 0.9970520734786987, 0.9974649548530579, 0.9324372410774231, 0.06697063148021698, 0.16444553434848785, 0.2625962793827057, 0.16315408051013947, 0.14249077439308167, 0.11063482612371445, 0.12484085559844971, 0.03185594081878662, 0.9973791241645813, 0.8297159075737, 0.1688375473022461, 0.28560423851013184, 0.16983641684055328, 0.14694447815418243, 0.1327732652425766, 0.11380565911531448, 0.05515868216753006, 0.09614615887403488, 0.9996030926704407, 0.584975004196167, 0.09562091529369354, 0.31900423765182495, 0.9975727200508118, 0.9995650053024292, 0.9996843934059143, 0.9961707592010498, 0.9991006851196289, 0.37043479084968567, 0.5739542841911316, 0.054174259305000305, 0.1653032898902893, 0.8346594572067261, 0.9969119429588318, 0.3272322416305542, 0.2904103994369507, 0.14991751313209534, 0.15956133604049683, 0.0727669820189476, 0.9987006783485413, 0.08638428896665573, 0.8638429045677185, 0.04766029492020607, 0.8889759182929993, 0.1115792840719223, 0.9979120492935181, 0.24071291089057922, 0.029653038829565048, 0.02223978005349636, 0.20277445018291473, 0.3340327739715576, 0.09855274856090546, 0.07238829880952835, 0.9950804114341736, 0.994869589805603, 0.9915930032730103, 0.14645564556121826, 0.8521056175231934, 0.9985622763633728, 0.995269775390625, 0.997933030128479, 0.9996203184127808, 0.998569667339325, 0.6165985465049744, 0.3049722909927368, 0.07836863398551941, 0.9965193867683411, 0.9993402361869812, 0.20659521222114563, 0.24245893955230713, 0.1293114274740219, 0.1651751548051834, 0.07021206617355347, 0.14345486462116241, 0.04243031516671181, 0.09927535802125931, 0.11963953077793121, 0.11963953077793121, 0.6592901945114136, 0.9984303116798401, 0.8880476355552673, 0.11072912812232971, 0.47583919763565063, 0.5235936641693115, 0.3258391320705414, 0.6396506428718567, 0.03389601409435272, 0.9961246848106384, 0.45890936255455017, 0.10511332005262375, 0.43583571910858154, 0.9993051290512085, 0.15827113389968872, 0.8408153653144836, 0.8416074514389038, 0.1569739729166031, 0.9996514320373535, 0.9982320070266724, 0.9981730580329895, 0.1686280071735382, 0.2230241447687149, 0.2623102366924286, 0.09821523725986481, 0.05923134461045265, 0.10184164345264435, 0.08703380823135376, 0.0791500136256218, 0.0492013618350029, 0.7594123482704163, 0.032087843865156174, 0.08021961152553558, 0.9897727966308594, 0.9963070750236511, 0.9975103139877319, 0.24813252687454224, 0.0353858545422554, 0.22353504598140717, 0.1268712431192398, 0.13075505197048187, 0.2356180101633072, 0.9963098764419556], \"Term\": [\"acdelco\", \"adapter\", \"adapter\", \"adhesive\", \"air\", \"air\", \"alot\", \"amazon\", \"amazon\", \"amazon\", \"amazon\", \"amp\", \"anco\", \"app\", \"area\", \"area\", \"area\", \"area\", \"area\", \"arm\", \"audible\", \"auto\", \"auto\", \"auto\", \"auto\", \"automatic\", \"automatic\", \"backing\", \"bag\", \"bag\", \"bamboo\", \"bank\", \"bar\", \"bar\", \"battery\", \"beam\", \"black\", \"black\", \"black\", \"black\", \"blade\", \"block\", \"blue\", \"blue\", \"blue\", \"bluetooth\", \"board\", \"board\", \"board\", \"bolt\", \"boot\", \"bosch\", \"bottle\", \"bottle\", \"brand\", \"brand\", \"brand\", \"brand\", \"brand\", \"bright\", \"bristle\", \"bucket\", \"bulb\", \"button\", \"buy\", \"buy\", \"buy\", \"buy\", \"cable\", \"camco\", \"car\", \"car\", \"car\", \"car\", \"car\", \"carpet\", \"cell\", \"center\", \"center\", \"chain\", \"chamois\", \"change\", \"change\", \"charge\", \"charger\", \"cheap\", \"cheap\", \"cheap\", \"cheap\", \"cheap\", \"check\", \"check\", \"check\", \"chemical\", \"cigarette\", \"city\", \"class\", \"clay\", \"clean\", \"clean\", \"clean\", \"cleaner\", \"cleaning\", \"clear\", \"clear\", \"clear\", \"clear\", \"cloth\", \"coat\", \"code\", \"cold\", \"cold\", \"cold\", \"cold\", \"compact\", \"compressor\", \"conditioner\", \"connector\", \"connector\", \"console\", \"convenience\", \"coolant\", \"cord\", \"cord\", \"cover\", \"cover\", \"crash\", \"customer\", \"customer\", \"datum\", \"day\", \"day\", \"day\", \"day\", \"day\", \"day\", \"day\", \"dead\", \"deal\", \"deal\", \"design\", \"design\", \"design\", \"detailer\", \"device\", \"device\", \"device\", \"diagnostic\", \"dirt\", \"display\", \"dome\", \"door\", \"drain\", \"drain\", \"drill\", \"driver\", \"driver\", \"driver\", \"driver\", \"dry\", \"dust\", \"duty\", \"easy\", \"easy\", \"easy\", \"easy\", \"easy\", \"easy\", \"easy\", \"elbow\", \"electrical\", \"electronic\", \"engine\", \"enough\", \"enough\", \"enough\", \"enough\", \"enough\", \"enough\", \"factory\", \"factory\", \"factory\", \"family\", \"filter\", \"finish\", \"finish\", \"finish\", \"fit\", \"fit\", \"fit\", \"fit\", \"fitting\", \"fixture\", \"flimsy\", \"fluid\", \"frameless\", \"front\", \"front\", \"front\", \"fuel\", \"fuse\", \"gas\", \"gasket\", \"gauge\", \"gear\", \"gift\", \"glass\", \"glass\", \"good\", \"good\", \"good\", \"good\", \"good\", \"good\", \"good\", \"great\", \"great\", \"great\", \"great\", \"great\", \"great\", \"great\", \"grey\", \"grill\", \"griot\", \"grip\", \"grip\", \"grit\", \"gun\", \"guy\", \"guy\", \"habit\", \"hand\", \"hand\", \"hand\", \"hand\", \"hand\", \"handle\", \"handle\", \"harness\", \"headlight\", \"headlight\", \"heavy\", \"heavy\", \"heavy\", \"heavy\", \"high\", \"high\", \"high\", \"high\", \"high\", \"high\", \"hitch\", \"hole\", \"hole\", \"honda\", \"honda\", \"honda\", \"hood\", \"hood\", \"hood\", \"horn\", \"hose\", \"hose\", \"ice\", \"ice\", \"icon\", \"ignition\", \"information\", \"install\", \"install\", \"installation\", \"installation\", \"installation\", \"instruction\", \"instruction\", \"instruction\", \"instruction\", \"instruction\", \"instruction\", \"inverter\", \"iphone\", \"item\", \"item\", \"item\", \"jack\", \"jacket\", \"jeep\", \"job\", \"job\", \"job\", \"job\", \"job\", \"job\", \"kit\", \"kit\", \"kit\", \"kit\", \"kit\", \"lamp\", \"laptop\", \"large\", \"large\", \"large\", \"large\", \"last\", \"last\", \"last\", \"last\", \"last\", \"last\", \"late\", \"leather\", \"led\", \"leg\", \"lexol\", \"light\", \"light\", \"light\", \"lighting\", \"link\", \"lint\", \"liquid\", \"little\", \"little\", \"little\", \"little\", \"little\", \"little\", \"little\", \"live\", \"local\", \"local\", \"long\", \"long\", \"long\", \"long\", \"long\", \"long\", \"lot\", \"lot\", \"lot\", \"lot\", \"lot\", \"lot\", \"lot\", \"low\", \"low\", \"low\", \"low\", \"low\", \"low\", \"low\", \"many\", \"many\", \"many\", \"many\", \"many\", \"many\", \"many\", \"mat\", \"mechanic\", \"meguiar\", \"microfiber\", \"mile\", \"mileage\", \"minute\", \"minute\", \"minute\", \"minute\", \"minute\", \"minute\", \"mirror\", \"mirror\", \"mitt\", \"money\", \"money\", \"money\", \"monitor\", \"month\", \"month\", \"month\", \"month\", \"month\", \"mother\", \"mount\", \"mount\", \"mpg\", \"neck\", \"new\", \"new\", \"new\", \"new\", \"new\", \"new\", \"new\", \"news\", \"nice\", \"nice\", \"nice\", \"nice\", \"nice\", \"nice\", \"nova\", \"nut\", \"odor\", \"oil\", \"old\", \"old\", \"old\", \"old\", \"old\", \"old\", \"old\", \"one\", \"one\", \"one\", \"one\", \"one\", \"one\", \"one\", \"original\", \"original\", \"original\", \"original\", \"original\", \"original\", \"output\", \"pad\", \"pad\", \"paint\", \"pan\", \"panel\", \"panel\", \"panel\", \"part\", \"part\", \"part\", \"part\", \"part\", \"part\", \"pay\", \"phone\", \"pin\", \"pink\", \"pipe\", \"place\", \"place\", \"place\", \"place\", \"place\", \"place\", \"plastic\", \"plastic\", \"plastic\", \"plastic\", \"plate\", \"pleasant\", \"plug\", \"plug\", \"polish\", \"port\", \"port\", \"portion\", \"power\", \"power\", \"prep\", \"pressure\", \"pressure\", \"price\", \"pricey\", \"prime\", \"privacy\", \"problem\", \"problem\", \"problem\", \"problem\", \"problem\", \"problem\", \"problem\", \"product\", \"product\", \"psi\", \"purchase\", \"purchase\", \"purchase\", \"quality\", \"quality\", \"rain\", \"rain\", \"ramp\", \"reader\", \"reading\", \"receiver\", \"remote\", \"replacement\", \"replacement\", \"replacement\", \"report\", \"result\", \"result\", \"result\", \"result\", \"review\", \"review\", \"review\", \"review\", \"review\", \"review\", \"review\", \"rim\", \"rubber\", \"rubber\", \"rubber\", \"sample\", \"scan\", \"scanner\", \"scent\", \"scraper\", \"scratch\", \"scratch\", \"screen\", \"screw\", \"screw\", \"season\", \"seat\", \"seat\", \"sensor\", \"sewer\", \"sharp\", \"shine\", \"shiny\", \"shipping\", \"shoe\", \"side\", \"side\", \"side\", \"side\", \"side\", \"signal\", \"size\", \"size\", \"size\", \"size\", \"small\", \"small\", \"small\", \"small\", \"small\", \"snow\", \"snug\", \"soap\", \"socket\", \"socket\", \"soft\", \"soft\", \"software\", \"solar\", \"solid\", \"solid\", \"solid\", \"speaker\", \"sponge\", \"spray\", \"star\", \"star\", \"star\", \"star\", \"star\", \"star\", \"star\", \"steam\", \"storage\", \"store\", \"store\", \"strap\", \"streak\", \"streak\", \"strip\", \"stuff\", \"stuff\", \"stuff\", \"stuff\", \"style\", \"style\", \"summer\", \"summer\", \"summer\", \"surface\", \"surface\", \"surface\", \"switch\", \"system\", \"system\", \"system\", \"system\", \"system\", \"tablet\", \"tank\", \"tank\", \"tap\", \"tape\", \"tender\", \"terminal\", \"thank\", \"thank\", \"thing\", \"thing\", \"thing\", \"thing\", \"thing\", \"thing\", \"thing\", \"thread\", \"tight\", \"tight\", \"time\", \"time\", \"time\", \"time\", \"time\", \"time\", \"time\", \"tire\", \"tool\", \"tool\", \"tool\", \"torque\", \"towel\", \"trailer\", \"transmission\", \"travel\", \"trip\", \"trip\", \"trip\", \"unit\", \"unit\", \"usb\", \"use\", \"use\", \"use\", \"use\", \"use\", \"vacuum\", \"value\", \"value\", \"value\", \"valve\", \"valve\", \"van\", \"vehicle\", \"vehicle\", \"vehicle\", \"vehicle\", \"vehicle\", \"vehicle\", \"vehicle\", \"vent\", \"view\", \"visibility\", \"vision\", \"vision\", \"visor\", \"volt\", \"voltage\", \"wash\", \"washing\", \"water\", \"water\", \"water\", \"watt\", \"wax\", \"way\", \"way\", \"way\", \"way\", \"way\", \"way\", \"way\", \"weather\", \"weather\", \"weather\", \"weather\", \"weight\", \"wet\", \"wet\", \"wheel\", \"wheel\", \"white\", \"white\", \"white\", \"wind\", \"window\", \"window\", \"window\", \"windshield\", \"winter\", \"winter\", \"wipe\", \"wipe\", \"wiper\", \"wire\", \"wiring\", \"work\", \"work\", \"work\", \"work\", \"work\", \"work\", \"work\", \"worth\", \"worth\", \"worth\", \"worth\", \"worth\", \"wrangler\", \"wrap\", \"wrench\", \"year\", \"year\", \"year\", \"year\", \"year\", \"year\", \"zubie\"]}, \"R\": 30, \"lambda.step\": 0.01, \"plot.opts\": {\"xlab\": \"PC1\", \"ylab\": \"PC2\"}, \"topic.order\": [4, 6, 7, 5, 1, 2, 3]};\n",
              "\n",
              "function LDAvis_load_lib(url, callback){\n",
              "  var s = document.createElement('script');\n",
              "  s.src = url;\n",
              "  s.async = true;\n",
              "  s.onreadystatechange = s.onload = callback;\n",
              "  s.onerror = function(){console.warn(\"failed to load library \" + url);};\n",
              "  document.getElementsByTagName(\"head\")[0].appendChild(s);\n",
              "}\n",
              "\n",
              "if(typeof(LDAvis) !== \"undefined\"){\n",
              "   // already loaded: just create the visualization\n",
              "   !function(LDAvis){\n",
              "       new LDAvis(\"#\" + \"ldavis_el139140641859102664474347477\", ldavis_el139140641859102664474347477_data);\n",
              "   }(LDAvis);\n",
              "}else if(typeof define === \"function\" && define.amd){\n",
              "   // require.js is available: use it to load d3/LDAvis\n",
              "   require.config({paths: {d3: \"https://cdnjs.cloudflare.com/ajax/libs/d3/3.5.5/d3.min\"}});\n",
              "   require([\"d3\"], function(d3){\n",
              "      window.d3 = d3;\n",
              "      LDAvis_load_lib(\"https://cdn.rawgit.com/bmabey/pyLDAvis/files/ldavis.v1.0.0.js\", function(){\n",
              "        new LDAvis(\"#\" + \"ldavis_el139140641859102664474347477\", ldavis_el139140641859102664474347477_data);\n",
              "      });\n",
              "    });\n",
              "}else{\n",
              "    // require.js not available: dynamically load d3 & LDAvis\n",
              "    LDAvis_load_lib(\"https://cdnjs.cloudflare.com/ajax/libs/d3/3.5.5/d3.min.js\", function(){\n",
              "         LDAvis_load_lib(\"https://cdn.rawgit.com/bmabey/pyLDAvis/files/ldavis.v1.0.0.js\", function(){\n",
              "                 new LDAvis(\"#\" + \"ldavis_el139140641859102664474347477\", ldavis_el139140641859102664474347477_data);\n",
              "            })\n",
              "         });\n",
              "}\n",
              "</script>"
            ],
            "text/plain": [
              "PreparedData(topic_coordinates=            Freq  cluster  topics         x         y\n",
              "topic                                                \n",
              "3      21.143177        1       1 -0.023091  0.141023\n",
              "5      18.369776        1       2  0.096649  0.048498\n",
              "6      15.248682        1       3 -0.107528  0.202428\n",
              "4      14.674014        1       4 -0.112982 -0.163065\n",
              "0      11.917589        1       5 -0.154058 -0.131336\n",
              "1       9.814881        1       6  0.285191 -0.062285\n",
              "2       8.831884        1       7  0.015820 -0.035264, topic_info=     Category         Freq         Term        Total  loglift  logprob\n",
              "term                                                                  \n",
              "319   Default  6340.000000      product  6340.000000  30.0000  30.0000\n",
              "147   Default  4672.000000        light  4672.000000  29.0000  29.0000\n",
              "952   Default  2615.000000        blade  2615.000000  28.0000  28.0000\n",
              "39    Default  3131.000000      battery  3131.000000  27.0000  27.0000\n",
              "928   Default  2179.000000        wiper  2179.000000  26.0000  26.0000\n",
              "2     Default  9494.000000          car  9494.000000  25.0000  25.0000\n",
              "529   Default  2742.000000        towel  2742.000000  24.0000  24.0000\n",
              "17    Default  2242.000000        price  2242.000000  23.0000  23.0000\n",
              "336   Default  2251.000000         tire  2251.000000  22.0000  22.0000\n",
              "168   Default  1721.000000          oil  1721.000000  21.0000  21.0000\n",
              "2584  Default  1670.000000         bulb  1670.000000  20.0000  20.0000\n",
              "1316  Default  1703.000000      leather  1703.000000  19.0000  19.0000\n",
              "525   Default  1810.000000          wax  1810.000000  18.0000  18.0000\n",
              "32    Default  1980.000000      quality  1980.000000  17.0000  17.0000\n",
              "62    Default  1610.000000        power  1610.000000  16.0000  16.0000\n",
              "963   Default  1270.000000       filter  1270.000000  15.0000  15.0000\n",
              "95    Default  2326.000000        clean  2326.000000  14.0000  14.0000\n",
              "117   Default  1147.000000       engine  1147.000000  13.0000  13.0000\n",
              "725   Default  1511.000000         hose  1511.000000  12.0000  12.0000\n",
              "927   Default   938.000000   windshield   938.000000  11.0000  11.0000\n",
              "1272  Default  1133.000000       bright  1133.000000  10.0000  10.0000\n",
              "524   Default  2705.000000        water  2705.000000   9.0000   9.0000\n",
              "757   Default  1380.000000       device  1380.000000   8.0000   8.0000\n",
              "550   Default  1238.000000         wash  1238.000000   7.0000   7.0000\n",
              "730   Default  1228.000000         unit  1228.000000   6.0000   6.0000\n",
              "643   Default  1153.000000        paint  1153.000000   5.0000   5.0000\n",
              "1187  Default   907.000000      charger   907.000000   4.0000   4.0000\n",
              "723   Default   814.000000         code   814.000000   3.0000   3.0000\n",
              "475   Default   955.000000      install   955.000000   2.0000   2.0000\n",
              "962   Default   730.000000         door   730.000000   1.0000   1.0000\n",
              "...       ...          ...          ...          ...      ...      ...\n",
              "1185   Topic7   424.670807       winter   505.461731   2.2526  -4.7314\n",
              "1012   Topic7   127.780693       vision   150.216125   2.2650  -5.9324\n",
              "936    Topic7   259.161133      weather   392.846741   2.0108  -5.2253\n",
              "534    Topic7   260.354858     original   446.545654   1.8873  -5.2207\n",
              "340    Topic7   222.457581         cold   362.730499   1.9379  -5.3780\n",
              "624    Topic7   152.985733       summer   225.406784   2.0392  -5.7524\n",
              "820    Topic7   340.229797       window   780.110474   1.5970  -4.9531\n",
              "261    Topic7   533.777405          old  1689.711670   1.2745  -4.5028\n",
              "924    Topic7   311.730774        glass   722.981567   1.5856  -5.0406\n",
              "1235   Topic7   239.638931  replacement   477.028687   1.7384  -5.3036\n",
              "382    Topic7   328.168640        month   885.292664   1.4344  -4.9892\n",
              "35     Topic7   438.155579         side  1477.705811   1.2111  -4.7002\n",
              "538    Topic7   338.859558        clear   967.822327   1.3773  -4.9571\n",
              "274    Topic7   545.789856         year  2317.310059   0.9809  -4.4805\n",
              "141    Topic7   380.857422         last  1383.743652   1.1367  -4.8403\n",
              "15     Topic7   435.130188          new  2132.450439   0.8374  -4.7071\n",
              "262    Topic7   310.272888          one  1103.637939   1.1579  -5.0453\n",
              "1025   Topic7   169.302109        style   302.441956   1.8466  -5.6510\n",
              "622    Topic7   168.188354       streak   300.242065   1.8473  -5.6576\n",
              "7      Topic7   557.692505         good  8126.021484  -0.2522  -4.4589\n",
              "21     Topic7   441.052765         time  4586.766602   0.0850  -4.6936\n",
              "495    Topic7   200.997726       design   500.037354   1.5154  -5.4794\n",
              "2      Topic7   520.210632          car  9494.460938  -0.4774  -4.5285\n",
              "290    Topic7   207.020477       driver   627.395142   1.3180  -5.4499\n",
              "111    Topic7   319.139709         easy  3532.182373   0.0228  -5.0171\n",
              "223    Topic7   287.590637         work  3309.058838  -0.0161  -5.1212\n",
              "169    Topic7   234.091522         part  1395.900269   0.6412  -5.3270\n",
              "475    Topic7   220.578003      install   955.325806   0.9610  -5.3865\n",
              "47     Topic7   230.257477          day  1421.293457   0.6067  -5.3435\n",
              "13     Topic7   233.346039         long  1771.797119   0.3996  -5.3302\n",
              "\n",
              "[437 rows x 6 columns], token_table=       Topic      Freq        Term\n",
              "term                              \n",
              "8001       7  0.997643     acdelco\n",
              "2796       4  0.684772     adapter\n",
              "2796       7  0.313786     adapter\n",
              "2088       6  0.998052    adhesive\n",
              "509        2  0.662911         air\n",
              "509        5  0.336860         air\n",
              "1686       3  0.988734        alot\n",
              "84         3  0.837086      amazon\n",
              "84         4  0.057651      amazon\n",
              "84         5  0.071487      amazon\n",
              "84         7  0.032284      amazon\n",
              "85         4  0.997211         amp\n",
              "6281       7  0.997189        anco\n",
              "6891       5  0.998472         app\n",
              "607        1  0.466526        area\n",
              "607        2  0.105107        area\n",
              "607        3  0.040567        area\n",
              "607        6  0.300568        area\n",
              "607        7  0.086667        area\n",
              "1578       7  0.996823         arm\n",
              "2031       7  0.984294     audible\n",
              "88         1  0.089456        auto\n",
              "88         3  0.745469        auto\n",
              "88         4  0.042864        auto\n",
              "88         5  0.121139        auto\n",
              "2878       4  0.101143   automatic\n",
              "2878       5  0.898529   automatic\n",
              "2010       6  0.993560     backing\n",
              "38         2  0.983468         bag\n",
              "38         4  0.015130         bag\n",
              "...      ...       ...         ...\n",
              "927        7  0.999305  windshield\n",
              "1185       4  0.158271      winter\n",
              "1185       7  0.840815      winter\n",
              "535        1  0.841607        wipe\n",
              "535        7  0.156974        wipe\n",
              "928        7  0.999651       wiper\n",
              "80         4  0.998232        wire\n",
              "2600       4  0.998173      wiring\n",
              "223        1  0.168628        work\n",
              "223        2  0.223024        work\n",
              "223        3  0.262310        work\n",
              "223        4  0.098215        work\n",
              "223        5  0.059231        work\n",
              "223        6  0.101842        work\n",
              "223        7  0.087034        work\n",
              "225        1  0.079150       worth\n",
              "225        2  0.049201       worth\n",
              "225        3  0.759412       worth\n",
              "225        4  0.032088       worth\n",
              "225        5  0.080220       worth\n",
              "2367       6  0.989773    wrangler\n",
              "2129       2  0.996307        wrap\n",
              "2597       3  0.997510      wrench\n",
              "274        1  0.248133        year\n",
              "274        2  0.035386        year\n",
              "274        3  0.223535        year\n",
              "274        4  0.126871        year\n",
              "274        5  0.130755        year\n",
              "274        7  0.235618        year\n",
              "16268      5  0.996310       zubie\n",
              "\n",
              "[725 rows x 3 columns], R=30, lambda_step=0.01, plot_opts={'xlab': 'PC1', 'ylab': 'PC2'}, topic_order=[4, 6, 7, 5, 1, 2, 3])"
            ]
          },
          "metadata": {
            "tags": []
          },
          "execution_count": 53
        }
      ]
    },
    {
      "metadata": {
        "id": "3Ei4pqfr0v_3",
        "colab_type": "code",
        "colab": {
          "base_uri": "https://localhost:8080/",
          "height": 255
        },
        "outputId": "1983f434-694d-45b4-ea1d-05c5179b0d8f"
      },
      "cell_type": "code",
      "source": [
        "lda_model.print_topics()"
      ],
      "execution_count": 54,
      "outputs": [
        {
          "output_type": "execute_result",
          "data": {
            "text/plain": [
              "[(0,\n",
              "  '0.030*\"car\" + 0.026*\"oil\" + 0.020*\"filter\" + 0.018*\"engine\" + 0.016*\"device\" + 0.013*\"code\" + 0.012*\"vehicle\" + 0.011*\"app\" + 0.011*\"change\" + 0.008*\"bosch\"'),\n",
              " (1,\n",
              "  '0.017*\"easy\" + 0.014*\"install\" + 0.014*\"door\" + 0.013*\"tape\" + 0.013*\"jeep\" + 0.011*\"front\" + 0.011*\"mat\" + 0.010*\"side\" + 0.010*\"headlight\" + 0.008*\"fit\"'),\n",
              " (2,\n",
              "  '0.054*\"blade\" + 0.045*\"wiper\" + 0.019*\"windshield\" + 0.014*\"rain\" + 0.012*\"snow\" + 0.012*\"good\" + 0.011*\"year\" + 0.011*\"old\" + 0.011*\"car\" + 0.009*\"time\"'),\n",
              " (3,\n",
              "  '0.044*\"car\" + 0.024*\"towel\" + 0.020*\"product\" + 0.018*\"clean\" + 0.017*\"good\" + 0.016*\"wax\" + 0.014*\"water\" + 0.013*\"use\" + 0.011*\"time\" + 0.011*\"wash\"'),\n",
              " (4,\n",
              "  '0.051*\"light\" + 0.039*\"battery\" + 0.021*\"bulb\" + 0.019*\"power\" + 0.018*\"car\" + 0.014*\"bright\" + 0.013*\"unit\" + 0.011*\"charger\" + 0.010*\"phone\" + 0.010*\"charge\"'),\n",
              " (5,\n",
              "  '0.022*\"tire\" + 0.015*\"hose\" + 0.013*\"use\" + 0.012*\"good\" + 0.010*\"easy\" + 0.010*\"pressure\" + 0.009*\"small\" + 0.009*\"trailer\" + 0.008*\"nice\" + 0.008*\"water\"'),\n",
              " (6,\n",
              "  '0.048*\"product\" + 0.038*\"good\" + 0.027*\"price\" + 0.020*\"great\" + 0.020*\"leather\" + 0.019*\"quality\" + 0.010*\"work\" + 0.010*\"review\" + 0.009*\"amazon\" + 0.009*\"worth\"')]"
            ]
          },
          "metadata": {
            "tags": []
          },
          "execution_count": 54
        }
      ]
    },
    {
      "metadata": {
        "id": "RQiNHY--0ylL",
        "colab_type": "code",
        "colab": {}
      },
      "cell_type": "code",
      "source": [
        ""
      ],
      "execution_count": 0,
      "outputs": []
    }
  ]
}